{
 "cells": [
  {
   "cell_type": "markdown",
   "id": "3dc45e4f",
   "metadata": {},
   "source": [
    "# NLP - basic techniques to analyse text data\n",
    "\n",
    "Natural Language Processing (NLP) is a branch of artificial intelligence that deals with the interaction between computers and humans using natural language. It allows computers to read, understand, interpret, and derive meaning from human languages in a valuable and structured manner. NLP stands at the intersection of computer science, artificial intelligence, and computational linguistics, aiming to build computational models of human language understanding for the development of various practical applications.\n",
    "\n",
    "The importance of NLP in data science cannot be overstated. As we generate vast amounts of data in textual form each day, from social media posts and product reviews to emails and support tickets, NLP provides the tools and techniques necessary to make sense of this data. By transforming unstructured text into structured data, NLP allows us to analyze and extract insights from human language, providing valuable context to support decision-making processes.\n",
    "\n",
    "NLP is a very large and active field. Here we will only cover a few basics to make the first steps towards applying modern NLP techniques in data science workflows."
   ]
  },
  {
   "cell_type": "markdown",
   "id": "b9f84af2",
   "metadata": {},
   "source": [
    "## Example areas for the use of NLP techniques\n",
    "Just to get an idea of how broad as well as how relevant NLP is, here some of the most common applications:\n",
    "\n",
    "1. **Text Classification**: This NLP application is tasked with assigning predefined categories or tags to text. With its automatic text analysis capabilities, it streamlines the process of organizing and categorizing text, proving essential for tasks such as spam detection, content filtering, and topic labeling.\n",
    "\n",
    "2. **Sentiment Analysis**: employs NLP to identify and quantify subjective information within a text. This technique measures the sentiment or emotional tone behind words, for instance to help businesses understand customer sentiments towards products, services, or brand topics.\n",
    "\n",
    "3. **Summarization and Topic Modeling**: These techniques involve distilling large volumes of text into concise summaries or extracting the main topics from a document or a collection of documents. By automatically identifying key points and themes, these applications can make a large corpus of text more accessible and digestible.\n",
    "\n",
    "4. **Spell Checking**: This is a commonly used application that proofreads text for spelling errors. By comparing words against a dictionary of correctly spelled words, spell checking tools can suggest corrections, thus enhancing the clarity and credibility of the written text.\n",
    "\n",
    "5. **Machine Translation**: This complex NLP task involves translating text from one language to another. With the ability to handle vast amounts of information, machine translation systems can greatly expedite multilingual communication and overcome language barriers. This technology is, for instance, used to handle large volumes of information that would be impractical to translate manually.\n",
    "\n",
    "6. **Chatbots**: NLP plays a pivotal role in the functioning of chatbots, enabling them to understand human language, interpret user queries, and respond in a conversational manner. By leveraging NLP, chatbots can deliver customer service, provide information, and even entertain, all in real time. As every reader will know, this field has seen several breakthroughs in recent years."
   ]
  },
  {
   "cell_type": "markdown",
   "id": "4ae570b9",
   "metadata": {},
   "source": [
    "## Python NLP libraries\n",
    "\n",
    "There are several Python libraries that are popularly used for modern Natural Language Processing (NLP) tasks. Here are a few of the most commonly used ones:\n",
    "\n",
    "1. **NLTK (Natural Language Toolkit)**: This is a widely used library for symbolic and statistical NLP. It provides easy-to-use interfaces to over 50 corpora and lexical resources, such as WordNet. NLTK also includes text processing libraries for classification, tokenization, stemming, tagging, parsing, and semantic reasoning. It's excellent for teaching and working with the basics of NLP.\n",
    "2. **SpaCy**: This library is known for its advanced NLP capabilities and efficient performance. SpaCy is designed to handle large volumes of text, and its features include named entity recognition, part-of-speech tagging, dependency parsing, and sentence segmentation. Its flexibility and speed make it ideal for production-grade NLP tasks.\n",
    "3. **Gensim**: This is a robust open-source vector space modeling and topic modeling toolkit. Gensim is designed to handle large text collections using data streaming and incremental algorithms, which is different from most other scientific software packages that only target batch and in-memory processing. It's especially good for tasks that involve topic modeling and document similarity analysis.\n",
    "4. **TextBlob**: This library simplifies text processing tasks by providing a consistent API for diving into common NLP tasks such as part-of-speech tagging, noun phrase extraction, sentiment analysis, and more. TextBlob is very beginner-friendly and is an excellent choice for basic NLP tasks and for people getting started with NLP in Python.\n",
    "5. **Transformers (by Hugging Face)**: This library is based on the transformer architecture (like BERT, GPT-2, RoBERTa, XLM, etc) and has pre-trained models for many NLP tasks. It offers simple, yet powerful, APIs for performing tasks such as text classification, named entity recognition, translation, summarization, and more. It is a go-to library for state-of-the-art NLP (but clearly beyond the NLP basics that we will cover here).\n",
    "\n",
    "Here, we will work with **SpaCy** and **NLTK**."
   ]
  },
  {
   "cell_type": "code",
   "execution_count": 4,
   "id": "c6cabdf7",
   "metadata": {},
   "outputs": [],
   "source": [
    "#!pip install nltk\n",
    "#!pip install spacy"
   ]
  },
  {
   "cell_type": "code",
   "execution_count": 5,
   "id": "6874ac61",
   "metadata": {},
   "outputs": [],
   "source": [
    "import os\n",
    "from matplotlib import pyplot as plt\n",
    "\n",
    "# NLP related libraries to work with text data\n",
    "import nltk\n",
    "import spacy"
   ]
  },
  {
   "cell_type": "markdown",
   "id": "78a194a7",
   "metadata": {},
   "source": [
    "## Tokenization, Stemming, Lemmatization\n",
    "Before we dive into any complex operations with text data, we must first prepare it by dividing it into smaller, more manageable units. Similar to how we break down a paragraph into sentences and sentences into words when reading, we apply the same concept in Natural Language Processing (NLP) - but in a slightly different manner. This process is called tokenization.\n",
    "\n",
    "1. **Tokenization**: This is the first step in many NLP  pipelines. Tokenization is the process of breaking up the original raw  text into smaller pieces, known as tokens. These tokens help us  understand the context in which they're used and draw meaning from them. Tokens are often words, but they can also be phrases, sentences, or  other units, depending on the level of detail needed. For example, the  sentence \"This is an example sentence\" would be tokenized into ['This',  'is', 'an', 'example', 'sentence'].\n",
    "\n",
    "Following tokenization, the resulting tokens often need to be normalized, a process that refines these tokens to improve their usefulness in further analysis.\n",
    "\n",
    "2. **Token Normalization**: Token normalization is a process that includes converting all text to the same case (usually lower), removing punctuation, and similar tasks. The process involves two major techniques: stemming and lemmatization.\n",
    "   - **Stemming**: Stemming is the method of reducing inflected or derived words to their base or root form. For example, \"running\", \"runs\", and \"ran\" are all variations of the word \"run\", so stemming reduces them all to \"run\". However, stemming can sometimes be too crude, often cutting off the end of words in a way that leaves a base that isn't a real word. For example, \"argument\" might be stemmed to \"argu.\"\n",
    "   - **Lemmatization**: Lemmatization, on the other hand, is a more sophisticated process. While it has the same goal as stemming—to reduce a word to its base form—it uses a detailed lexicon and morphological analysis of words to achieve this. For example, lemmatization correctly identifies that the lemma for \"better\" is \"good\". While it is more accurate than stemming, it is also more computationally intensive.\n",
    "\n",
    "Tokenization, followed by token normalization, forms the initial preprocessing steps for most NLP tasks. They transform raw text data into a more digestible and analyzable format, preparing the ground for more advanced NLP techniques."
   ]
  },
  {
   "cell_type": "code",
   "execution_count": 7,
   "id": "b224f4a9",
   "metadata": {},
   "outputs": [],
   "source": [
    "#nltk.download('wordnet')\n",
    "#nltk.download('omw-1.4')\n",
    "#nltk.download('punkt')"
   ]
  },
  {
   "cell_type": "markdown",
   "id": "0f23a23a",
   "metadata": {},
   "source": [
    "## NLTK\n",
    "Here, we demonstrate the NLTK processes of tokenization, stemming, and lemmatization.\n",
    "\n",
    "#### Tokenization\n",
    "Tokenization is the process of splitting a large paragraph or text into sentences or words. These sentences or words are known as tokens. This is a crucial step in NLP as we often deal with words in text data.\n",
    "\n",
    "In this block of code, we import NLTK and define a string of text. The text contains a list of words with different grammatical forms. Using NLTK's `TreebankWordTokenizer`, we break down the text into individual words, or \"tokens\". The output is a list of these tokens."
   ]
  },
  {
   "cell_type": "code",
   "execution_count": 21,
   "id": "189d1ad5",
   "metadata": {},
   "outputs": [
    {
     "name": "stdout",
     "output_type": "stream",
     "text": [
      "['feet', 'cats', 'wolves', 'talking', 'talked', '?']\n"
     ]
    }
   ],
   "source": [
    "text = \"feet cats wolves talking talked?\"\n",
    "\n",
    "tokenizer = nltk.tokenize.TreebankWordTokenizer()\n",
    "tokens = tokenizer.tokenize(text)\n",
    "print(tokens)"
   ]
  },
  {
   "cell_type": "markdown",
   "id": "9b9fd394",
   "metadata": {},
   "source": [
    "#### Stemming\n",
    "Stemming is a process of reducing inflected (or sometimes derived) words to their word stem or root form—generally a written word form. The stem need not be identical to the morphological root of the word.\n",
    "\n",
    "Here, we create a `PorterStemmer` object and use it to find the root stem of each word in our list of tokens. The result is a list of these stems. You'll notice that the stems aren't always valid words (like 'wolv' for 'wolves'), as stemming operates on a rule-based approach without understanding the context."
   ]
  },
  {
   "cell_type": "code",
   "execution_count": 22,
   "id": "dcecb0ba",
   "metadata": {},
   "outputs": [
    {
     "name": "stdout",
     "output_type": "stream",
     "text": [
      "['feet', 'cat', 'wolv', 'talk', 'talk', '?']\n"
     ]
    }
   ],
   "source": [
    "stemmer = nltk.stem.PorterStemmer()\n",
    "print([stemmer.stem(w) for w in tokens])"
   ]
  },
  {
   "cell_type": "markdown",
   "id": "e3b5222a",
   "metadata": {},
   "source": [
    "#### Lemmatization\n",
    "Lemmatization is the process of reducing inflected words to their word base or dictionary form. It's similar to stemming but is more accurate as it takes the context and meaning of the word into consideration.\n",
    "\n",
    "Instead of the `PorterStemmer`, we use NLTK's `WordNetLemmatizer` to find the dictionary base form (or lemma) of each word. This results in a list of lemmas. As you can see, lemmatization provides a more accurate root form ('wolf' for 'wolves') as compared to stemming."
   ]
  },
  {
   "cell_type": "code",
   "execution_count": 23,
   "id": "28994800",
   "metadata": {},
   "outputs": [
    {
     "name": "stdout",
     "output_type": "stream",
     "text": [
      "['foot', 'cat', 'wolf', 'talking', 'talked', '?']\n"
     ]
    }
   ],
   "source": [
    "stemmer = nltk.stem.WordNetLemmatizer()\n",
    "print([stemmer.lemmatize(w) for w in tokens])"
   ]
  },
  {
   "cell_type": "markdown",
   "id": "e03909d9",
   "metadata": {},
   "source": [
    "## NLP for languages other than English\n",
    "Natural Language Processing (NLP) is a truly global discipline, extending its reach to languages far beyond just English. \n",
    "\n",
    "However, it's worth noting that the effectiveness and ease of applying NLP techniques may vary across languages. For instance, languages with complex morphology like Finnish or Turkish, or those with little word delimitation like Chinese, can present unique challenges. Furthermore, resources and pre-trained models, especially those for machine learning, are more readily available for some languages, particularly English, than for others.\n",
    "\n",
    "#### Let's try some German"
   ]
  },
  {
   "cell_type": "code",
   "execution_count": 24,
   "id": "d8d674b2",
   "metadata": {},
   "outputs": [
    {
     "name": "stdout",
     "output_type": "stream",
     "text": [
      "['fuss', 'katz', 'wolf', 'sprech', 'gesproch', '?']\n"
     ]
    }
   ],
   "source": [
    "text = \"Füsse Katzen Wölfe sprechen gesprochen?\"  # Not an actual German sentence. Only some words for illustrative purposes.\n",
    "\n",
    "tokenizer = nltk.tokenize.TreebankWordTokenizer()\n",
    "tokens = tokenizer.tokenize(text)\n",
    "tokens\n",
    "\n",
    "stemmer = nltk.stem.SnowballStemmer(\"german\")\n",
    "print([stemmer.stem(token) for token in tokens])"
   ]
  },
  {
   "attachments": {},
   "cell_type": "markdown",
   "id": "4ca88326",
   "metadata": {},
   "source": [
    "## Applying SpaCy Models for Lemmatization\n",
    "\n",
    "**SpaCy** is a highly versatile and efficient Python library for Natural Language Processing (NLP). It offers comprehensive and advanced functionalities, outperforming NLTK in terms of efficiency and speed. You can find extensive details in [SpaCy's official documentation](https://spacy.io/usage/spacy-101).\n",
    "\n",
    "Having familiarized ourselves with the concept of lemmatization, let's now explore its practical application using SpaCy.\n",
    "\n",
    "Initially, you need to ensure that SpaCy and the relevant language models are installed in your environment. In the case of English, `en_core_web_sm` is a suitable model, whereas for German, `de_core_news_sm` can be utilized. SpaCy offers a variety of models for different languages which you can explore on the [SpaCy models page](https://spacy.io/usage/models/).\n",
    "\n",
    "\n",
    "Installation of SpaCy and downloading of language models can be performed via the following terminal commands:\n",
    "```bash\n",
    "pip install spacy\n",
    "python -m spacy download en_core_web_sm\n",
    "python -m spacy download de_core_news_sm\n",
    "```"
   ]
  },
  {
   "cell_type": "markdown",
   "id": "e45932b5",
   "metadata": {},
   "source": [
    "Download the required language models first:"
   ]
  },
  {
   "cell_type": "code",
   "execution_count": 34,
   "id": "5c9a18f9",
   "metadata": {},
   "outputs": [],
   "source": [
    "# Uncomment these lines to download the models\n",
    "#!python -m spacy download en_core_web_sm\n",
    "#!python -m spacy download de_core_news_sm"
   ]
  },
  {
   "cell_type": "markdown",
   "id": "f0dafb1a",
   "metadata": {},
   "source": [
    "Now that the models are installed, we can load the desired one:"
   ]
  },
  {
   "cell_type": "code",
   "execution_count": 17,
   "id": "76ba859f",
   "metadata": {},
   "outputs": [],
   "source": [
    "#nlp = spacy.load('de_core_news_lg')  # large german language model\n",
    "nlp = spacy.load('de_core_news_sm')  # small german lanugage model "
   ]
  },
  {
   "cell_type": "markdown",
   "id": "7a24bd5c",
   "metadata": {},
   "source": [
    "Let's now define a text and pass it through the loaded model:"
   ]
  },
  {
   "cell_type": "code",
   "execution_count": 25,
   "id": "6ab6ef8b",
   "metadata": {},
   "outputs": [],
   "source": [
    "text = \"Füsse Katzen Wölfe sprechen gesprochen?\"\n",
    "doc = nlp(text)  # create NLP object"
   ]
  },
  {
   "cell_type": "code",
   "execution_count": 29,
   "id": "578056f7",
   "metadata": {},
   "outputs": [
    {
     "data": {
      "text/plain": [
       "Füsse Katzen Wölfe sprechen gesprochen?"
      ]
     },
     "execution_count": 29,
     "metadata": {},
     "output_type": "execute_result"
    }
   ],
   "source": [
    "doc"
   ]
  },
  {
   "cell_type": "markdown",
   "id": "5c947744",
   "metadata": {},
   "source": [
    "#### Tokenization\n",
    "By passing the text through the loaded NLP model, SpaCy already performs tokenization and a host of other operations under the hood: "
   ]
  },
  {
   "cell_type": "code",
   "execution_count": 30,
   "id": "36ff5db4",
   "metadata": {},
   "outputs": [
    {
     "data": {
      "text/plain": [
       "['Füsse', 'Katzen', 'Wölfe', 'sprechen', 'gesprochen', '?']"
      ]
     },
     "execution_count": 30,
     "metadata": {},
     "output_type": "execute_result"
    }
   ],
   "source": [
    "[token.text for token in doc]"
   ]
  },
  {
   "cell_type": "markdown",
   "id": "887d69a1",
   "metadata": {},
   "source": [
    "#### Lemmatization\n",
    "Unlike **NLTK**, SpaCy has not option for **stemming**. But it provides many different language models (for many different languages) that allow for good **lemmatization**."
   ]
  },
  {
   "cell_type": "code",
   "execution_count": 27,
   "id": "f7102756",
   "metadata": {},
   "outputs": [
    {
     "data": {
      "text/plain": [
       "['Fuß', 'Katze', 'Wölfe', 'sprechen', 'sprechen', '--']"
      ]
     },
     "execution_count": 27,
     "metadata": {},
     "output_type": "execute_result"
    }
   ],
   "source": [
    "[token.lemma_ for token in doc]"
   ]
  },
  {
   "cell_type": "markdown",
   "id": "8ed99490",
   "metadata": {},
   "source": [
    "Each word in the text is replaced with its base form or lemma, taking into account its usage in the sentence. This helps in text normalization, a critical step in text preprocessing for NLP tasks."
   ]
  },
  {
   "cell_type": "markdown",
   "id": "cc1961e1",
   "metadata": {},
   "source": [
    "## Apply tokenization and lemmatization\n",
    "\"War of the worlds\" von H.G. Wells\n",
    "\n",
    "Im Folgenden arbeiten wir mit dem Text des Buches \"War of the Worlds\" von H.G. Wells (frei verfügbar über das Gutenberg Projekt, die Datei steht auf Moodle)."
   ]
  },
  {
   "cell_type": "code",
   "execution_count": 37,
   "id": "2a4fe3b8",
   "metadata": {},
   "outputs": [],
   "source": [
    "# Define the filename and open the file\n",
    "filename = \"../datasets/wells_war_of_the_worlds.txt\"\n",
    "with open(filename, \"r\", encoding=\"utf-8\") as file:\n",
    "    text = file.read()\n",
    "\n",
    "# Perform some basic cleaning: replace newline characters with spaces\n",
    "text = text.replace(\"\\n\", \" \")"
   ]
  },
  {
   "cell_type": "code",
   "execution_count": 39,
   "id": "56cdda8c",
   "metadata": {},
   "outputs": [
    {
     "data": {
      "text/plain": [
       "338168"
      ]
     },
     "execution_count": 39,
     "metadata": {},
     "output_type": "execute_result"
    }
   ],
   "source": [
    "# How many characters?\n",
    "len(text)"
   ]
  },
  {
   "cell_type": "code",
   "execution_count": 40,
   "id": "6903e0cf",
   "metadata": {},
   "outputs": [
    {
     "data": {
      "text/plain": [
       "'The Project Gutenberg eBook of The War of the Worlds, by H. G. Wells  This eBook is for the use of anyone anywhere in the United States and most other parts of the world at no cost and with almost no restrictions whatsoever. You may copy it, give it away or re-use it under the terms of the Project Gutenberg License included with this eBook or online at www.gutenberg.org. If you are not located in the United States, you will have to check the laws of the country where you are located before using this eBook.  Title: The War of the Worlds  Author: H. G. Wells  Release Date: July 1992 [eBook #36] [Most recently updated: November 27, 2021]  Language: English   *** START OF THE PROJECT GUTENBERG EBOOK THE WAR OF THE WORLDS ***  cover      The War of the Worlds  by H. G. Wells        ‘But who shall dwell in these worlds if they be inhabited?     . . . Are we or they Lords of the World? . . . And     how are all things made for man?’                     KEPLER (quoted in _The Anatomy of Melan'"
      ]
     },
     "execution_count": 40,
     "metadata": {},
     "output_type": "execute_result"
    }
   ],
   "source": [
    "# Have a look at the first part of the text\n",
    "text[:1000]"
   ]
  },
  {
   "cell_type": "code",
   "execution_count": 41,
   "id": "eb34d4c3",
   "metadata": {},
   "outputs": [],
   "source": [
    "# Load the English language model\n",
    "nlp = spacy.load('en_core_web_sm') \n",
    "\n",
    "# Create an NLP object by processing the text\n",
    "doc = nlp(text) "
   ]
  },
  {
   "cell_type": "code",
   "execution_count": 42,
   "id": "bb07e8a4",
   "metadata": {},
   "outputs": [
    {
     "name": "stdout",
     "output_type": "stream",
     "text": [
      "['The', 'Project', 'Gutenberg', 'eBook', 'of', 'The', 'War', 'of', 'the', 'Worlds', ',', 'by', 'H.', 'G.', 'Wells', ' ', 'This', 'eBook', 'is', 'for']\n"
     ]
    }
   ],
   "source": [
    "# Tokenization: split the text into individual tokens (words)\n",
    "tokens = [token.text for token in doc]\n",
    "print(tokens[:20]) "
   ]
  },
  {
   "cell_type": "markdown",
   "id": "ba2218ba",
   "metadata": {},
   "source": [
    "Now that we have all tokens of our book, we can obviously count the number of tokens (which is not the number of words!). But we can also look at how many different tokens there are by using the Python `set()` function."
   ]
  },
  {
   "cell_type": "code",
   "execution_count": 43,
   "id": "5566ff2d",
   "metadata": {},
   "outputs": [
    {
     "name": "stdout",
     "output_type": "stream",
     "text": [
      "Total tokens: 71440\n",
      "Unique tokens: 7292\n"
     ]
    }
   ],
   "source": [
    "# Print the total number of tokens and the number of unique tokens\n",
    "print(f\"Total tokens: {len(tokens)}\")\n",
    "print(f\"Unique tokens: {len(set(tokens))}\")"
   ]
  },
  {
   "cell_type": "markdown",
   "id": "415ab883",
   "metadata": {},
   "source": [
    "Let us now do the same, but with **lemmatization**."
   ]
  },
  {
   "cell_type": "code",
   "execution_count": 52,
   "id": "35e908ac",
   "metadata": {},
   "outputs": [
    {
     "name": "stdout",
     "output_type": "stream",
     "text": [
      "['the', 'Project', 'Gutenberg', 'eBook', 'of', 'the', 'War', 'of', 'the', 'Worlds', ',', 'by', 'H.', 'G.', 'Wells', ' ', 'this', 'eBook', 'be', 'for', 'the', 'use', 'of', 'anyone', 'anywhere', 'in', 'the', 'United', 'States', 'and', 'most', 'other', 'part', 'of', 'the', 'world', 'at', 'no', 'cost', 'and']\n"
     ]
    }
   ],
   "source": [
    "# Lemmatization: reduce each token to its base or root form\n",
    "lemmas = [token.lemma_ for token in doc]\n",
    "print(lemmas[:40])"
   ]
  },
  {
   "cell_type": "markdown",
   "id": "62cea1fb",
   "metadata": {},
   "source": [
    "We can also select tokens more specifically by using one of many attributes or methods from SpaCy (see [documentation](https://spacy.io/api/token/)). \n",
    "\n",
    "For instance: \n",
    "- `.is_punct` returns `True` if a token is a punctuation.\n",
    "- `.is_alpha` returns `True`if a token contains alphabetic characters\n",
    "- `.is_stop` returns `True` if word belongs to a so called \"stop list\" (less important words, we will come to this later)\n",
    "\n",
    "Since we here only want to count words:"
   ]
  },
  {
   "cell_type": "code",
   "execution_count": 62,
   "id": "2c121124",
   "metadata": {},
   "outputs": [
    {
     "name": "stdout",
     "output_type": "stream",
     "text": [
      "['the', 'Project', 'Gutenberg', 'eBook', 'of', 'the', 'War', 'of', 'the', 'Worlds', 'by', 'Wells', 'this', 'eBook', 'be', 'for', 'the', 'use', 'of', 'anyone', 'anywhere', 'in', 'the', 'United', 'States', 'and', 'most', 'other', 'part', 'of', 'the', 'world', 'at', 'no', 'cost', 'and', 'with', 'almost', 'no', 'restriction']\n"
     ]
    }
   ],
   "source": [
    "lemmas = [token.lemma_ for token in doc if token.is_alpha]\n",
    "print(lemmas[:40])"
   ]
  },
  {
   "cell_type": "code",
   "execution_count": 63,
   "id": "7ee8d147",
   "metadata": {},
   "outputs": [
    {
     "name": "stdout",
     "output_type": "stream",
     "text": [
      "Total lemmas: 60629\n",
      "Unique lemmas: 5589\n"
     ]
    }
   ],
   "source": [
    "# Print the total number of lemmas and the number of unique lemmas\n",
    "print(f\"Total lemmas: {len(lemmas)}\")\n",
    "print(f\"Unique lemmas: {len(set(lemmas))}\")"
   ]
  },
  {
   "cell_type": "markdown",
   "id": "f71603d5",
   "metadata": {},
   "source": [
    "By doing this, we are effectively shrinking the size of the dataset we are working with, while still retaining the essential meaning. It's worth noting that we also removed \"stop words\" - common words such as \"and\", \"the\", \"a\" - during lemmatization, which usually do not contain important information and are often removed in NLP.\n",
    "\n",
    "In the following steps, we could now investigate which words are the most common ones, we could identify named entities (such as people or places) or use this text data to train a machine learning model (like a text classifier or a sentiment analysis model)."
   ]
  },
  {
   "cell_type": "markdown",
   "id": "f881028c",
   "metadata": {},
   "source": [
    "## Mini-Exercise!\n",
    "Why do we get more tokens than lemmas?\n",
    "Have a look at both and find the answer!"
   ]
  },
  {
   "cell_type": "markdown",
   "id": "29818729",
   "metadata": {},
   "source": [
    "## Chapter Summary and Outlook\n",
    "\n",
    "Throughout this chapter, we delved into the world of Natural Language Processing (NLP), exploring several key techniques for handling and processing text data effectively:\n",
    "\n",
    "- **Cleaning:** This is often the first step in processing text data, involving tasks like removing URLs, Emojis, and special characters, or replacing unwanted line breaks (`\"\\n\"`).\n",
    "- **Tokenization:** This involves breaking down text into smaller parts called tokens. Tokens can be as small as individual words or can even correspond to sentences or paragraphs, depending on the level of analysis required.\n",
    "- **Stemming:** Words can appear in different forms depending on gender, number, person, tense, and so on. Stemming involves reducing these words to their root or stem form. For example, the word \"finding\" could be stemmed to \"find\". This process is heuristic and sometimes may lead to non-meaningful stems.\n",
    "- **Lemmatization:** Similar to stemming, lemmatization aims to reduce words to their base form, but with a more sophisticated approach that takes vocabulary and morphological analysis into account. Lemmatization ensures that only the inflectional endings are removed, thus isolating the canonical form of a word known as a lemma. For example, \"found\" would be lemmatized to \"find\".\n",
    "- **Other Operations:** These could include removing numbers, punctuation marks, symbols, and stop words (commonly used words like \"and\", \"the\", \"a\", etc.), as well as converting text to lowercase for uniformity.\n",
    "\n",
    "We've also discussed the application of these concepts using powerful Python libraries like NLTK and SpaCy, which provide intuitive and efficient tools for dealing with NLP tasks."
   ]
  },
  {
   "cell_type": "code",
   "execution_count": null,
   "id": "c3ade0b9",
   "metadata": {},
   "outputs": [],
   "source": []
  }
 ],
 "metadata": {
  "kernelspec": {
   "display_name": "Python 3 (ipykernel)",
   "language": "python",
   "name": "python3"
  },
  "language_info": {
   "codemirror_mode": {
    "name": "ipython",
    "version": 3
   },
   "file_extension": ".py",
   "mimetype": "text/x-python",
   "name": "python",
   "nbconvert_exporter": "python",
   "pygments_lexer": "ipython3",
   "version": "3.9.16"
  }
 },
 "nbformat": 4,
 "nbformat_minor": 5
}
