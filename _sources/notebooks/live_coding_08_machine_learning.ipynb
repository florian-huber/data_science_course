{
 "cells": [
  {
   "cell_type": "markdown",
   "id": "c627c46e",
   "metadata": {},
   "source": [
    "# Machine Learning\n",
    "There is still a lot of confusion about terms like **artificial intelligence** (or: **A.I.**), **machine learning**, and **deep learning**.\n",
    "The aim of this course is not to give a full in-depth introduction to all those topics, because this clearly demands one (or usually: multiple) courses on its own.\n",
    "\n",
    "However, what this section should show is, that the underlying idea of machine learning is often quite approachable. And the some of the respective techniques can be used with relative ease, at least from the code perspective. If you haven't learnt the basics of machine learning before, it is unlikely that this section will make you feel like you have mastered the art. But, again, this is not the main goal.\n",
    "\n",
    "Machine learning is a subfield of *artificial intelligence* (see {numref}`fig_dimensionality_reduction01`), which often makes this sound very intimidating at first. In its full complexity, this is indeed hard to master. But it is important to note at this point, that machine learning itself can also be seen as *just another tool* that we have as data scientists. In fact, many of its techniques are no more complicated or complex than methods in dimensionality reduction or clustering that we have seen in the last chapters (some even consider those as part of machine learning, but I will skip this discussion for now)."
   ]
  },
  {
   "cell_type": "markdown",
   "id": "0e3e80df-b907-4d26-a856-acbff5933b4f",
   "metadata": {},
   "source": [
    "```{figure} ../images/fig_ai_vs_ml_vs_deep_learning.png\n",
    ":name: fig_ai_vs_ml_vs_dl\n",
    "\n",
    "Machine Learning is a field of techniques that belongs to *artificial intelligence*. Currently, machine learning is even the main representation of artificial intelligence with *deep learning* being the most prominent subset. Here, however, we will focus on more classical machine learning techniques (no worries, those remain equally important in real-life practice!).\n",
    "```"
   ]
  },
  {
   "cell_type": "markdown",
   "id": "cb32bef6-6667-47a5-9f68-8ea222f2b657",
   "metadata": {},
   "source": [
    "The key idea behind machine learning is that we use algorithms that *\"learn from data\"*. Learning here is nothing magic and typically means something very different from our everyday use of the word \"learning\" in a human context. Learning here simply means that the rules by which a program decides on its outcome or behavior are no longer *hard-coded* by a person, but they are automatically searched and optimized.\n",
    "\n",
    "To give you an idea of how simple this \"learning\" can be: Imagine we have two highly correlated features, for instance the shoe size and the height of of many people. We could than automatically find a good linear fit function and then use this to make predictions for new data entries. Say, you find footprints of size 47 after a robery, then your new \"machine learning model\" (yes, that's simply the linear fit!) can predict the height of that person ({numref}`fig_predictions_already_done`**A**). The prediction is probably not perfect, but we have good reasons to believe that it most likely won't be too far off either.\n",
    "\n",
    "Or, think of several chat messages that we clustered into \"spam\", \"negative\", and \"positive\" and which is nicely reflected by their position in a 2D plot after dimensionality reduction ({numref}`fig_predictions_already_done`**B**). If we now receive a new message which ends up clearly within the \"positive\" cluster, then we can obviously risk the first best guess of saying that this might be a positive message as well. Again, we could be wrong, but based on the data we have, this simply seems to be the best guess we can do. \n",
    "\n",
    "So, when is this going to be called *machine learning*?\n",
    "When we have an algorithm that does this guessing based on the data for us it is machine learning. If we do the guessing, it is not machine learning."
   ]
  },
  {
   "cell_type": "markdown",
   "id": "6adcf06d-7ab1-49c2-96d8-5d7ead2099de",
   "metadata": {},
   "source": [
    "```{figure} ../images/fig_predictions_already_done.png\n",
    ":name: fig_predictions_already_done\n",
    "\n",
    "Even before coming to this chapter, we have already worked with techniques that would actually allow to make predictions on the basis of known data points. **A**, when we looked at (high) correlations this already implied that there is a more or less reliable link between different features. **B**, when we think of clustering and dimensionality reduction it seems rather obvious that we could make predictions for new datapoints based on their lower dimensional position!\n",
    "```"
   ]
  },
  {
   "cell_type": "markdown",
   "id": "d3298670-ebd1-4a4b-8827-7725069806d3",
   "metadata": {},
   "source": [
    "Before we have a look at some actual machine learning techniques, we should look at one key distinction to make. In machine learning we distinguish two types of tasks that a model can do. **Classification** means that models will predict the class of unknown datapoints based on what they \"learned\" from **labeled data**. Labeled data means that this is data for which we *know* the true labels (also called: targets or ground truth).\n",
    "\n",
    "**Regression** means that models will predict one (or multiple) numerical values for unknown datapoints, see {numref}`fig_classification_regression`."
   ]
  },
  {
   "cell_type": "markdown",
   "id": "05deeb96-c605-413b-bce1-f895ba788413",
   "metadata": {},
   "source": [
    "```{figure} ../images/fig_classification_regression.png\n",
    ":name: fig_classification_regression\n",
    "\n",
    "In *machine learning* we distinguish **classification** and **regression** tasks. The key difference is that classification models will predict one out of several possible categories while regression models output numerical values (floats).\n",
    "```"
   ]
  },
  {
   "cell_type": "markdown",
   "id": "972e77d0-b944-4972-be98-41e53e34c2fc",
   "metadata": {},
   "source": [
    "## Common algorithms\n",
    "- k-nearest neighbors\n",
    "- linear regression\n",
    "- logistic regression\n",
    "- decision trees\n",
    "- random forests"
   ]
  },
  {
   "cell_type": "code",
   "execution_count": 1,
   "id": "34a77333-5216-4766-996d-9723af411f61",
   "metadata": {},
   "outputs": [],
   "source": [
    "import os\n",
    "import pandas as pd\n",
    "import numpy as np\n",
    "from matplotlib import pyplot as plt\n",
    "import seaborn as sb"
   ]
  },
  {
   "cell_type": "code",
   "execution_count": null,
   "id": "8be518d8",
   "metadata": {},
   "outputs": [],
   "source": [
    "# Material yet to be cleaned and prepared..."
   ]
  },
  {
   "cell_type": "markdown",
   "id": "f6d854fb",
   "metadata": {},
   "source": [
    "### Want to read more on this?\n",
    "\n",
    "- https://github.com/GeostatsGuy/PythonNumericalDemos/tree/master\n",
    "- https://inferentialthinking.com/chapters/intro.html#"
   ]
  },
  {
   "cell_type": "code",
   "execution_count": null,
   "id": "c8970837",
   "metadata": {},
   "outputs": [],
   "source": []
  }
 ],
 "metadata": {
  "kernelspec": {
   "display_name": "Python 3 (ipykernel)",
   "language": "python",
   "name": "python3"
  },
  "language_info": {
   "codemirror_mode": {
    "name": "ipython",
    "version": 3
   },
   "file_extension": ".py",
   "mimetype": "text/x-python",
   "name": "python",
   "nbconvert_exporter": "python",
   "pygments_lexer": "ipython3",
   "version": "3.9.18"
  }
 },
 "nbformat": 4,
 "nbformat_minor": 5
}
