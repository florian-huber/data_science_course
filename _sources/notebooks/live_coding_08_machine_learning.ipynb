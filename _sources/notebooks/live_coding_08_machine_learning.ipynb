{
 "cells": [
  {
   "cell_type": "markdown",
   "id": "c627c46e",
   "metadata": {},
   "source": [
    "# Machine Learning - Introduction\n",
    "## What is Machine Learning?\n",
    "There is still a lot of confusion about terms like **artificial intelligence** (or: **A.I.**), **machine learning**, and **deep learning**.\n",
    "The aim of this course is not to give a full in-depth introduction to all those topics, because this clearly demands one (or usually: multiple) courses on its own. For more in-depth information we will provide some resources at the end of this chapter.\n",
    "\n",
    "However, what this section should show is, that the underlying idea of machine learning is often quite approachable. And the some of the respective techniques can be used with relative ease, at least from the code perspective. If you haven't learnt the basics of machine learning before, it is unlikely that this section will make you feel like you have mastered the art. But, again, this is not the main goal.\n",
    "\n",
    "Machine learning is a subfield of *artificial intelligence* (see {numref}`fig_dimensionality_reduction01`), which often makes this sound very intimidating at first. In its full complexity, this is indeed hard to master. But it is important to note at this point, that machine learning itself can also be seen as *just another tool* that we have as data scientists. In fact, many of its techniques are no more complicated or complex than methods in dimensionality reduction or clustering that we have seen in the last chapters (actually, those are often considered machine learning techniques as well, but we will skip this discussion for now)."
   ]
  },
  {
   "cell_type": "markdown",
   "id": "0e3e80df-b907-4d26-a856-acbff5933b4f",
   "metadata": {},
   "source": [
    "```{figure} ../images/fig_ai_vs_ml_vs_deep_learning.png\n",
    ":name: fig_ai_vs_ml_vs_dl\n",
    "\n",
    "Machine Learning is a field of techniques that belongs to *artificial intelligence*. Currently, machine learning is even the main representation of artificial intelligence with *deep learning* being the most prominent subset. Here, however, we will focus on more classical machine learning techniques (no worries, those remain equally important in real-life practice!).\n",
    "```"
   ]
  },
  {
   "cell_type": "markdown",
   "id": "cb32bef6-6667-47a5-9f68-8ea222f2b657",
   "metadata": {},
   "source": [
    "The key idea behind machine learning is that we use algorithms that *\"learn from data\"*. Learning here is nothing magic and typically means something very different from our everyday use of the word \"learning\" in a human context. Learning here simply means that the rules by which a program decides on its outcome or behavior are no longer *hard-coded* by a person, but they are automatically searched and optimized.\n",
    "\n",
    "To give you an idea of how simple this \"learning\" can be: Imagine we have two highly correlated features, for instance the shoe size and the height of of many people. We could than automatically find a good linear fit function and then use this to make predictions for new data entries. Say, you find footprints of size 47 after a robery, then your new \"machine learning model\" (yes, that's simply the linear fit!) can predict the height of that person ({numref}`fig_predictions_already_done`**A**). The prediction is probably not perfect, but we have good reasons to believe that it most likely won't be too far off either.\n",
    "\n",
    "Or, think of several chat messages that we clustered into \"spam\", \"negative\", and \"positive\" and which is nicely reflected by their position in a 2D plot after dimensionality reduction ({numref}`fig_predictions_already_done`**B**). If we now receive a new message which ends up clearly within the \"positive\" cluster, then we can obviously risk the first best guess of saying that this might be a positive message as well. Again, we could be wrong, but based on the data we have, this simply seems to be the best guess we can do. \n",
    "\n",
    "So, when is this going to be called *machine learning*?\n",
    "When we have an algorithm that does this guessing based on the data for us it is machine learning. If we do the guessing, it is not machine learning."
   ]
  },
  {
   "cell_type": "markdown",
   "id": "6adcf06d-7ab1-49c2-96d8-5d7ead2099de",
   "metadata": {},
   "source": [
    "```{figure} ../images/fig_predictions_already_done.png\n",
    ":name: fig_predictions_already_done\n",
    "\n",
    "Even before coming to this chapter, we have already worked with techniques that would actually allow to make predictions on the basis of known data points. **A**, when we looked at (high) correlations this already implied that there is a more or less reliable link between different features. **B**, when we think of clustering and dimensionality reduction it seems rather obvious that we could make predictions for new datapoints based on their lower dimensional position!\n",
    "```"
   ]
  },
  {
   "cell_type": "markdown",
   "id": "d3298670-ebd1-4a4b-8827-7725069806d3",
   "metadata": {},
   "source": [
    "Before we have a look at some actual machine learning techniques, we should look at one key distinction to make. In machine learning we distinguish two types of tasks that a model can do. **Classification** means that models will predict the class of unknown datapoints based on what they \"learned\" from **labeled data**. Labeled data means that this is data for which we *know* the true labels (also called: targets or ground truth).\n",
    "\n",
    "**Regression** means that models will predict one (or multiple) numerical values for unknown datapoints, see {numref}`fig_classification_regression`."
   ]
  },
  {
   "cell_type": "markdown",
   "id": "05deeb96-c605-413b-bce1-f895ba788413",
   "metadata": {},
   "source": [
    "```{figure} ../images/fig_classification_regression.png\n",
    ":name: fig_classification_regression\n",
    "\n",
    "In *machine learning* we distinguish **classification** and **regression** tasks. The key difference is that classification models will predict one out of several possible categories while regression models output numerical values (floats).\n",
    "```"
   ]
  },
  {
   "cell_type": "markdown",
   "id": "9c9de29c-4100-4fae-ad0d-533077bd40d2",
   "metadata": {},
   "source": [
    "## Training & Testing\n",
    "\n",
    "Before we start, let's quickly repeat a few key terms:\n",
    "- **model**: you can think of a machine learning model as a program function. It takes a certain, well-defined input (the **data**, often lazyly written as $X$) and generates predictions or **labels** (lazyly written: $y$).\n",
    "- A model is *trained* on data with known labels. This is called *supervised learning*, because the process is guided by these target values (the labels). There is also something called *unsupervised learning*, but we will ignore this for now.\n",
    "- The prediction of labels is called *prediction* or *inference*. Obviously, this should happen after the model training.\n",
    "\n",
    "### How do we know how *good* our model is?\n",
    "The tricky part about applying supervised machine learning models is that we *train* the model using (more or less-) well-understood data and later want to use its predictions on *unknown* data. So, we want to use our model for data where we either don't know the correct labels ourselves (say, predicting tomorrow's weather). Or, we could know the labels, but do not want to manually create those for all cases (for instance: classify all incoming mail as spam or no-spam).\n",
    "\n",
    "But, can we really trust the model's predictions?\n",
    "\n",
    "As the name says, everything the model outputs are *predictions*. For all models we will consider here, every single model output is **uncertain and could be wrong**. With the tools we have at hand in this section, we cannot even estimate the chance of failing. But, we can measure how reliable our model is *on average*!\n",
    "\n",
    "For this, we need to do the single most important action in machine learning,: the **train/test split**.\n",
    "\n",
    "### Train/Test split\n",
    "For supervised machine learning, we need data ($X$) and corresponding labels ($y$). To avoid blindly applying our model to truly unseen and unknown data, we virtually **always** split our data into training and test data. As the name suggests, the training data can be used to train our machine learning model. The test data is kept and will **never** be used in training, but only to assess the quality of predictions of our model. Typically, we want as much data as possible for the training since more data usually correlates with better models. However, we also have to reserve enough data for the test set to later guarantee a meaningful assessment of our model.\n"
   ]
  },
  {
   "cell_type": "markdown",
   "id": "83d132d6-ee47-41e3-ae58-3e2a94603318",
   "metadata": {},
   "source": [
    "We will later see that this can easily be done by using the `train_test_split` function from `Scikit-Learn`. Scikit-Learn is the main Python library for machine learning methods that are not deep learning {cite}`scikit-learn` and we will use this throughout the following chapters."
   ]
  },
  {
   "cell_type": "markdown",
   "id": "597b0344-c775-41b9-b86f-b1b750ef6732",
   "metadata": {},
   "source": [
    "## More on Machine Learning\n",
    "This course is meant as a general introduction to data science. Machine Learning is -no doubt- one of the most essential tools for any data scientist to know about. In fact, I would argue it is not one tool. It is rather an entire toolshop full of very powerful methods, and it is important to know at least common examples of the most prominent types of tools. For instance, **unsupervised methods** that we saw in the last chapters such as clustering techniques, dimensionality reduction. And **supervised methods** such as basic machine learning techniques like *k-nearest neighbors*, *linear regression* or *decision trees* (all of which we will cover in the following chapters).\n",
    "\n",
    "However, this is will just give you a first impression of what is possible with machine learning. In addition, we will here focus on a basic intuition and first application of those methods. We will not cover all algorithms in full depth though.\n",
    "\n",
    "So, you might want to dig deeper elsewhere to deepen your understanding of individual methods and to broaden your knowledge on various techniques that are commonly applied in data science analysis processes. This might also include the large field of **deep learning** which we cannot cover in this course.\n",
    "\n"
   ]
  },
  {
   "cell_type": "markdown",
   "id": "d671ac12-a90c-4a3e-b960-ccefbf31c3b1",
   "metadata": {},
   "source": [
    "**Online courses and tutorials:**  \n",
    "There are many, in fact probably too many, courses and tutorials out there. One of them that is clearly a long time recommendation is Andrew Ng's open online courses such as the [Machine Learning Introduction on coursera](https://www.coursera.org/specializations/machine-learning-introduction).\n",
    "\n",
    "**Books on Machine Learning and Deep Learning:**  \n",
    "- \"Machine Learning with PyTorch and Scikit-Learn: Develop machine learning and deep learning models with Python\" {cite}`raschka2022machine`\n",
    "- \"Understanding Deep Learning\" by Simon Prince, MIT Press, 2023 {cite}`prince2023understanding`\n"
   ]
  },
  {
   "cell_type": "code",
   "execution_count": null,
   "id": "73276e77-079f-41b9-8f58-347cd0c75fdd",
   "metadata": {},
   "outputs": [],
   "source": []
  }
 ],
 "metadata": {
  "kernelspec": {
   "display_name": "Python 3 (ipykernel)",
   "language": "python",
   "name": "python3"
  },
  "language_info": {
   "codemirror_mode": {
    "name": "ipython",
    "version": 3
   },
   "file_extension": ".py",
   "mimetype": "text/x-python",
   "name": "python",
   "nbconvert_exporter": "python",
   "pygments_lexer": "ipython3",
   "version": "3.9.18"
  }
 },
 "nbformat": 4,
 "nbformat_minor": 5
}
