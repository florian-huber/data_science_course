{
 "cells": [
  {
   "cell_type": "markdown",
   "id": "3dc45e4f",
   "metadata": {
    "editable": true,
    "slideshow": {
     "slide_type": ""
    },
    "tags": []
   },
   "source": [
    "# Beyond Counting Individual Words: N-grams\n",
    "\n",
    "\n",
    "So far in our journey through text data processing, we've dealt with counting individual words. While this approach, often referred to as a \"bag of words\" model, can provide a basic level of understanding and can be useful for certain tasks, it often falls short in capturing the true complexity and richness of language. This is mainly because it treats each word independently and ignores the context and order of words, which are fundamental to human language comprehension.\n",
    "\n",
    "For example, consider the two phrases  \n",
    "*\"The movie is good, but the actor was bad.\"*  \n",
    "and  \n",
    "*\"The movie is bad, but the actor was good.\"*  \n",
    "\n",
    "If we simply count individual words, both phrases are identical because they contain the exact same words!\n",
    "However, their meanings are diametrically opposed. The order of words and the context in which they are used are important."
   ]
  },
  {
   "cell_type": "markdown",
   "id": "9cc7abba",
   "metadata": {},
   "source": [
    "## N-grams\n",
    "\n",
    "**N-grams** are continuous sequences of n items in a given sample of text or speech. In the context of text analysis, an item can be a character, a syllable, or a word, although words are the most commonly used items. The integer *n* in \"n-gram\" refers to the number of items in the sequence, so a bigram (or 2-gram) is a sequence of two words, a trigram (3-gram) is a sequence of three words, and so on.\n",
    "\n",
    "To illustrate, consider the two sentences above.\n",
    "With 3-grams we could also get the pieces \"movie is good\", \"movie is bad\", \"actor was bad\", and \"actor was good\".\n",
    "Bigrams (or 2-grams) would not catch those differences. But they can also be very helpful in cases such as \"don't like\" vs \"do like\".\n",
    "\n",
    "Now we will see how we can make use of such n-grams."
   ]
  },
  {
   "cell_type": "code",
   "execution_count": 4,
   "id": "0953c3ec",
   "metadata": {},
   "outputs": [],
   "source": [
    "import os\n",
    "import numpy as np\n",
    "import pandas as pd\n",
    "import matplotlib.pyplot as plt\n",
    "import seaborn as sb\n",
    "from sklearn.feature_extraction.text import TfidfVectorizer"
   ]
  },
  {
   "cell_type": "markdown",
   "id": "4a95b1e8",
   "metadata": {
    "editable": true,
    "slideshow": {
     "slide_type": ""
    },
    "tags": []
   },
   "source": [
    "## N-grams in TF-IDF Vectors\n",
    "\n",
    "When creating TF-IDF vectors, we can incorporate the concept of n-grams. The scikit-learn `TfidfVectorizer` provides the `ngram_range` parameter that allows us to specify the range of n-grams to include in the feature vectors.\n",
    "\n",
    "### Dataset - Madrid Restaurant Reviews\n",
    "We will now use a large, text-based dataset containing more than 176.000 restaurant reviews from Madrid ([see dataset on zenodo](https://zenodo.org/records/6583422)). The dataset (about 142MB) can be downloaded via the following code block."
   ]
  },
  {
   "cell_type": "code",
   "execution_count": 2,
   "id": "a451e302-4791-4f11-a938-4e8d2035d31e",
   "metadata": {
    "editable": true,
    "slideshow": {
     "slide_type": ""
    },
    "tags": [
     "hide-input"
    ]
   },
   "outputs": [
    {
     "name": "stdout",
     "output_type": "stream",
     "text": [
      "File downloaded successfully and saved to ..\\datasets\\madrid.csv\n"
     ]
    }
   ],
   "source": [
    "\"\"\"\n",
    "This code block downloads the data from zenodo and stores it in a local 'datasets' folder.\n",
    "\"\"\"\n",
    "\n",
    "import requests\n",
    "import os\n",
    "\n",
    "\n",
    "def download_from_zenodo(url, save_path):\n",
    "    \"\"\"\n",
    "    Downloads a file from a given Zenodo link and saves it to the specified path.\n",
    "\n",
    "    Parameters:\n",
    "    - url: The Zenodo link to the file to be downloaded.\n",
    "    - save_path: Path where the file should be saved.\n",
    "    \"\"\"\n",
    "\n",
    "    # Check if the file already exists\n",
    "    if os.path.exists(save_path):\n",
    "        print(f\"File {save_path} already exists. Skipping download.\")\n",
    "        return None\n",
    "\n",
    "    response = requests.get(url, stream=True)\n",
    "    response.raise_for_status()\n",
    "\n",
    "    with open(save_path, 'wb') as f:\n",
    "        for chunk in response.iter_content(chunk_size=8192):\n",
    "            f.write(chunk)\n",
    "\n",
    "    print(f\"File downloaded successfully and saved to {save_path}\")\n",
    "\n",
    "\n",
    "# Zenodo link to the dataset\n",
    "zenodo_link = r\"https://zenodo.org/records/6583422/files/Madrid_reviews.csv?download=1\"\n",
    "\n",
    "# Path to save the downloaded dataset (you can modify this as needed)\n",
    "output_path = os.path.join(\"..\", \"datasets\", \"madrid_reviews.csv\")\n",
    "\n",
    "# Create directory if it doesn't exist\n",
    "os.makedirs(os.path.dirname(output_path), exist_ok=True)\n",
    "\n",
    "# Download the dataset\n",
    "download_from_zenodo(zenodo_link, output_path)"
   ]
  },
  {
   "cell_type": "code",
   "execution_count": 5,
   "id": "c6cabdf7",
   "metadata": {},
   "outputs": [
    {
     "data": {
      "text/html": [
       "<div>\n",
       "<style scoped>\n",
       "    .dataframe tbody tr th:only-of-type {\n",
       "        vertical-align: middle;\n",
       "    }\n",
       "\n",
       "    .dataframe tbody tr th {\n",
       "        vertical-align: top;\n",
       "    }\n",
       "\n",
       "    .dataframe thead th {\n",
       "        text-align: right;\n",
       "    }\n",
       "</style>\n",
       "<table border=\"1\" class=\"dataframe\">\n",
       "  <thead>\n",
       "    <tr style=\"text-align: right;\">\n",
       "      <th></th>\n",
       "      <th>parse_count</th>\n",
       "      <th>restaurant_name</th>\n",
       "      <th>rating_review</th>\n",
       "      <th>sample</th>\n",
       "      <th>review_id</th>\n",
       "      <th>title_review</th>\n",
       "      <th>review_preview</th>\n",
       "      <th>review_full</th>\n",
       "      <th>date</th>\n",
       "      <th>city</th>\n",
       "      <th>url_restaurant</th>\n",
       "      <th>author_id</th>\n",
       "    </tr>\n",
       "  </thead>\n",
       "  <tbody>\n",
       "    <tr>\n",
       "      <th>0</th>\n",
       "      <td>1</td>\n",
       "      <td>Sushi_Yakuza</td>\n",
       "      <td>4</td>\n",
       "      <td>Positive</td>\n",
       "      <td>review_731778139</td>\n",
       "      <td>Good sushi option</td>\n",
       "      <td>The menu of Yakuza is a bit of a lottery, some...</td>\n",
       "      <td>The menu of Yakuza is a bit of a lottery, some...</td>\n",
       "      <td>December 10, 2019</td>\n",
       "      <td>Madrid</td>\n",
       "      <td>https://www.tripadvisor.com/Restaurant_Review-...</td>\n",
       "      <td>UID_0</td>\n",
       "    </tr>\n",
       "    <tr>\n",
       "      <th>1</th>\n",
       "      <td>11</td>\n",
       "      <td>Azotea_Forus_Barcelo</td>\n",
       "      <td>1</td>\n",
       "      <td>Negative</td>\n",
       "      <td>review_766657436</td>\n",
       "      <td>Light up your table at night</td>\n",
       "      <td>Check your bill when you cancel just in case y...</td>\n",
       "      <td>Check your bill when you cancel just in case y...</td>\n",
       "      <td>August 23, 2020</td>\n",
       "      <td>Madrid</td>\n",
       "      <td>https://www.tripadvisor.com/Restaurant_Review-...</td>\n",
       "      <td>UID_1</td>\n",
       "    </tr>\n",
       "    <tr>\n",
       "      <th>2</th>\n",
       "      <td>12</td>\n",
       "      <td>Level_Veggie_Bistro</td>\n",
       "      <td>5</td>\n",
       "      <td>Positive</td>\n",
       "      <td>review_749493592</td>\n",
       "      <td>Delicious</td>\n",
       "      <td>I had the yuca profiteroles and the veggie bur...</td>\n",
       "      <td>I had the yuca profiteroles and the veggie bur...</td>\n",
       "      <td>March 6, 2020</td>\n",
       "      <td>Madrid</td>\n",
       "      <td>https://www.tripadvisor.com/Restaurant_Review-...</td>\n",
       "      <td>UID_2</td>\n",
       "    </tr>\n",
       "    <tr>\n",
       "      <th>3</th>\n",
       "      <td>13</td>\n",
       "      <td>Sto_Globo_Sushi_Room</td>\n",
       "      <td>5</td>\n",
       "      <td>Positive</td>\n",
       "      <td>review_772422246</td>\n",
       "      <td>Loved this place</td>\n",
       "      <td>A friend recommended this place as one of the ...</td>\n",
       "      <td>A friend recommended this place as one of the ...</td>\n",
       "      <td>September 29, 2020</td>\n",
       "      <td>Madrid</td>\n",
       "      <td>https://www.tripadvisor.com/Restaurant_Review-...</td>\n",
       "      <td>UID_3</td>\n",
       "    </tr>\n",
       "    <tr>\n",
       "      <th>4</th>\n",
       "      <td>14</td>\n",
       "      <td>Azotea_Forus_Barcelo</td>\n",
       "      <td>5</td>\n",
       "      <td>Positive</td>\n",
       "      <td>review_761855600</td>\n",
       "      <td>Amazing terrace in madrid</td>\n",
       "      <td>Amazing terrace in madrid - great atmosphere a...</td>\n",
       "      <td>Amazing terrace in madrid - great atmosphere a...</td>\n",
       "      <td>July 27, 2020</td>\n",
       "      <td>Madrid</td>\n",
       "      <td>https://www.tripadvisor.com/Restaurant_Review-...</td>\n",
       "      <td>UID_4</td>\n",
       "    </tr>\n",
       "  </tbody>\n",
       "</table>\n",
       "</div>"
      ],
      "text/plain": [
       "   parse_count       restaurant_name  rating_review    sample  \\\n",
       "0            1          Sushi_Yakuza              4  Positive   \n",
       "1           11  Azotea_Forus_Barcelo              1  Negative   \n",
       "2           12   Level_Veggie_Bistro              5  Positive   \n",
       "3           13  Sto_Globo_Sushi_Room              5  Positive   \n",
       "4           14  Azotea_Forus_Barcelo              5  Positive   \n",
       "\n",
       "          review_id                  title_review  \\\n",
       "0  review_731778139             Good sushi option   \n",
       "1  review_766657436  Light up your table at night   \n",
       "2  review_749493592                     Delicious   \n",
       "3  review_772422246             Loved this place    \n",
       "4  review_761855600     Amazing terrace in madrid   \n",
       "\n",
       "                                      review_preview  \\\n",
       "0  The menu of Yakuza is a bit of a lottery, some...   \n",
       "1  Check your bill when you cancel just in case y...   \n",
       "2  I had the yuca profiteroles and the veggie bur...   \n",
       "3  A friend recommended this place as one of the ...   \n",
       "4  Amazing terrace in madrid - great atmosphere a...   \n",
       "\n",
       "                                         review_full                date  \\\n",
       "0  The menu of Yakuza is a bit of a lottery, some...   December 10, 2019   \n",
       "1  Check your bill when you cancel just in case y...     August 23, 2020   \n",
       "2  I had the yuca profiteroles and the veggie bur...       March 6, 2020   \n",
       "3  A friend recommended this place as one of the ...  September 29, 2020   \n",
       "4  Amazing terrace in madrid - great atmosphere a...       July 27, 2020   \n",
       "\n",
       "     city                                     url_restaurant author_id  \n",
       "0  Madrid  https://www.tripadvisor.com/Restaurant_Review-...     UID_0  \n",
       "1  Madrid  https://www.tripadvisor.com/Restaurant_Review-...     UID_1  \n",
       "2  Madrid  https://www.tripadvisor.com/Restaurant_Review-...     UID_2  \n",
       "3  Madrid  https://www.tripadvisor.com/Restaurant_Review-...     UID_3  \n",
       "4  Madrid  https://www.tripadvisor.com/Restaurant_Review-...     UID_4  "
      ]
     },
     "execution_count": 5,
     "metadata": {},
     "output_type": "execute_result"
    }
   ],
   "source": [
    "filename = \"../datasets/madrid_reviews.csv\"\n",
    "data = pd.read_csv(filename)\n",
    "data = data.drop([\"Unnamed: 0\"], axis=1)\n",
    "data.head()"
   ]
  },
  {
   "cell_type": "code",
   "execution_count": 8,
   "id": "7db9a538",
   "metadata": {},
   "outputs": [
    {
     "data": {
      "text/plain": [
       "(176848, 12)"
      ]
     },
     "execution_count": 8,
     "metadata": {},
     "output_type": "execute_result"
    }
   ],
   "source": [
    "data.shape"
   ]
  },
  {
   "cell_type": "code",
   "execution_count": 6,
   "id": "ef63ec6c",
   "metadata": {},
   "outputs": [
    {
     "data": {
      "text/plain": [
       "'I had the yuca profiteroles and the veggie burger, by recommendation of the server. It was absolutely delicious and the service was outstanding. I will definitely be back again with friends !'"
      ]
     },
     "execution_count": 6,
     "metadata": {},
     "output_type": "execute_result"
    }
   ],
   "source": [
    "data.review_full[2]"
   ]
  },
  {
   "cell_type": "code",
   "execution_count": null,
   "id": "64e9c8fe",
   "metadata": {},
   "outputs": [],
   "source": []
  },
  {
   "cell_type": "code",
   "execution_count": 7,
   "id": "3755d85a",
   "metadata": {},
   "outputs": [
    {
     "data": {
      "text/plain": [
       "(176848, 1496963)"
      ]
     },
     "execution_count": 7,
     "metadata": {},
     "output_type": "execute_result"
    }
   ],
   "source": [
    "from sklearn.feature_extraction.text import TfidfVectorizer\n",
    "\n",
    "# considers both unigrams and bigrams\n",
    "vectorizer = TfidfVectorizer(ngram_range=(1, 2))  \n",
    "tfidf_vectors = vectorizer.fit_transform(data.review_full)\n",
    "tfidf_vectors.shape"
   ]
  },
  {
   "cell_type": "markdown",
   "id": "cd84aae1",
   "metadata": {},
   "source": [
    "This way, we are not just considering the frequency of individual words, but also the frequency of sequences of words, which often capture more meaning than the individual words alone.\n",
    "\n",
    "**But:** this creates even bigger tfidf vectors!  \n",
    "Now we end up with vectors of about 1 million entries (even though most will be zero most of the time).\n",
    "\n",
    "## TF-IDF with Bigrams: Growing Vectors and Managing High Dimensionality\n",
    "\n",
    "The power of n-grams comes at a cost. Specifically, as we increase the size of our n-grams, the dimensionality of our feature vectors also increases. In the case of bigrams, for every pair of words that occur together in our text corpus, we add a new dimension to our feature space. This can quickly lead to an explosion of features. For instance, a modest vocabulary of 1,000 words leads to a potential of 1,000,000 (1,000 x 1,000) bigrams.\n",
    "\n",
    "This high dimensionality can lead to two issues:\n",
    "\n",
    "1. **Sparsity:** Most documents in the corpus will not contain most of the possible bigrams, leading to a feature matrix where most values are zero, i.e., a sparse matrix.\n",
    "2. **Computational resources:** The computational requirement for storing and processing these feature vectors can become significant, especially for large text corpora.\n",
    "\n",
    "Several techniques can help manage this high-dimensionality problem:\n",
    "\n",
    "- **Feature selection:** We can limit the number of bigrams we include in our feature vector. This could be done based on the frequency of the bigrams. For example, we could choose to include only those bigrams that occur more than a certain number of times in the corpus.\n",
    "- **Dimensionality reduction:** Techniques such as Principal Component Analysis (PCA) or Truncated Singular Value Decomposition (TruncatedSVD) can be used to reduce the dimensionality of the feature space, while preserving as much of the variance in the data as possible.\n",
    "- **Using Hashing Vectorizer:** Scikit-learn provides a `HashingVectorizer` that uses a hash function to map the features to indices in the feature vector. This approach has a constant memory footprint and does not require to keep a vocabulary dictionary in memory, which makes it suitable for large text corpora.\n",
    "\n",
    "It's important to weigh the trade-offs between capturing more context using n-grams and managing the resulting high dimensionality.\n",
    "\n",
    "Let us here use the simplest way to reduce the tfidf vector size: a more restrictive feature selection!"
   ]
  },
  {
   "cell_type": "code",
   "execution_count": 10,
   "id": "eb8b6172",
   "metadata": {},
   "outputs": [
    {
     "data": {
      "text/plain": [
       "(176848, 119352)"
      ]
     },
     "execution_count": 10,
     "metadata": {},
     "output_type": "execute_result"
    }
   ],
   "source": [
    "vectorizer = TfidfVectorizer(min_df=10, max_df=0.2,\n",
    "                             ngram_range=(1, 2))  \n",
    "tfidf_vectors = vectorizer.fit_transform(data.review_full)\n",
    "tfidf_vectors.shape"
   ]
  },
  {
   "cell_type": "markdown",
   "id": "982ae7f7",
   "metadata": {},
   "source": [
    "This looks much better! Maybe we can even include 3-grams?"
   ]
  },
  {
   "cell_type": "code",
   "execution_count": 26,
   "id": "4e5fb1a2",
   "metadata": {},
   "outputs": [
    {
     "data": {
      "text/plain": [
       "(20491, 84069)"
      ]
     },
     "execution_count": 26,
     "metadata": {},
     "output_type": "execute_result"
    }
   ],
   "source": [
    "vectorizer = TfidfVectorizer(min_df=5, max_df=0.25,\n",
    "                             ngram_range=(1, 3))  \n",
    "tfidf_vectors = vectorizer.fit_transform(data.review_full)\n",
    "tfidf_vectors.shape"
   ]
  },
  {
   "cell_type": "markdown",
   "id": "db2a6042",
   "metadata": {},
   "source": [
    "This looks OK, at least size-wise. The reason why this doesn't explode in terms of vector size is that the `min_df` parameter also counts for 2-grams, 3-grams etc. This here means that only the 3-grams which occur at least `min_df`-times will be kept.\n",
    "\n",
    "Now we should check which ngrams the tfidf model finally included."
   ]
  },
  {
   "cell_type": "code",
   "execution_count": 11,
   "id": "f2bc7712",
   "metadata": {},
   "outputs": [
    {
     "data": {
      "text/plain": [
       "array(['yr old', 'yrs', 'yrs old', 'yuca', 'yucca', 'yuck', 'yuk', 'yum',\n",
       "       'yum and', 'yum great', 'yum soup', 'yum the', 'yum we', 'yum yum',\n",
       "       'yumm', 'yummi', 'yummie', 'yummiest', 'yumminess', 'yummm',\n",
       "       'yummmm', 'yummy', 'yummy all', 'yummy and', 'yummy as',\n",
       "       'yummy but', 'yummy dishes', 'yummy food', 'yummy good',\n",
       "       'yummy great', 'yummy if', 'yummy it', 'yummy my', 'yummy pizza',\n",
       "       'yummy sangria', 'yummy tapas', 'yummy the', 'yummy they',\n",
       "       'yummy too', 'yummy very', 'yummy we', 'yummy will', 'yummy would',\n",
       "       'yummy yummy', 'yup', 'yuzu', 'zalacain', 'zalacain is',\n",
       "       'zamburinas', 'zamburiñas', 'zara', 'zaragoza', 'zarzuela',\n",
       "       'zealand', 'zen', 'zen market', 'zenith', 'zenith eggs', 'zerain',\n",
       "       'zero', 'zero stars', 'zest', 'zesty', 'zing', 'zingy', 'zombie',\n",
       "       'zone', 'zone of', 'zones', 'zoo', 'zucca', 'zucchini',\n",
       "       'zucchini and', 'zucchini flowers', 'zucchini salad',\n",
       "       'zucchini with', 'zumo', 'zumo de', 'zurbano', 'área', 'ôven',\n",
       "       'único', '그리고', '너무', '마드리드', '많이', '맛있고', '맛있어요', '맛있었어요', '매우',\n",
       "       '먹었는데', '스페인', '여기', '음식도', '있어서', '정말', '좋은', '진짜', '친절하고', '특히'],\n",
       "      dtype=object)"
      ]
     },
     "execution_count": 11,
     "metadata": {},
     "output_type": "execute_result"
    }
   ],
   "source": [
    "vectorizer.get_feature_names_out()[-100:]"
   ]
  },
  {
   "cell_type": "code",
   "execution_count": 12,
   "id": "d05e1116",
   "metadata": {},
   "outputs": [
    {
     "data": {
      "text/plain": [
       "'특히'"
      ]
     },
     "execution_count": 12,
     "metadata": {},
     "output_type": "execute_result"
    }
   ],
   "source": [
    "vectorizer.get_feature_names_out()[-1]"
   ]
  },
  {
   "cell_type": "markdown",
   "id": "a6708af4",
   "metadata": {},
   "source": [
    "Well, that does not always immediately look like very good word combinations.\n",
    "We do see a lot of 2-grams and 3-grams. Most combinations of 2 or 3 words, however, seem to be grammatically wrong.\n",
    "\n",
    "Why is that?\n",
    "\n",
    "The reason is that our selection criteria (using `min_df` and `max_df`) removed a lot of very common words so that **yes it does** becomes **yes does**.\n",
    "\n",
    "But we can leave it to the machine learning algorithms now to make more sense of it."
   ]
  },
  {
   "cell_type": "code",
   "execution_count": 14,
   "id": "acd4c215",
   "metadata": {},
   "outputs": [
    {
     "name": "stdout",
     "output_type": "stream",
     "text": [
      "Train dataset size: (141478,)\n",
      "Test dataset size: (35370,)\n"
     ]
    }
   ],
   "source": [
    "from sklearn.model_selection import train_test_split\n",
    "\n",
    "X_train, X_test, y_train, y_test = train_test_split(\n",
    "    data.review_full, data.rating_review, test_size=0.2, random_state=0)\n",
    "\n",
    "print(f\"Train dataset size: {X_train.shape}\")\n",
    "print(f\"Test dataset size: {X_test.shape}\")    "
   ]
  },
  {
   "cell_type": "code",
   "execution_count": 36,
   "id": "286f4f95",
   "metadata": {},
   "outputs": [
    {
     "data": {
      "text/plain": [
       "(141478, 13241)"
      ]
     },
     "execution_count": 36,
     "metadata": {},
     "output_type": "execute_result"
    }
   ],
   "source": [
    "vectorizer = TfidfVectorizer(min_df=10, max_df=0.2,\n",
    "                             max_features=10000,\n",
    "                             #ngram_range=(1, 2)\n",
    "                            )  \n",
    "tfidf_vectors = vectorizer.fit_transform(X_train)\n",
    "tfidf_vectors.shape"
   ]
  },
  {
   "cell_type": "code",
   "execution_count": 37,
   "id": "a16ccb7e",
   "metadata": {},
   "outputs": [
    {
     "data": {
      "text/plain": [
       "array(['yakisoba', 'yakitori', 'yakitoro', 'yam', 'yamil', 'yang', 'yard',\n",
       "       'yards', 'yate', 'yay', 'yeah', 'year', 'yearly', 'years', 'yell',\n",
       "       'yelled', 'yelling', 'yellow', 'yelp', 'yep', 'yerbabuena', 'yes',\n",
       "       'yesterday', 'yet', 'yo', 'yoghurt', 'yogurt', 'yogurts', 'yolk',\n",
       "       'yolks', 'york', 'yorker', 'young', 'younger', 'youngest',\n",
       "       'youngish', 'youngsters', 'your', 'youre', 'yours', 'yourself',\n",
       "       'yourselves', 'youth', 'youthful', 'youtube', 'yoy', 'yr', 'yrs',\n",
       "       'yuca', 'yucca', 'yuck', 'yuk', 'yum', 'yumm', 'yummie',\n",
       "       'yummiest', 'yumminess', 'yummm', 'yummmm', 'yummy', 'yup', 'yuzu',\n",
       "       'zalacain', 'zamburinas', 'zamburiñas', 'zara', 'zaragoza',\n",
       "       'zarzuela', 'zealand', 'zen', 'zenith', 'zerain', 'zero', 'zest',\n",
       "       'zesty', 'zing', 'zingy', 'zombie', 'zone', 'zones', 'zoo',\n",
       "       'zucca', 'zucchini', 'zumo', 'área', 'único', '그리고', '너무', '마드리드',\n",
       "       '맛있고', '맛있어요', '맛있었어요', '매우', '먹었는데', '음식도', '정말', '좋은', '진짜',\n",
       "       '친절하고', '특히'], dtype=object)"
      ]
     },
     "execution_count": 37,
     "metadata": {},
     "output_type": "execute_result"
    }
   ],
   "source": [
    "vectorizer.get_feature_names_out()[-100:]"
   ]
  },
  {
   "cell_type": "markdown",
   "id": "1dfddbaf",
   "metadata": {},
   "source": [
    "This time we will start right away with a classification model:\n",
    "\n",
    "### Logistic Regression model"
   ]
  },
  {
   "cell_type": "code",
   "execution_count": 38,
   "id": "3126e124",
   "metadata": {},
   "outputs": [
    {
     "name": "stderr",
     "output_type": "stream",
     "text": [
      "C:\\Users\\flori\\anaconda3\\envs\\ai_smart_health\\lib\\site-packages\\sklearn\\linear_model\\_logistic.py:458: ConvergenceWarning: lbfgs failed to converge (status=1):\n",
      "STOP: TOTAL NO. of ITERATIONS REACHED LIMIT.\n",
      "\n",
      "Increase the number of iterations (max_iter) or scale the data as shown in:\n",
      "    https://scikit-learn.org/stable/modules/preprocessing.html\n",
      "Please also refer to the documentation for alternative solver options:\n",
      "    https://scikit-learn.org/stable/modules/linear_model.html#logistic-regression\n",
      "  n_iter_i = _check_optimize_result(\n"
     ]
    },
    {
     "data": {
      "text/html": [
       "<style>#sk-container-id-2 {color: black;background-color: white;}#sk-container-id-2 pre{padding: 0;}#sk-container-id-2 div.sk-toggleable {background-color: white;}#sk-container-id-2 label.sk-toggleable__label {cursor: pointer;display: block;width: 100%;margin-bottom: 0;padding: 0.3em;box-sizing: border-box;text-align: center;}#sk-container-id-2 label.sk-toggleable__label-arrow:before {content: \"▸\";float: left;margin-right: 0.25em;color: #696969;}#sk-container-id-2 label.sk-toggleable__label-arrow:hover:before {color: black;}#sk-container-id-2 div.sk-estimator:hover label.sk-toggleable__label-arrow:before {color: black;}#sk-container-id-2 div.sk-toggleable__content {max-height: 0;max-width: 0;overflow: hidden;text-align: left;background-color: #f0f8ff;}#sk-container-id-2 div.sk-toggleable__content pre {margin: 0.2em;color: black;border-radius: 0.25em;background-color: #f0f8ff;}#sk-container-id-2 input.sk-toggleable__control:checked~div.sk-toggleable__content {max-height: 200px;max-width: 100%;overflow: auto;}#sk-container-id-2 input.sk-toggleable__control:checked~label.sk-toggleable__label-arrow:before {content: \"▾\";}#sk-container-id-2 div.sk-estimator input.sk-toggleable__control:checked~label.sk-toggleable__label {background-color: #d4ebff;}#sk-container-id-2 div.sk-label input.sk-toggleable__control:checked~label.sk-toggleable__label {background-color: #d4ebff;}#sk-container-id-2 input.sk-hidden--visually {border: 0;clip: rect(1px 1px 1px 1px);clip: rect(1px, 1px, 1px, 1px);height: 1px;margin: -1px;overflow: hidden;padding: 0;position: absolute;width: 1px;}#sk-container-id-2 div.sk-estimator {font-family: monospace;background-color: #f0f8ff;border: 1px dotted black;border-radius: 0.25em;box-sizing: border-box;margin-bottom: 0.5em;}#sk-container-id-2 div.sk-estimator:hover {background-color: #d4ebff;}#sk-container-id-2 div.sk-parallel-item::after {content: \"\";width: 100%;border-bottom: 1px solid gray;flex-grow: 1;}#sk-container-id-2 div.sk-label:hover label.sk-toggleable__label {background-color: #d4ebff;}#sk-container-id-2 div.sk-serial::before {content: \"\";position: absolute;border-left: 1px solid gray;box-sizing: border-box;top: 0;bottom: 0;left: 50%;z-index: 0;}#sk-container-id-2 div.sk-serial {display: flex;flex-direction: column;align-items: center;background-color: white;padding-right: 0.2em;padding-left: 0.2em;position: relative;}#sk-container-id-2 div.sk-item {position: relative;z-index: 1;}#sk-container-id-2 div.sk-parallel {display: flex;align-items: stretch;justify-content: center;background-color: white;position: relative;}#sk-container-id-2 div.sk-item::before, #sk-container-id-2 div.sk-parallel-item::before {content: \"\";position: absolute;border-left: 1px solid gray;box-sizing: border-box;top: 0;bottom: 0;left: 50%;z-index: -1;}#sk-container-id-2 div.sk-parallel-item {display: flex;flex-direction: column;z-index: 1;position: relative;background-color: white;}#sk-container-id-2 div.sk-parallel-item:first-child::after {align-self: flex-end;width: 50%;}#sk-container-id-2 div.sk-parallel-item:last-child::after {align-self: flex-start;width: 50%;}#sk-container-id-2 div.sk-parallel-item:only-child::after {width: 0;}#sk-container-id-2 div.sk-dashed-wrapped {border: 1px dashed gray;margin: 0 0.4em 0.5em 0.4em;box-sizing: border-box;padding-bottom: 0.4em;background-color: white;}#sk-container-id-2 div.sk-label label {font-family: monospace;font-weight: bold;display: inline-block;line-height: 1.2em;}#sk-container-id-2 div.sk-label-container {text-align: center;}#sk-container-id-2 div.sk-container {/* jupyter's `normalize.less` sets `[hidden] { display: none; }` but bootstrap.min.css set `[hidden] { display: none !important; }` so we also need the `!important` here to be able to override the default hidden behavior on the sphinx rendered scikit-learn.org. See: https://github.com/scikit-learn/scikit-learn/issues/21755 */display: inline-block !important;position: relative;}#sk-container-id-2 div.sk-text-repr-fallback {display: none;}</style><div id=\"sk-container-id-2\" class=\"sk-top-container\"><div class=\"sk-text-repr-fallback\"><pre>LogisticRegression(max_iter=300)</pre><b>In a Jupyter environment, please rerun this cell to show the HTML representation or trust the notebook. <br />On GitHub, the HTML representation is unable to render, please try loading this page with nbviewer.org.</b></div><div class=\"sk-container\" hidden><div class=\"sk-item\"><div class=\"sk-estimator sk-toggleable\"><input class=\"sk-toggleable__control sk-hidden--visually\" id=\"sk-estimator-id-2\" type=\"checkbox\" checked><label for=\"sk-estimator-id-2\" class=\"sk-toggleable__label sk-toggleable__label-arrow\">LogisticRegression</label><div class=\"sk-toggleable__content\"><pre>LogisticRegression(max_iter=300)</pre></div></div></div></div></div>"
      ],
      "text/plain": [
       "LogisticRegression(max_iter=300)"
      ]
     },
     "execution_count": 38,
     "metadata": {},
     "output_type": "execute_result"
    }
   ],
   "source": [
    "from sklearn.linear_model import LogisticRegression\n",
    "\n",
    "model = LogisticRegression(max_iter=300)  # don't worry it also works without setting max_iter\n",
    "model.fit(tfidf_vectors, y_train)"
   ]
  },
  {
   "cell_type": "code",
   "execution_count": 39,
   "id": "c51e2b98",
   "metadata": {},
   "outputs": [],
   "source": [
    "tfidf_vectors_test = vectorizer.transform(X_test)\n",
    "predictions = model.predict(tfidf_vectors_test)"
   ]
  },
  {
   "cell_type": "code",
   "execution_count": 40,
   "id": "f4d7f49f",
   "metadata": {},
   "outputs": [
    {
     "data": {
      "text/plain": [
       "array([4, 5, 4, 5, 5, 5, 5, 5, 5, 5, 5, 5, 5, 5, 5, 3, 5, 4, 5, 5],\n",
       "      dtype=int64)"
      ]
     },
     "execution_count": 40,
     "metadata": {},
     "output_type": "execute_result"
    }
   ],
   "source": [
    "np.round(predictions[:20], 1)"
   ]
  },
  {
   "cell_type": "code",
   "execution_count": 41,
   "id": "91e39c78",
   "metadata": {},
   "outputs": [
    {
     "data": {
      "text/plain": [
       "array([5, 5, 4, 5, 3, 5, 5, 5, 5, 4, 5, 5, 4, 5, 5, 3, 5, 5, 5, 5],\n",
       "      dtype=int64)"
      ]
     },
     "execution_count": 41,
     "metadata": {},
     "output_type": "execute_result"
    }
   ],
   "source": [
    "y_test[:20].values"
   ]
  },
  {
   "cell_type": "code",
   "execution_count": 42,
   "id": "2d1aae69",
   "metadata": {},
   "outputs": [
    {
     "data": {
      "text/plain": [
       "<Axes: xlabel='rating_review', ylabel='Count'>"
      ]
     },
     "execution_count": 42,
     "metadata": {},
     "output_type": "execute_result"
    },
    {
     "data": {
      "image/png": "[encoded data removed]",
      "text/plain": [
       "<Figure size 640x480 with 1 Axes>"
      ]
     },
     "metadata": {},
     "output_type": "display_data"
    }
   ],
   "source": [
    "sb.histplot(predictions - y_test)\n",
    "plt.xlabel(\"prediction error\")"
   ]
  },
  {
   "cell_type": "code",
   "execution_count": 43,
   "id": "c4fb7b74",
   "metadata": {},
   "outputs": [
    {
     "data": {
      "text/plain": [
       "0.3786542267458298"
      ]
     },
     "execution_count": 43,
     "metadata": {},
     "output_type": "execute_result"
    }
   ],
   "source": [
    "# mean absolute error:\n",
    "np.abs(predictions - y_test).mean()"
   ]
  },
  {
   "cell_type": "code",
   "execution_count": 44,
   "id": "3280f119",
   "metadata": {},
   "outputs": [
    {
     "data": {
      "image/png": "[encoded data removed]",
      "text/plain": [
       "<Figure size 900x700 with 2 Axes>"
      ]
     },
     "metadata": {},
     "output_type": "display_data"
    }
   ],
   "source": [
    "from sklearn.metrics import confusion_matrix, classification_report\n",
    "\n",
    "cm = confusion_matrix(y_test, predictions, labels=model.classes_)\n",
    "\n",
    "# Plotting the confusion matrix with a heatmap\n",
    "plt.figure(figsize=(9,7))\n",
    "sb.heatmap(cm, annot=True, fmt='d',\n",
    "           cmap='Blues',\n",
    "           xticklabels=model.classes_,\n",
    "           yticklabels=model.classes_,\n",
    "           vmax=5000\n",
    "          )\n",
    "plt.xlabel('Predicted labels')\n",
    "plt.ylabel('True labels')\n",
    "plt.title('Confusion Matrix')\n",
    "plt.show()"
   ]
  },
  {
   "cell_type": "code",
   "execution_count": 57,
   "id": "6874ac61",
   "metadata": {},
   "outputs": [
    {
     "data": {
      "text/plain": [
       "(141478, 10000)"
      ]
     },
     "execution_count": 57,
     "metadata": {},
     "output_type": "execute_result"
    }
   ],
   "source": [
    "vectorizer = TfidfVectorizer(min_df=10, max_df=0.2,\n",
    "                             max_features=10000,\n",
    "                             ngram_range=(1, 3))  \n",
    "tfidf_vectors = vectorizer.fit_transform(X_train)\n",
    "tfidf_vectors.shape"
   ]
  },
  {
   "cell_type": "code",
   "execution_count": 58,
   "id": "2a12ebc4",
   "metadata": {},
   "outputs": [
    {
     "data": {
      "text/plain": [
       "array(['you are not', 'you ask', 'you ask for', 'you can', 'you can also',\n",
       "       'you can buy', 'you can choose', 'you can eat', 'you can enjoy',\n",
       "       'you can find', 'you can get', 'you can go', 'you can have',\n",
       "       'you can order', 'you can see', 'you can sit', 'you can try',\n",
       "       'you cannot', 'you choose', 'you come', 'you could', 'you do',\n",
       "       'you do not', 'you don', 'you don want', 'you eat', 'you enjoy',\n",
       "       'you enter', 'you expect', 'you feel', 'you feel like', 'you find',\n",
       "       'you for', 'you get', 'you get the', 'you go', 'you go to',\n",
       "       'you have', 'you have the', 'you have to', 'you in', 'you just',\n",
       "       'you know', 'you like', 'you ll', 'you ll be', 'you ll find',\n",
       "       'you love', 'you make', 'you may', 'you might', 'you must',\n",
       "       'you must try', 'you need', 'you need to', 'you order', 'you pay',\n",
       "       'you pay for', 'you re', 'you re in', 'you re looking',\n",
       "       'you re not', 'you really', 'you see', 'you should', 'you sit',\n",
       "       'you the', 'you to', 'you try', 'you ve', 'you visit', 'you walk',\n",
       "       'you want', 'you want to', 'you were', 'you will', 'you will be',\n",
       "       'you will find', 'you will have', 'you will not', 'you with',\n",
       "       'you won', 'you won be', 'you won regret', 'you would',\n",
       "       'you would expect', 'young', 'your', 'your food', 'your meal',\n",
       "       'your money', 'your mouth', 'your own', 'your place', 'your table',\n",
       "       'your time', 'your way', 'yourself', 'yum', 'yummy'], dtype=object)"
      ]
     },
     "execution_count": 58,
     "metadata": {},
     "output_type": "execute_result"
    }
   ],
   "source": [
    "vectorizer.get_feature_names_out()[-100:]"
   ]
  },
  {
   "cell_type": "markdown",
   "id": "b4abd9f8",
   "metadata": {},
   "source": [
    "#### Question!\n",
    "Why did we now get a notably smaller tfidf vector length?"
   ]
  },
  {
   "cell_type": "code",
   "execution_count": 59,
   "id": "a8ed78c1",
   "metadata": {},
   "outputs": [
    {
     "data": {
      "text/plain": [
       "array([0.1387891 , 0.13512541, 0.14732539, 0.11708958, 0.14946676,\n",
       "       0.11511072, 0.1444836 , 0.13665878, 0.14979188, 0.10268665,\n",
       "       0.08515603, 0.12004832, 0.10720641, 0.11965181, 0.12394399,\n",
       "       0.092254  , 0.14979188, 0.11356895, 0.10914472, 0.14331753,\n",
       "       0.09882652, 0.10212461, 0.09038474, 0.09779526, 0.09394805,\n",
       "       0.14525597, 0.12540266, 0.13598151, 0.12847323, 0.14875365,\n",
       "       0.11584212, 0.11375017, 0.11152386, 0.12644517, 0.1377188 ,\n",
       "       0.07982853, 0.05498834, 0.13392387, 0.11242216, 0.14367861,\n",
       "       0.1499564 , 0.14313935, 0.1202977 , 0.07495173, 0.14612707,\n",
       "       0.11327957, 0.13124683, 0.056673  , 0.05969443, 0.1270542 ,\n",
       "       0.08700208, 0.14599061, 0.07204574, 0.1137082 , 0.08188261,\n",
       "       0.10429517, 0.08306113, 0.07947322, 0.07596308, 0.12319629,\n",
       "       0.09291383, 0.09143116, 0.10948931, 0.178938  , 0.12462447,\n",
       "       0.09796248, 0.10013418, 0.11864844, 0.11132398, 0.08634848,\n",
       "       0.09937276, 0.09949771, 0.08454477, 0.05570801, 0.09212747])"
      ]
     },
     "execution_count": 59,
     "metadata": {},
     "output_type": "execute_result"
    }
   ],
   "source": [
    "tfidf_vectors[0, :].data"
   ]
  },
  {
   "cell_type": "code",
   "execution_count": 60,
   "id": "19b4001c",
   "metadata": {},
   "outputs": [
    {
     "data": {
      "text/plain": [
       "array([8292, 3801, 7590, 9155, 9260, 4170, 9254, 3032, 4240, 9844, 6542,\n",
       "       6429, 8291, 7868, 6832, 3800, 9342, 3792, 2735, 4848, 7587, 5121,\n",
       "       2055, 9154, 1465,  938, 6612, 9259, 3320, 1125, 5068, 9866,  704,\n",
       "       8424, 7817, 9058, 4141, 6406, 9252, 5394, 1433, 5585, 7626, 3029,\n",
       "       4452, 1015, 9813, 5396, 4223, 4715, 6426, 5932, 2410, 9826, 6831,\n",
       "       9340, 2511, 4845, 2052, 4822, 4333, 6610, 1111, 9843, 8443, 8423,\n",
       "       8523, 4263,  212, 2208, 6403, 5392, 5583, 3019, 4449])"
      ]
     },
     "execution_count": 60,
     "metadata": {},
     "output_type": "execute_result"
    }
   ],
   "source": [
    "tfidf_vectors[0, :].indices"
   ]
  },
  {
   "cell_type": "code",
   "execution_count": 61,
   "id": "aa862adf",
   "metadata": {},
   "outputs": [
    {
     "data": {
      "text/html": [
       "<div>\n",
       "<style scoped>\n",
       "    .dataframe tbody tr th:only-of-type {\n",
       "        vertical-align: middle;\n",
       "    }\n",
       "\n",
       "    .dataframe tbody tr th {\n",
       "        vertical-align: top;\n",
       "    }\n",
       "\n",
       "    .dataframe thead th {\n",
       "        text-align: right;\n",
       "    }\n",
       "</style>\n",
       "<table border=\"1\" class=\"dataframe\">\n",
       "  <thead>\n",
       "    <tr style=\"text-align: right;\">\n",
       "      <th></th>\n",
       "      <th>word</th>\n",
       "      <th>tfidf</th>\n",
       "    </tr>\n",
       "  </thead>\n",
       "  <tbody>\n",
       "    <tr>\n",
       "      <th>0</th>\n",
       "      <td>to say that</td>\n",
       "      <td>0.138789</td>\n",
       "    </tr>\n",
       "    <tr>\n",
       "      <th>1</th>\n",
       "      <td>in spain and</td>\n",
       "      <td>0.135125</td>\n",
       "    </tr>\n",
       "    <tr>\n",
       "      <th>2</th>\n",
       "      <td>the most expensive</td>\n",
       "      <td>0.147325</td>\n",
       "    </tr>\n",
       "    <tr>\n",
       "      <th>3</th>\n",
       "      <td>we did not</td>\n",
       "      <td>0.117090</td>\n",
       "    </tr>\n",
       "    <tr>\n",
       "      <th>4</th>\n",
       "      <td>we should have</td>\n",
       "      <td>0.149467</td>\n",
       "    </tr>\n",
       "    <tr>\n",
       "      <th>...</th>\n",
       "      <td>...</td>\n",
       "      <td>...</td>\n",
       "    </tr>\n",
       "    <tr>\n",
       "      <th>70</th>\n",
       "      <td>sat</td>\n",
       "      <td>0.099373</td>\n",
       "    </tr>\n",
       "    <tr>\n",
       "      <th>71</th>\n",
       "      <td>once</td>\n",
       "      <td>0.099498</td>\n",
       "    </tr>\n",
       "    <tr>\n",
       "      <th>72</th>\n",
       "      <td>outside</td>\n",
       "      <td>0.084545</td>\n",
       "    </tr>\n",
       "    <tr>\n",
       "      <th>73</th>\n",
       "      <td>from</td>\n",
       "      <td>0.055708</td>\n",
       "    </tr>\n",
       "    <tr>\n",
       "      <th>74</th>\n",
       "      <td>looked</td>\n",
       "      <td>0.092127</td>\n",
       "    </tr>\n",
       "  </tbody>\n",
       "</table>\n",
       "<p>75 rows × 2 columns</p>\n",
       "</div>"
      ],
      "text/plain": [
       "                  word     tfidf\n",
       "0          to say that  0.138789\n",
       "1         in spain and  0.135125\n",
       "2   the most expensive  0.147325\n",
       "3           we did not  0.117090\n",
       "4       we should have  0.149467\n",
       "..                 ...       ...\n",
       "70                 sat  0.099373\n",
       "71                once  0.099498\n",
       "72             outside  0.084545\n",
       "73                from  0.055708\n",
       "74              looked  0.092127\n",
       "\n",
       "[75 rows x 2 columns]"
      ]
     },
     "execution_count": 61,
     "metadata": {},
     "output_type": "execute_result"
    }
   ],
   "source": [
    "example_vector = pd.DataFrame({\n",
    "    \"word\": vectorizer.get_feature_names_out()[tfidf_vectors[0, :].indices],\n",
    "    \"tfidf\": tfidf_vectors[0, :].data\n",
    "})\n",
    "example_vector"
   ]
  },
  {
   "cell_type": "markdown",
   "id": "c3126472",
   "metadata": {},
   "source": [
    "This time we will start right away with a classification model:\n",
    "\n",
    "### Logistic Regression model"
   ]
  },
  {
   "cell_type": "code",
   "execution_count": 62,
   "id": "a70afa1a",
   "metadata": {},
   "outputs": [
    {
     "name": "stderr",
     "output_type": "stream",
     "text": [
      "C:\\Users\\flori\\anaconda3\\envs\\ai_smart_health\\lib\\site-packages\\sklearn\\linear_model\\_logistic.py:458: ConvergenceWarning: lbfgs failed to converge (status=1):\n",
      "STOP: TOTAL NO. of ITERATIONS REACHED LIMIT.\n",
      "\n",
      "Increase the number of iterations (max_iter) or scale the data as shown in:\n",
      "    https://scikit-learn.org/stable/modules/preprocessing.html\n",
      "Please also refer to the documentation for alternative solver options:\n",
      "    https://scikit-learn.org/stable/modules/linear_model.html#logistic-regression\n",
      "  n_iter_i = _check_optimize_result(\n"
     ]
    },
    {
     "data": {
      "text/html": [
       "<style>#sk-container-id-4 {color: black;background-color: white;}#sk-container-id-4 pre{padding: 0;}#sk-container-id-4 div.sk-toggleable {background-color: white;}#sk-container-id-4 label.sk-toggleable__label {cursor: pointer;display: block;width: 100%;margin-bottom: 0;padding: 0.3em;box-sizing: border-box;text-align: center;}#sk-container-id-4 label.sk-toggleable__label-arrow:before {content: \"▸\";float: left;margin-right: 0.25em;color: #696969;}#sk-container-id-4 label.sk-toggleable__label-arrow:hover:before {color: black;}#sk-container-id-4 div.sk-estimator:hover label.sk-toggleable__label-arrow:before {color: black;}#sk-container-id-4 div.sk-toggleable__content {max-height: 0;max-width: 0;overflow: hidden;text-align: left;background-color: #f0f8ff;}#sk-container-id-4 div.sk-toggleable__content pre {margin: 0.2em;color: black;border-radius: 0.25em;background-color: #f0f8ff;}#sk-container-id-4 input.sk-toggleable__control:checked~div.sk-toggleable__content {max-height: 200px;max-width: 100%;overflow: auto;}#sk-container-id-4 input.sk-toggleable__control:checked~label.sk-toggleable__label-arrow:before {content: \"▾\";}#sk-container-id-4 div.sk-estimator input.sk-toggleable__control:checked~label.sk-toggleable__label {background-color: #d4ebff;}#sk-container-id-4 div.sk-label input.sk-toggleable__control:checked~label.sk-toggleable__label {background-color: #d4ebff;}#sk-container-id-4 input.sk-hidden--visually {border: 0;clip: rect(1px 1px 1px 1px);clip: rect(1px, 1px, 1px, 1px);height: 1px;margin: -1px;overflow: hidden;padding: 0;position: absolute;width: 1px;}#sk-container-id-4 div.sk-estimator {font-family: monospace;background-color: #f0f8ff;border: 1px dotted black;border-radius: 0.25em;box-sizing: border-box;margin-bottom: 0.5em;}#sk-container-id-4 div.sk-estimator:hover {background-color: #d4ebff;}#sk-container-id-4 div.sk-parallel-item::after {content: \"\";width: 100%;border-bottom: 1px solid gray;flex-grow: 1;}#sk-container-id-4 div.sk-label:hover label.sk-toggleable__label {background-color: #d4ebff;}#sk-container-id-4 div.sk-serial::before {content: \"\";position: absolute;border-left: 1px solid gray;box-sizing: border-box;top: 0;bottom: 0;left: 50%;z-index: 0;}#sk-container-id-4 div.sk-serial {display: flex;flex-direction: column;align-items: center;background-color: white;padding-right: 0.2em;padding-left: 0.2em;position: relative;}#sk-container-id-4 div.sk-item {position: relative;z-index: 1;}#sk-container-id-4 div.sk-parallel {display: flex;align-items: stretch;justify-content: center;background-color: white;position: relative;}#sk-container-id-4 div.sk-item::before, #sk-container-id-4 div.sk-parallel-item::before {content: \"\";position: absolute;border-left: 1px solid gray;box-sizing: border-box;top: 0;bottom: 0;left: 50%;z-index: -1;}#sk-container-id-4 div.sk-parallel-item {display: flex;flex-direction: column;z-index: 1;position: relative;background-color: white;}#sk-container-id-4 div.sk-parallel-item:first-child::after {align-self: flex-end;width: 50%;}#sk-container-id-4 div.sk-parallel-item:last-child::after {align-self: flex-start;width: 50%;}#sk-container-id-4 div.sk-parallel-item:only-child::after {width: 0;}#sk-container-id-4 div.sk-dashed-wrapped {border: 1px dashed gray;margin: 0 0.4em 0.5em 0.4em;box-sizing: border-box;padding-bottom: 0.4em;background-color: white;}#sk-container-id-4 div.sk-label label {font-family: monospace;font-weight: bold;display: inline-block;line-height: 1.2em;}#sk-container-id-4 div.sk-label-container {text-align: center;}#sk-container-id-4 div.sk-container {/* jupyter's `normalize.less` sets `[hidden] { display: none; }` but bootstrap.min.css set `[hidden] { display: none !important; }` so we also need the `!important` here to be able to override the default hidden behavior on the sphinx rendered scikit-learn.org. See: https://github.com/scikit-learn/scikit-learn/issues/21755 */display: inline-block !important;position: relative;}#sk-container-id-4 div.sk-text-repr-fallback {display: none;}</style><div id=\"sk-container-id-4\" class=\"sk-top-container\"><div class=\"sk-text-repr-fallback\"><pre>LogisticRegression(max_iter=300)</pre><b>In a Jupyter environment, please rerun this cell to show the HTML representation or trust the notebook. <br />On GitHub, the HTML representation is unable to render, please try loading this page with nbviewer.org.</b></div><div class=\"sk-container\" hidden><div class=\"sk-item\"><div class=\"sk-estimator sk-toggleable\"><input class=\"sk-toggleable__control sk-hidden--visually\" id=\"sk-estimator-id-4\" type=\"checkbox\" checked><label for=\"sk-estimator-id-4\" class=\"sk-toggleable__label sk-toggleable__label-arrow\">LogisticRegression</label><div class=\"sk-toggleable__content\"><pre>LogisticRegression(max_iter=300)</pre></div></div></div></div></div>"
      ],
      "text/plain": [
       "LogisticRegression(max_iter=300)"
      ]
     },
     "execution_count": 62,
     "metadata": {},
     "output_type": "execute_result"
    }
   ],
   "source": [
    "from sklearn.linear_model import LogisticRegression\n",
    "\n",
    "model = LogisticRegression(max_iter=300)  # don't worry it also works without setting max_iter\n",
    "model.fit(tfidf_vectors, y_train)"
   ]
  },
  {
   "cell_type": "code",
   "execution_count": 63,
   "id": "98a753d6",
   "metadata": {},
   "outputs": [],
   "source": [
    "tfidf_vectors_test = vectorizer.transform(X_test)\n",
    "predictions = model.predict(tfidf_vectors_test)"
   ]
  },
  {
   "cell_type": "code",
   "execution_count": 64,
   "id": "835acb48",
   "metadata": {},
   "outputs": [
    {
     "data": {
      "text/plain": [
       "array([4, 5, 4, 5, 4, 5, 5, 5, 5, 5, 5, 5, 4, 5, 5, 3, 5, 5, 5, 5],\n",
       "      dtype=int64)"
      ]
     },
     "execution_count": 64,
     "metadata": {},
     "output_type": "execute_result"
    }
   ],
   "source": [
    "np.round(predictions[:20], 1)"
   ]
  },
  {
   "cell_type": "code",
   "execution_count": 65,
   "id": "6daf658c",
   "metadata": {},
   "outputs": [
    {
     "data": {
      "text/plain": [
       "array([5, 5, 4, 5, 3, 5, 5, 5, 5, 4, 5, 5, 4, 5, 5, 3, 5, 5, 5, 5],\n",
       "      dtype=int64)"
      ]
     },
     "execution_count": 65,
     "metadata": {},
     "output_type": "execute_result"
    }
   ],
   "source": [
    "y_test[:20].values"
   ]
  },
  {
   "cell_type": "code",
   "execution_count": 74,
   "id": "57c09f27",
   "metadata": {},
   "outputs": [
    {
     "data": {
      "text/plain": [
       "Text(0.5, 0, 'prediction error')"
      ]
     },
     "execution_count": 74,
     "metadata": {},
     "output_type": "execute_result"
    },
    {
     "data": {
      "image/png": "[encoded data removed]",
      "text/plain": [
       "<Figure size 640x480 with 1 Axes>"
      ]
     },
     "metadata": {},
     "output_type": "display_data"
    }
   ],
   "source": [
    "sb.histplot(predictions - y_test)\n",
    "plt.xlabel(\"prediction error\")"
   ]
  },
  {
   "cell_type": "code",
   "execution_count": 67,
   "id": "73246c8b",
   "metadata": {},
   "outputs": [
    {
     "data": {
      "text/plain": [
       "0.34684761096974837"
      ]
     },
     "execution_count": 67,
     "metadata": {},
     "output_type": "execute_result"
    }
   ],
   "source": [
    "# mean absolute error:\n",
    "np.abs(predictions - y_test).mean()"
   ]
  },
  {
   "cell_type": "code",
   "execution_count": 68,
   "id": "43ddd224",
   "metadata": {},
   "outputs": [
    {
     "data": {
      "image/png": "[encoded data removed]",
      "text/plain": [
       "<Figure size 900x700 with 2 Axes>"
      ]
     },
     "metadata": {},
     "output_type": "display_data"
    }
   ],
   "source": [
    "from sklearn.metrics import confusion_matrix, classification_report\n",
    "\n",
    "cm = confusion_matrix(y_test, predictions, labels=model.classes_)\n",
    "\n",
    "# Plotting the confusion matrix with a heatmap\n",
    "plt.figure(figsize=(9,7))\n",
    "sb.heatmap(cm, annot=True, fmt='d',\n",
    "           cmap='Blues',\n",
    "           xticklabels=model.classes_,\n",
    "           yticklabels=model.classes_,\n",
    "           vmax=5000\n",
    "          )\n",
    "plt.xlabel('Predicted labels')\n",
    "plt.ylabel('True labels')\n",
    "plt.title('Confusion Matrix')\n",
    "plt.show()"
   ]
  },
  {
   "cell_type": "markdown",
   "id": "c74a1535",
   "metadata": {},
   "source": [
    "### Did the 2-grams and 3-grams help?\n",
    "Well, the prediction accuracy only got slightly better. So, it seems to have *some* effect, but nothing spectacular. However, this is not a general finding and might look very differently for other datasets or problems.\n",
    "\n",
    "We can now also look at the ngrams that have the largest impact on the model predictions:"
   ]
  },
  {
   "cell_type": "code",
   "execution_count": 69,
   "id": "a4063256",
   "metadata": {},
   "outputs": [
    {
     "data": {
      "text/html": [
       "<div>\n",
       "<style scoped>\n",
       "    .dataframe tbody tr th:only-of-type {\n",
       "        vertical-align: middle;\n",
       "    }\n",
       "\n",
       "    .dataframe tbody tr th {\n",
       "        vertical-align: top;\n",
       "    }\n",
       "\n",
       "    .dataframe thead th {\n",
       "        text-align: right;\n",
       "    }\n",
       "</style>\n",
       "<table border=\"1\" class=\"dataframe\">\n",
       "  <thead>\n",
       "    <tr style=\"text-align: right;\">\n",
       "      <th></th>\n",
       "      <th>ngram</th>\n",
       "      <th>weight</th>\n",
       "    </tr>\n",
       "  </thead>\n",
       "  <tbody>\n",
       "    <tr>\n",
       "      <th>2008</th>\n",
       "      <td>delicious</td>\n",
       "      <td>-5.679471</td>\n",
       "    </tr>\n",
       "    <tr>\n",
       "      <th>2477</th>\n",
       "      <td>excellent</td>\n",
       "      <td>-5.174349</td>\n",
       "    </tr>\n",
       "    <tr>\n",
       "      <th>8694</th>\n",
       "      <td>very good</td>\n",
       "      <td>-4.929491</td>\n",
       "    </tr>\n",
       "    <tr>\n",
       "      <th>7185</th>\n",
       "      <td>tasty</td>\n",
       "      <td>-3.620315</td>\n",
       "    </tr>\n",
       "    <tr>\n",
       "      <th>8954</th>\n",
       "      <td>was good</td>\n",
       "      <td>-3.569174</td>\n",
       "    </tr>\n",
       "    <tr>\n",
       "      <th>...</th>\n",
       "      <td>...</td>\n",
       "      <td>...</td>\n",
       "    </tr>\n",
       "    <tr>\n",
       "      <th>3619</th>\n",
       "      <td>horrible</td>\n",
       "      <td>5.512549</td>\n",
       "    </tr>\n",
       "    <tr>\n",
       "      <th>1015</th>\n",
       "      <td>avoid</td>\n",
       "      <td>5.905717</td>\n",
       "    </tr>\n",
       "    <tr>\n",
       "      <th>6344</th>\n",
       "      <td>rude</td>\n",
       "      <td>5.934622</td>\n",
       "    </tr>\n",
       "    <tr>\n",
       "      <th>9826</th>\n",
       "      <td>worst</td>\n",
       "      <td>6.540459</td>\n",
       "    </tr>\n",
       "    <tr>\n",
       "      <th>7215</th>\n",
       "      <td>terrible</td>\n",
       "      <td>7.033302</td>\n",
       "    </tr>\n",
       "  </tbody>\n",
       "</table>\n",
       "<p>10000 rows × 2 columns</p>\n",
       "</div>"
      ],
      "text/plain": [
       "          ngram    weight\n",
       "2008  delicious -5.679471\n",
       "2477  excellent -5.174349\n",
       "8694  very good -4.929491\n",
       "7185      tasty -3.620315\n",
       "8954   was good -3.569174\n",
       "...         ...       ...\n",
       "3619   horrible  5.512549\n",
       "1015      avoid  5.905717\n",
       "6344       rude  5.934622\n",
       "9826      worst  6.540459\n",
       "7215   terrible  7.033302\n",
       "\n",
       "[10000 rows x 2 columns]"
      ]
     },
     "execution_count": 69,
     "metadata": {},
     "output_type": "execute_result"
    }
   ],
   "source": [
    "ngrams = pd.DataFrame({\"ngram\": vectorizer.get_feature_names_out(),\n",
    "                       \"weight\": model.coef_[0]\n",
    "                      })\n",
    "ngrams.sort_values(\"weight\")"
   ]
  },
  {
   "cell_type": "markdown",
   "id": "80d959d3",
   "metadata": {},
   "source": [
    "Here, too, we find only very few 2-grams in the top-20 and bottom-20 lists. Most of the times, the model still seems to judge the reviews based on individual words."
   ]
  },
  {
   "cell_type": "code",
   "execution_count": 70,
   "id": "92578644",
   "metadata": {},
   "outputs": [
    {
     "data": {
      "text/html": [
       "<div>\n",
       "<style scoped>\n",
       "    .dataframe tbody tr th:only-of-type {\n",
       "        vertical-align: middle;\n",
       "    }\n",
       "\n",
       "    .dataframe tbody tr th {\n",
       "        vertical-align: top;\n",
       "    }\n",
       "\n",
       "    .dataframe thead th {\n",
       "        text-align: right;\n",
       "    }\n",
       "</style>\n",
       "<table border=\"1\" class=\"dataframe\">\n",
       "  <thead>\n",
       "    <tr style=\"text-align: right;\">\n",
       "      <th></th>\n",
       "      <th>ngram</th>\n",
       "      <th>weight</th>\n",
       "    </tr>\n",
       "  </thead>\n",
       "  <tbody>\n",
       "    <tr>\n",
       "      <th>2008</th>\n",
       "      <td>delicious</td>\n",
       "      <td>-5.679471</td>\n",
       "    </tr>\n",
       "    <tr>\n",
       "      <th>2477</th>\n",
       "      <td>excellent</td>\n",
       "      <td>-5.174349</td>\n",
       "    </tr>\n",
       "    <tr>\n",
       "      <th>8694</th>\n",
       "      <td>very good</td>\n",
       "      <td>-4.929491</td>\n",
       "    </tr>\n",
       "    <tr>\n",
       "      <th>7185</th>\n",
       "      <td>tasty</td>\n",
       "      <td>-3.620315</td>\n",
       "    </tr>\n",
       "    <tr>\n",
       "      <th>8954</th>\n",
       "      <td>was good</td>\n",
       "      <td>-3.569174</td>\n",
       "    </tr>\n",
       "    <tr>\n",
       "      <th>2987</th>\n",
       "      <td>friendly</td>\n",
       "      <td>-3.554020</td>\n",
       "    </tr>\n",
       "    <tr>\n",
       "      <th>1272</th>\n",
       "      <td>bit</td>\n",
       "      <td>-3.392447</td>\n",
       "    </tr>\n",
       "    <tr>\n",
       "      <th>248</th>\n",
       "      <td>amazing</td>\n",
       "      <td>-3.362312</td>\n",
       "    </tr>\n",
       "    <tr>\n",
       "      <th>7327</th>\n",
       "      <td>the best</td>\n",
       "      <td>-3.300674</td>\n",
       "    </tr>\n",
       "    <tr>\n",
       "      <th>4991</th>\n",
       "      <td>nice</td>\n",
       "      <td>-3.179749</td>\n",
       "    </tr>\n",
       "    <tr>\n",
       "      <th>967</th>\n",
       "      <td>atmosphere</td>\n",
       "      <td>-2.883584</td>\n",
       "    </tr>\n",
       "    <tr>\n",
       "      <th>5066</th>\n",
       "      <td>not bad</td>\n",
       "      <td>-2.815060</td>\n",
       "    </tr>\n",
       "    <tr>\n",
       "      <th>1215</th>\n",
       "      <td>best</td>\n",
       "      <td>-2.774438</td>\n",
       "    </tr>\n",
       "    <tr>\n",
       "      <th>4385</th>\n",
       "      <td>little</td>\n",
       "      <td>-2.698092</td>\n",
       "    </tr>\n",
       "    <tr>\n",
       "      <th>8959</th>\n",
       "      <td>was great</td>\n",
       "      <td>-2.671645</td>\n",
       "    </tr>\n",
       "    <tr>\n",
       "      <th>5714</th>\n",
       "      <td>perfect</td>\n",
       "      <td>-2.630462</td>\n",
       "    </tr>\n",
       "    <tr>\n",
       "      <th>4486</th>\n",
       "      <td>loved</td>\n",
       "      <td>-2.577662</td>\n",
       "    </tr>\n",
       "    <tr>\n",
       "      <th>6117</th>\n",
       "      <td>reasonable</td>\n",
       "      <td>-2.553251</td>\n",
       "    </tr>\n",
       "    <tr>\n",
       "      <th>2574</th>\n",
       "      <td>fantastic</td>\n",
       "      <td>-2.466228</td>\n",
       "    </tr>\n",
       "    <tr>\n",
       "      <th>4492</th>\n",
       "      <td>lovely</td>\n",
       "      <td>-2.462175</td>\n",
       "    </tr>\n",
       "  </tbody>\n",
       "</table>\n",
       "</div>"
      ],
      "text/plain": [
       "           ngram    weight\n",
       "2008   delicious -5.679471\n",
       "2477   excellent -5.174349\n",
       "8694   very good -4.929491\n",
       "7185       tasty -3.620315\n",
       "8954    was good -3.569174\n",
       "2987    friendly -3.554020\n",
       "1272         bit -3.392447\n",
       "248      amazing -3.362312\n",
       "7327    the best -3.300674\n",
       "4991        nice -3.179749\n",
       "967   atmosphere -2.883584\n",
       "5066     not bad -2.815060\n",
       "1215        best -2.774438\n",
       "4385      little -2.698092\n",
       "8959   was great -2.671645\n",
       "5714     perfect -2.630462\n",
       "4486       loved -2.577662\n",
       "6117  reasonable -2.553251\n",
       "2574   fantastic -2.466228\n",
       "4492      lovely -2.462175"
      ]
     },
     "execution_count": 70,
     "metadata": {},
     "output_type": "execute_result"
    }
   ],
   "source": [
    "ngrams.sort_values(\"weight\").head(20)"
   ]
  },
  {
   "cell_type": "code",
   "execution_count": 71,
   "id": "1e27f698",
   "metadata": {},
   "outputs": [
    {
     "name": "stdout",
     "output_type": "stream",
     "text": [
      "[[ 1300   230   167    66    84]\n",
      " [  435   350   486   143    92]\n",
      " [  137   187  1392  1009   324]\n",
      " [   26    22   379  4200  4602]\n",
      " [   21     9    62  2231 17416]]\n",
      "              precision    recall  f1-score   support\n",
      "\n",
      "           1       0.68      0.70      0.69      1847\n",
      "           2       0.44      0.23      0.30      1506\n",
      "           3       0.56      0.46      0.50      3049\n",
      "           4       0.55      0.46      0.50      9229\n",
      "           5       0.77      0.88      0.82     19739\n",
      "\n",
      "    accuracy                           0.70     35370\n",
      "   macro avg       0.60      0.55      0.56     35370\n",
      "weighted avg       0.68      0.70      0.68     35370\n",
      "\n"
     ]
    }
   ],
   "source": [
    "from sklearn.metrics import confusion_matrix, classification_report\n",
    "\n",
    "print(confusion_matrix(y_test, predictions))\n",
    "print(classification_report(y_test, predictions))"
   ]
  },
  {
   "cell_type": "markdown",
   "id": "bb8dfa4a",
   "metadata": {},
   "source": [
    "### Confusion matrix\n",
    "The confusion matrix can tell us a lot about where the model works well and where it fails. Often is is more accessible if the matrix is plotted, for instance using seaborns `heatmap`."
   ]
  },
  {
   "cell_type": "code",
   "execution_count": 72,
   "id": "7796bcb4",
   "metadata": {},
   "outputs": [
    {
     "data": {
      "image/png": "[encoded data removed]",
      "text/plain": [
       "<Figure size 900x700 with 2 Axes>"
      ]
     },
     "metadata": {},
     "output_type": "display_data"
    }
   ],
   "source": [
    "cm = confusion_matrix(y_test, predictions, labels=model.classes_)\n",
    "\n",
    "# Plotting the confusion matrix with a heatmap\n",
    "plt.figure(figsize=(9,7))\n",
    "sb.heatmap(cm, annot=True, fmt='d',\n",
    "           cmap='Blues',\n",
    "           xticklabels=model.classes_,\n",
    "           yticklabels=model.classes_)\n",
    "plt.xlabel('Predicted labels')\n",
    "plt.ylabel('True labels')\n",
    "plt.title('Confusion Matrix')\n",
    "plt.show()"
   ]
  },
  {
   "cell_type": "markdown",
   "id": "c64e0d78",
   "metadata": {},
   "source": [
    "## Find similar documents with tfidf\n",
    "So far, we used the tfidf-vectors as feature vectors to train machine learning models. As we just saw, this works very well to predict review rating or to classify documents as positive/negative (=sentiment analysis).\n",
    "\n",
    "But there is more we can do with tfidf vectors.\n",
    "Why not use the vectors to compute distances or similarities? This way, we can search for the most similar documents in a corpus!"
   ]
  },
  {
   "cell_type": "code",
   "execution_count": 105,
   "id": "96c1411f",
   "metadata": {},
   "outputs": [
    {
     "data": {
      "text/plain": [
       "(141478, 50000)"
      ]
     },
     "execution_count": 105,
     "metadata": {},
     "output_type": "execute_result"
    }
   ],
   "source": [
    "vectorizer = TfidfVectorizer(min_df=10, max_df=0.2,\n",
    "                             max_features=50000,\n",
    "                             ngram_range=(1, 3))  \n",
    "tfidf_vectors = vectorizer.fit_transform(X_train)\n",
    "tfidf_vectors.shape"
   ]
  },
  {
   "cell_type": "code",
   "execution_count": 106,
   "id": "1ed7ff53",
   "metadata": {},
   "outputs": [
    {
     "data": {
      "text/plain": [
       "(141478, 50000)"
      ]
     },
     "execution_count": 106,
     "metadata": {},
     "output_type": "execute_result"
    }
   ],
   "source": [
    "tfidf_vectors.shape"
   ]
  },
  {
   "cell_type": "code",
   "execution_count": 107,
   "id": "30e00c79",
   "metadata": {},
   "outputs": [
    {
     "data": {
      "text/plain": [
       "(141478,)"
      ]
     },
     "execution_count": 107,
     "metadata": {},
     "output_type": "execute_result"
    }
   ],
   "source": [
    "X_train.shape"
   ]
  },
  {
   "cell_type": "markdown",
   "id": "52f3b0c0",
   "metadata": {},
   "source": [
    "#### Compare one vector to all other vectors\n",
    "Even though we here deal with very large vectors, computing similarities or angles between these vectors is compuationally very efficient. This means, we can simply compare a the tfidf vector of a given text to all > 140,000 documents in virtually no time!\n",
    "\n",
    "In order for this to work, however, we should not rely on for-loops. Those are inherently slow in Python. We rather use optimized functions for this such as from `sklear.metrics.pairwise`."
   ]
  },
  {
   "cell_type": "code",
   "execution_count": 181,
   "id": "86db291a",
   "metadata": {},
   "outputs": [
    {
     "data": {
      "text/plain": [
       "(141478,)"
      ]
     },
     "execution_count": 181,
     "metadata": {},
     "output_type": "execute_result"
    }
   ],
   "source": [
    "from sklearn.metrics.pairwise import cosine_similarity\n",
    "\n",
    "review_id = -11#-9#-2\n",
    "query_vector = tfidf_vectors[review_id, :]\n",
    "\n",
    "cosine_similarities = cosine_similarity(query_vector, tfidf_vectors).flatten()\n",
    "cosine_similarities.shape"
   ]
  },
  {
   "cell_type": "code",
   "execution_count": 182,
   "id": "edcfdb59",
   "metadata": {},
   "outputs": [
    {
     "data": {
      "text/plain": [
       "array([1.        , 0.36692149, 0.31812401, ..., 0.        , 0.        ,\n",
       "       0.        ])"
      ]
     },
     "execution_count": 182,
     "metadata": {},
     "output_type": "execute_result"
    }
   ],
   "source": [
    "np.sort(cosine_similarities)[::-1]"
   ]
  },
  {
   "cell_type": "code",
   "execution_count": 183,
   "id": "5be589c7",
   "metadata": {},
   "outputs": [
    {
     "data": {
      "text/plain": [
       "array([141467,  94876,  91939, ...,  95683,  43090, 104856], dtype=int64)"
      ]
     },
     "execution_count": 183,
     "metadata": {},
     "output_type": "execute_result"
    }
   ],
   "source": [
    "np.argsort(cosine_similarities)[::-1]"
   ]
  },
  {
   "cell_type": "code",
   "execution_count": 184,
   "id": "ad738622",
   "metadata": {},
   "outputs": [
    {
     "data": {
      "text/plain": [
       "array([ 94876,  91939, 103516,  47460,  51098], dtype=int64)"
      ]
     },
     "execution_count": 184,
     "metadata": {},
     "output_type": "execute_result"
    }
   ],
   "source": [
    "top5_idx = np.argsort(cosine_similarities)[::-1][1:6]\n",
    "top5_idx"
   ]
  },
  {
   "cell_type": "markdown",
   "id": "1bfdec63",
   "metadata": {},
   "source": [
    "Let us now look at the results of our search by displaying the top-5 most similar documents (according to the cosine score on the tfidf-vectors). This usually doesn't work perfectly, but it does work to quite some extent. Try it out yourself and have a look at what documents this finds for you!"
   ]
  },
  {
   "cell_type": "code",
   "execution_count": 185,
   "id": "217d1b25",
   "metadata": {},
   "outputs": [
    {
     "name": "stdout",
     "output_type": "stream",
     "text": [
      "\n",
      "****Original document:****\n",
      "The food was great, the staff were friendly. The place was not crowded. The location was very convenient, while hidden from the hustle and bustle.\n",
      "\n",
      "----Document with similarity 0.367:----\n",
      "Takes you away from the hustle and bustle of the city ! Lovely setting.Recommend the sangria cocktails.\n",
      "\n",
      "----Document with similarity 0.318:----\n",
      "Cute little spot away from the hustle and bustle. We enjoyed the most delicious little cake (Tigre chocolate) and hot chocolate. Friendly service as well!\n",
      "\n",
      "----Document with similarity 0.309:----\n",
      "Stopped off for a quick drink, great little place away from the hustle and bustle. Tasty complimentary tortilla, didn't have a meal, but food looked great Would come back.\n",
      "\n",
      "----Document with similarity 0.307:----\n",
      "This taberna is nestled away from the hustle and bustle, but close to Palacio Real. Very authentic and local. Go hungry, cocido madrileño is not for the faint of heart.\n",
      "\n",
      "----Document with similarity 0.298:----\n",
      "Perfect dinner spot in La Latina, a little ways away from the hustle and bustle of this barrio. The service was above par and the food delicious. Will definitely be back!\n"
     ]
    }
   ],
   "source": [
    "print(\"\\n****Original document:****\")\n",
    "print(X_train.iloc[review_id])\n",
    "\n",
    "for i in top5_idx:\n",
    "    print(f\"\\n----Document with similarity {cosine_similarities[i]:.3f}:----\")\n",
    "    print(X_train.iloc[i])"
   ]
  },
  {
   "cell_type": "markdown",
   "id": "b39d7a09",
   "metadata": {},
   "source": [
    "## Word Vectors: Word2Vec and Co\n",
    "**Tfidf vectors** are a rather basic, but still often used, technique. Arguably, this is because they are based on relatively simple statistics and easy to compute. They typically do a good job in weighing words according to their importance in a larger corpus and allow us to ignore words with low *distriminative power* (for instance so-called *stopwords* such as \"a\", \"the\", \"that\", ...).\n",
    "\n",
    "With **n-grams** we can even go one step further and also count sentence pieces longer than one word, which allows to also take some grammar or negations into account. The price, however, is that we have to restrict the number of n-grams to avoid exploding vector sizes.\n",
    "\n",
    "While TF-IDF vectors and n-grams serve as powerful techniques to represent and manipulate text data, they have limitations. These methods essentially treat words as individual, isolated units, devoid of any context or relation to other words. In other words, they lack the ability to capture the semantic meanings of words and the linguistic context in which they are used.\n",
    "\n",
    "Take these two sentences as an example:\n",
    "\n",
    "(1) *The customer likes cake with a cappuccino.*  \n",
    "(2) *The client loves to have a cookie and a coffee.*\n",
    "\n",
    "We will immediately identify that both sentences speak of very similar things. But if you look at the words in both sentences you will realize that only *\"The\"* and *\"a\"* are found in both. And, as we have seen in the tfidf-part, such words tell very little about the sentence content. All other words, however, only occur in one or the other sentence. Tfidf-vectors would compute a zero similarity here.\n",
    "\n",
    "This is where we come to **word vectors**. Word vectors, also known as **word embeddings**, are mathematical representations of words in a high-dimensional space where the semantic similarity between words corresponds to the geometric distance in the embedding space. Simply put, similar words are close together, and dissimilar words are farther apart. If done well, this should show that *\"cookie\"* and *\"cake\"* are not the same word, but mean something very related.\n",
    "\n",
    "The most prominent example of such a technique is Word2Vec {cite}`mikolov_distributed_2013`{cite}`mikolov_efficient_2013`.\n"
   ]
  },
  {
   "cell_type": "code",
   "execution_count": 188,
   "id": "e2c09621",
   "metadata": {},
   "outputs": [],
   "source": [
    "#!pip install gensim"
   ]
  },
  {
   "cell_type": "code",
   "execution_count": 189,
   "id": "496462b9",
   "metadata": {},
   "outputs": [],
   "source": [
    "import nltk\n",
    "\n",
    "tokenizer = nltk.tokenize.TreebankWordTokenizer()\n",
    "stemmer = nltk.stem.WordNetLemmatizer()\n",
    "\n",
    "def process_document(doc):\n",
    "    \"\"\"Convert document to lemmas.\"\"\"\n",
    "    tokens = tokenizer.tokenize(doc)\n",
    "    tokens = [x.strip(\".,;:!? \") for x in tokens]\n",
    "    return [stemmer.lemmatize(w) for w in tokens]"
   ]
  },
  {
   "cell_type": "code",
   "execution_count": 196,
   "id": "e7394618",
   "metadata": {},
   "outputs": [
    {
     "data": {
      "application/vnd.jupyter.widget-view+json": {
       "model_id": "675675ca963a4a21b58c5f88b39e1b0c",
       "version_major": 2,
       "version_minor": 0
      },
      "text/plain": [
       "  0%|          | 0/141478 [00:00<?, ?it/s]"
      ]
     },
     "metadata": {},
     "output_type": "display_data"
    }
   ],
   "source": [
    "from tqdm.notebook import tqdm\n",
    "\n",
    "sentences = [process_document(doc) for doc in tqdm(X_train.values)]"
   ]
  },
  {
   "cell_type": "code",
   "execution_count": 200,
   "id": "197a836d",
   "metadata": {},
   "outputs": [
    {
     "data": {
      "text/plain": [
       "141478"
      ]
     },
     "execution_count": 200,
     "metadata": {},
     "output_type": "execute_result"
    }
   ],
   "source": [
    "len(sentences)"
   ]
  },
  {
   "cell_type": "markdown",
   "id": "bfc184c7",
   "metadata": {},
   "source": [
    "We will now train our own Word2Vec model using `Gensim`, see also [documentation](https://radimrehurek.com/gensim/models/word2vec.html#usage-examples)."
   ]
  },
  {
   "cell_type": "code",
   "execution_count": 201,
   "id": "fc6acac0",
   "metadata": {},
   "outputs": [],
   "source": [
    "from gensim.models import Word2Vec\n",
    "\n",
    "# Assume 'sentences' is a list of lists of tokenized sentences\n",
    "model = Word2Vec(sentences,\n",
    "                 vector_size=200,\n",
    "                 window=5,\n",
    "                 min_count=2,\n",
    "                 workers=4)"
   ]
  },
  {
   "cell_type": "code",
   "execution_count": 202,
   "id": "a9e8ae08",
   "metadata": {},
   "outputs": [],
   "source": [
    "model.save(\"word2vec_madrid_reviews.model\")"
   ]
  },
  {
   "cell_type": "code",
   "execution_count": 204,
   "id": "eec61936",
   "metadata": {},
   "outputs": [],
   "source": [
    "vector = model.wv['delicious']  # get numpy vector of a word"
   ]
  },
  {
   "cell_type": "code",
   "execution_count": 205,
   "id": "598f1668",
   "metadata": {},
   "outputs": [
    {
     "data": {
      "text/plain": [
       "array([-2.03538680e+00,  2.52757788e-01, -6.78372085e-01, -1.26871383e+00,\n",
       "       -1.08166724e-01,  8.22216213e-01,  3.38415295e-01,  7.98148632e-01,\n",
       "       -9.87190962e-01, -9.55492854e-01,  4.07470644e-01,  1.39118874e+00,\n",
       "        1.67936873e+00, -1.62421167e-01, -1.18595815e+00,  2.57541704e+00,\n",
       "       -5.80342531e-01,  1.33421934e+00,  2.37748718e+00, -1.43586814e+00,\n",
       "       -1.04479599e+00,  6.39563650e-02, -8.97780657e-01,  6.41878784e-01,\n",
       "       -1.74520206e+00,  4.68130469e-01,  8.02812040e-01, -9.29517210e-01,\n",
       "       -7.74732411e-01, -8.87739718e-01, -5.06934702e-01, -3.21538508e-01,\n",
       "       -4.80596572e-02, -1.68594670e+00, -2.41771966e-01, -4.61565822e-01,\n",
       "       -2.03054279e-01,  9.59063053e-01, -4.65506434e-01,  1.38559628e+00,\n",
       "       -4.67663795e-01, -5.63467026e-01, -1.44417775e+00, -1.22851729e+00,\n",
       "        1.17849803e+00, -1.26880860e+00, -5.07019520e-01,  3.69102329e-01,\n",
       "        2.92213416e+00, -4.93991584e-01, -6.48129582e-01,  1.70414066e+00,\n",
       "       -1.23612189e+00, -1.72287583e+00,  1.15597653e+00,  1.44868660e+00,\n",
       "       -1.22250819e+00,  2.37475419e+00,  6.53695226e-01,  2.05163908e+00,\n",
       "       -3.08574414e+00,  1.66374397e+00, -2.80261766e-02,  6.86524808e-01,\n",
       "        1.53102946e+00,  6.65094972e-01, -5.36559187e-02, -7.84830332e-01,\n",
       "        7.35198379e-01,  1.32039881e+00,  7.09394872e-01, -1.21944356e+00,\n",
       "        8.04880083e-01, -2.76637882e-01, -6.61925673e-01, -1.25887072e+00,\n",
       "        1.19793057e+00,  4.21494067e-01,  7.66302586e-01,  9.96498585e-01,\n",
       "        5.08949719e-02,  1.45889115e+00,  5.01284957e-01, -7.05735385e-01,\n",
       "        1.15695286e+00, -2.63115740e+00,  6.68963552e-01, -1.25631428e+00,\n",
       "        8.86810184e-01,  6.45234525e-01,  1.62897801e+00,  6.84916005e-02,\n",
       "        1.24690199e+00, -4.46591347e-01, -1.15185416e+00,  5.72938859e-01,\n",
       "        1.25214541e+00, -1.03020048e+00,  1.85466862e+00,  2.71878541e-01,\n",
       "        6.15206361e-01,  1.77544081e+00,  1.54688907e+00, -3.51346731e+00,\n",
       "        2.00846910e+00,  2.17208838e+00, -5.17885029e-01, -5.46077728e-01,\n",
       "       -2.82651377e+00, -8.21791515e-02,  2.36416310e-01, -6.74597442e-01,\n",
       "       -8.51826787e-01, -3.59785527e-01, -1.56974423e+00,  9.27218020e-01,\n",
       "       -2.02717376e+00,  1.95397782e+00,  7.02663004e-01, -1.02236593e+00,\n",
       "        6.56838715e-01,  6.73914135e-01, -3.00290734e-01, -9.34027076e-01,\n",
       "       -8.00638616e-01, -1.32641673e-01, -7.23512411e-01, -1.51655793e+00,\n",
       "       -8.64614844e-01,  7.01261044e-01,  1.04395604e+00,  1.31523907e+00,\n",
       "        8.43236089e-01, -2.57687283e+00, -1.49496460e+00, -4.15781051e-01,\n",
       "       -5.65135837e-01,  2.03486538e+00,  1.17266095e+00, -2.50355184e-01,\n",
       "        1.85218894e+00,  5.07799566e-01,  1.23914981e+00, -4.94150430e-01,\n",
       "        2.27533412e+00, -2.61036470e-03, -3.87329668e-01, -1.11296475e-01,\n",
       "       -1.18795252e+00,  3.70148182e-01,  1.59401250e+00, -1.83947122e+00,\n",
       "       -2.73712277e+00,  4.71669245e+00,  1.95886984e-01, -4.84028697e-01,\n",
       "        9.64134216e-01,  2.53249586e-01, -2.59700298e+00, -2.38229573e-01,\n",
       "       -1.69923174e+00,  3.20591122e-01, -2.14936686e+00, -5.11169016e-01,\n",
       "        7.22345829e-01,  1.10016990e+00,  2.35557246e+00, -7.25124359e-01,\n",
       "       -1.31868494e+00, -6.81534111e-01, -4.91266608e-01,  1.32315159e+00,\n",
       "        9.05143797e-01,  9.32789594e-02, -6.45776391e-01, -1.09242570e+00,\n",
       "       -3.32741797e-01, -2.71128982e-01, -1.77400219e+00,  1.17381942e+00,\n",
       "       -3.83675754e-01, -1.02986455e+00, -2.15794826e+00, -9.86504018e-01,\n",
       "        1.52942610e+00,  7.36541212e-01, -3.30162406e+00,  1.44280720e+00,\n",
       "       -1.08328497e+00,  5.31407893e-02, -1.49774420e+00, -2.06774545e+00,\n",
       "       -1.72131769e-02, -1.64670253e+00,  1.24993122e+00, -2.00452232e+00,\n",
       "        5.38596213e-01, -4.72304463e-01,  1.02590454e+00,  7.42713094e-01],\n",
       "      dtype=float32)"
      ]
     },
     "execution_count": 205,
     "metadata": {},
     "output_type": "execute_result"
    }
   ],
   "source": [
    "vector"
   ]
  },
  {
   "cell_type": "code",
   "execution_count": 206,
   "id": "70871b5a",
   "metadata": {},
   "outputs": [
    {
     "data": {
      "text/plain": [
       "[('tasty', 0.8175682425498962),\n",
       " ('delicious.', 0.7884759306907654),\n",
       " ('yummy', 0.7805776000022888),\n",
       " ('amazing', 0.7275819778442383),\n",
       " ('fantastic', 0.7188233137130737),\n",
       " ('divine', 0.7097207903862),\n",
       " ('exquisite', 0.6883265376091003),\n",
       " ('superb', 0.6864668130874634),\n",
       " ('incredible', 0.6731298565864563),\n",
       " ('phenomenal', 0.6625100374221802)]"
      ]
     },
     "execution_count": 206,
     "metadata": {},
     "output_type": "execute_result"
    }
   ],
   "source": [
    "model.wv.most_similar('delicious', topn=10)"
   ]
  },
  {
   "cell_type": "code",
   "execution_count": 207,
   "id": "eee63364",
   "metadata": {},
   "outputs": [
    {
     "data": {
      "text/plain": [
       "[('Pizza', 0.687938392162323),\n",
       " ('hamburger', 0.6807577610015869),\n",
       " ('burger', 0.6770654916763306),\n",
       " ('pasta', 0.6611385345458984),\n",
       " ('carbonara', 0.6239833831787109),\n",
       " ('burrito', 0.589520275592804),\n",
       " ('pizza.', 0.5812183022499084),\n",
       " ('margarita', 0.5620388388633728),\n",
       " ('crust', 0.5615034699440002),\n",
       " ('calzone', 0.550714910030365)]"
      ]
     },
     "execution_count": 207,
     "metadata": {},
     "output_type": "execute_result"
    }
   ],
   "source": [
    "model.wv.most_similar('pizza', topn=10)"
   ]
  },
  {
   "cell_type": "code",
   "execution_count": 209,
   "id": "367599f8",
   "metadata": {},
   "outputs": [
    {
     "data": {
      "text/plain": [
       "[('terrible', 0.8658505082130432),\n",
       " ('awful', 0.8121690154075623),\n",
       " ('bad', 0.7098363041877747),\n",
       " ('appalling', 0.6666131615638733),\n",
       " ('disgusting', 0.652198851108551),\n",
       " ('poor', 0.6406951546669006),\n",
       " ('shocking', 0.6216946840286255),\n",
       " ('okay', 0.6188369989395142),\n",
       " ('dreadful', 0.6177916526794434),\n",
       " ('Terrible', 0.6082724928855896)]"
      ]
     },
     "execution_count": 209,
     "metadata": {},
     "output_type": "execute_result"
    }
   ],
   "source": [
    "model.wv.most_similar('horrible', topn=10)"
   ]
  },
  {
   "cell_type": "code",
   "execution_count": 210,
   "id": "af7cb483",
   "metadata": {},
   "outputs": [
    {
     "data": {
      "text/plain": [
       "[('friendly.', 0.764923095703125),\n",
       " ('courteous', 0.7515475153923035),\n",
       " ('polite', 0.7410220503807068),\n",
       " ('welcoming', 0.7141723036766052),\n",
       " ('cordial', 0.7002096176147461),\n",
       " ('attentive', 0.6988195180892944),\n",
       " ('personable', 0.6342913508415222),\n",
       " ('gracious', 0.6272123456001282),\n",
       " ('professional', 0.6221848726272583),\n",
       " ('freindly', 0.6203247308731079)]"
      ]
     },
     "execution_count": 210,
     "metadata": {},
     "output_type": "execute_result"
    }
   ],
   "source": [
    "model.wv.most_similar('friendly', topn=10)"
   ]
  },
  {
   "cell_type": "code",
   "execution_count": 211,
   "id": "ba4c64d0",
   "metadata": {},
   "outputs": [
    {
     "data": {
      "text/plain": [
       "[('brownie', 0.7869287729263306),\n",
       " ('cheesecake', 0.7738447189331055),\n",
       " ('carrot', 0.7625924348831177),\n",
       " ('caramel', 0.7542667388916016),\n",
       " ('crepe', 0.742887020111084),\n",
       " ('flan', 0.7408572435379028),\n",
       " ('custard', 0.7393072843551636),\n",
       " ('tiramisu', 0.7378472685813904),\n",
       " ('icecream', 0.7375630736351013),\n",
       " ('tart', 0.7370063662528992)]"
      ]
     },
     "execution_count": 211,
     "metadata": {},
     "output_type": "execute_result"
    }
   ],
   "source": [
    "model.wv.most_similar('chocolate', topn=10)"
   ]
  },
  {
   "cell_type": "code",
   "execution_count": 212,
   "id": "63ae2bfc",
   "metadata": {},
   "outputs": [
    {
     "data": {
      "text/plain": [
       "[('tea', 0.7526535987854004),\n",
       " ('croissant', 0.7297593355178833),\n",
       " ('cappuccino', 0.7134137153625488),\n",
       " ('coffee.', 0.6472688913345337),\n",
       " ('churros', 0.6273057460784912),\n",
       " ('coffe', 0.6237097382545471),\n",
       " ('juice', 0.6207398176193237),\n",
       " ('breakfast', 0.6145669221878052),\n",
       " ('latte', 0.6066522002220154),\n",
       " ('espresso', 0.5939613580703735)]"
      ]
     },
     "execution_count": 212,
     "metadata": {},
     "output_type": "execute_result"
    }
   ],
   "source": [
    "model.wv.most_similar('coffee', topn=10)"
   ]
  },
  {
   "cell_type": "markdown",
   "id": "c80d1624",
   "metadata": {},
   "source": [
    "## Alternative short-cuts\n",
    "Training your own Word2Vec model is fun and sometimes also really helpful. Here it is quite OK for instance, because we have a relatively big text corpus (> 140,000 documents) with a clear general topic focus on restaurants and food.\n",
    "\n",
    "Often, however, you simply may want to use a model that covers a language more broadly. Instead of training your own model on a much bigger corpus, we can simply use a model that was trained already, see for instance here [on the Gensim website](https://radimrehurek.com/gensim/models/word2vec.html#usage-examples).\n",
    "\n",
    "Another way is to use **SpaCy**. Its larger language models already contain word embeddings!"
   ]
  },
  {
   "cell_type": "code",
   "execution_count": 215,
   "id": "7307b2b8",
   "metadata": {},
   "outputs": [],
   "source": [
    "# Comment out and run the following to first download a large english model\n",
    "#!python -m spacy download en_core_web_lg"
   ]
  },
  {
   "cell_type": "code",
   "execution_count": 216,
   "id": "e38aba95",
   "metadata": {},
   "outputs": [],
   "source": [
    "import spacy\n",
    "\n",
    "nlp = spacy.load(\"en_core_web_lg\")"
   ]
  },
  {
   "cell_type": "markdown",
   "id": "0ec92cad",
   "metadata": {},
   "source": [
    "As we have seen before, SpaCy converts the text into tokens, but also does much more. We can look at different attributes of the tokens to extract the computed information. For instance:\n",
    "\n",
    "- `.text`: The original token text.\n",
    "- `has_vector`: Does the token have a vector representation?\n",
    "- `.vector_norm`: The L2 norm of the token’s vector (the square root of the sum of the values squared)\n",
    "- `.is_oov`: Out-of-vocabulary\n"
   ]
  },
  {
   "cell_type": "code",
   "execution_count": 217,
   "id": "1f818992",
   "metadata": {},
   "outputs": [
    {
     "name": "stdout",
     "output_type": "stream",
     "text": [
      "dog True 75.254234 False\n",
      "cat True 63.188496 False\n",
      "banana True 31.620354 False\n",
      "afskfsd False 0.0 True\n"
     ]
    }
   ],
   "source": [
    "tokens = nlp(\"dog cat banana afskfsd\")\n",
    "for token in tokens:\n",
    "    print(token.text, token.has_vector, token.vector_norm, token.is_oov)"
   ]
  },
  {
   "cell_type": "code",
   "execution_count": 220,
   "id": "391a7202",
   "metadata": {},
   "outputs": [
    {
     "data": {
      "text/plain": [
       "array([ 1.2330e+00,  4.2963e+00, -7.9738e+00, -1.0121e+01,  1.8207e+00,\n",
       "        1.4098e+00, -4.5180e+00, -5.2261e+00, -2.9157e-01,  9.5234e-01,\n",
       "        6.9880e+00,  5.0637e+00, -5.5726e-03,  3.3395e+00,  6.4596e+00,\n",
       "       -6.3742e+00,  3.9045e-02, -3.9855e+00,  1.2085e+00, -1.3186e+00,\n",
       "       -4.8886e+00,  3.7066e+00, -2.8281e+00, -3.5447e+00,  7.6888e-01,\n",
       "        1.5016e+00, -4.3632e+00,  8.6480e+00, -5.9286e+00, -1.3055e+00,\n",
       "        8.3870e-01,  9.0137e-01, -1.7843e+00, -1.0148e+00,  2.7300e+00,\n",
       "       -6.9039e+00,  8.0413e-01,  7.4880e+00,  6.1078e+00, -4.2130e+00,\n",
       "       -1.5384e-01, -5.4995e+00,  1.0896e+01,  3.9278e+00, -1.3601e-01,\n",
       "        7.7732e-02,  3.2218e+00, -5.8777e+00,  6.1359e-01, -2.4287e+00,\n",
       "        6.2820e+00,  1.3461e+01,  4.3236e+00,  2.4266e+00, -2.6512e+00,\n",
       "        1.1577e+00,  5.0848e+00, -1.7058e+00,  3.3824e+00,  3.2850e+00,\n",
       "        1.0969e+00, -8.3711e+00, -1.5554e+00,  2.0296e+00, -2.6796e+00,\n",
       "       -6.9195e+00, -2.3386e+00, -1.9916e+00, -3.0450e+00,  2.4890e+00,\n",
       "        7.3247e+00,  1.3364e+00,  2.3828e-01,  8.4388e-02,  3.1480e+00,\n",
       "       -1.1128e+00, -3.5598e+00, -1.2115e-01, -2.0357e+00, -3.2731e+00,\n",
       "       -7.7205e+00,  4.0948e+00, -2.0732e+00,  2.0833e+00, -2.2803e+00,\n",
       "       -4.9850e+00,  9.7667e+00,  6.1779e+00, -1.0352e+01, -2.2268e+00,\n",
       "        2.5765e+00, -5.7440e+00,  5.5564e+00, -5.2735e+00,  3.0004e+00,\n",
       "       -4.2512e+00, -1.5682e+00,  2.2698e+00,  1.0491e+00, -9.0486e+00,\n",
       "        4.2936e+00,  1.8709e+00,  5.1985e+00, -1.3153e+00,  6.5224e+00,\n",
       "        4.0113e-01, -1.2583e+01,  3.6534e+00, -2.0961e+00,  1.0022e+00,\n",
       "       -1.7873e+00, -4.2555e+00,  7.7471e+00,  1.0173e+00,  3.1626e+00,\n",
       "        2.3558e+00,  3.3589e-01, -4.4178e+00,  5.0584e+00, -2.4118e+00,\n",
       "       -2.7445e+00,  3.4170e+00, -1.1574e+01, -2.6568e+00, -3.6933e+00,\n",
       "       -2.0398e+00,  5.0976e+00,  6.5249e+00,  3.3573e+00,  9.5334e-01,\n",
       "       -9.4430e-01, -9.4395e+00,  2.7867e+00, -1.7549e+00,  1.7287e+00,\n",
       "        3.4942e+00, -1.6883e+00, -3.5771e+00, -1.9013e+00,  2.2239e+00,\n",
       "       -5.4335e+00, -6.5724e+00, -6.7228e-01, -1.9748e+00, -3.1080e+00,\n",
       "       -1.8570e+00,  9.9496e-01,  8.9135e-01, -4.4254e+00,  3.3125e-01,\n",
       "        5.8815e+00,  1.9384e+00,  5.7294e-01, -2.8830e+00,  3.8087e+00,\n",
       "       -1.3095e+00,  5.9208e+00,  3.3620e+00,  3.3571e+00, -3.8807e-01,\n",
       "        9.0022e-01, -5.5742e+00, -4.2939e+00,  1.4992e+00, -4.7080e+00,\n",
       "       -2.9402e+00, -1.2259e+00,  3.0980e-01,  1.8858e+00, -1.9867e+00,\n",
       "       -2.3554e-01, -5.4535e-01, -2.1387e-01,  2.4797e+00,  5.9710e+00,\n",
       "       -7.1249e+00,  1.6257e+00, -1.5241e+00,  7.5974e-01,  1.4312e+00,\n",
       "        2.3641e+00, -3.5566e+00,  9.2066e-01,  4.4934e-01, -1.3233e+00,\n",
       "        3.1733e+00, -4.7059e+00, -1.2090e+01, -3.9241e-01, -6.8457e-01,\n",
       "       -3.6789e+00,  6.6279e+00, -2.9937e+00, -3.8361e+00,  1.3868e+00,\n",
       "       -4.9002e+00, -2.4299e+00,  6.4312e+00,  2.5056e+00, -4.5080e+00,\n",
       "       -5.1278e+00, -1.5585e+00, -3.0226e+00, -8.6811e-01, -1.1538e+00,\n",
       "       -1.0022e+00, -9.1651e-01, -4.7810e-01, -1.6084e+00, -2.7307e+00,\n",
       "        3.7080e+00,  7.7423e-01, -1.1085e+00, -6.8755e-01, -8.2901e+00,\n",
       "        3.2405e+00, -1.6108e-01, -6.2837e-01, -5.5960e+00, -4.4865e+00,\n",
       "        4.0115e-01, -3.7063e+00, -2.1704e+00,  4.0789e+00, -1.7973e+00,\n",
       "        8.9538e+00,  8.9421e-01, -4.8128e+00,  4.5367e+00, -3.2579e-01,\n",
       "       -5.2344e+00, -3.9766e+00, -2.1979e+00,  3.5699e+00,  1.4982e+00,\n",
       "        6.0972e+00, -1.9704e+00,  4.6522e+00, -3.7734e-01,  3.9101e-02,\n",
       "        2.5361e+00, -1.8096e+00,  8.7035e+00, -8.6372e+00, -3.5257e+00,\n",
       "        3.1034e+00,  3.2635e+00,  4.5437e+00, -5.7290e+00, -2.9141e-01,\n",
       "       -2.0011e+00,  8.5328e+00, -4.5064e+00, -4.8276e+00, -1.1786e+01,\n",
       "        3.5607e-01, -5.7115e+00,  6.3122e+00, -3.6650e+00,  3.3597e-01,\n",
       "        2.5017e+00, -3.5025e+00, -3.7891e+00, -3.1343e+00, -1.4429e+00,\n",
       "       -6.9119e+00, -2.6114e+00, -5.9757e-01,  3.7847e-01,  6.3187e+00,\n",
       "        2.8965e+00, -2.5397e+00,  1.8022e+00,  3.5486e+00,  4.4721e+00,\n",
       "       -4.8481e+00, -3.6252e+00,  4.0969e+00, -2.0081e+00, -2.0122e-01,\n",
       "        2.5244e+00, -6.8817e-01,  6.7184e-01, -7.0466e+00,  1.6641e+00,\n",
       "       -2.2308e+00, -3.8960e+00,  6.1320e+00, -8.0335e+00, -1.7130e+00,\n",
       "        2.5688e+00, -5.2547e+00,  6.9845e+00,  2.7835e-01, -6.4554e+00,\n",
       "       -2.1327e+00, -5.6515e+00,  1.1174e+01, -8.0568e+00,  5.7985e+00],\n",
       "      dtype=float32)"
      ]
     },
     "execution_count": 220,
     "metadata": {},
     "output_type": "execute_result"
    }
   ],
   "source": [
    "tokens[0].vector"
   ]
  },
  {
   "cell_type": "code",
   "execution_count": 221,
   "id": "831ef7e8",
   "metadata": {},
   "outputs": [],
   "source": [
    "nlp1 = nlp(X_train[0])\n",
    "nlp2 = nlp(X_train[1])"
   ]
  },
  {
   "cell_type": "code",
   "execution_count": 225,
   "id": "105adf1f",
   "metadata": {},
   "outputs": [
    {
     "data": {
      "text/plain": [
       "1.0"
      ]
     },
     "execution_count": 225,
     "metadata": {},
     "output_type": "execute_result"
    }
   ],
   "source": [
    "nlp1.similarity(nlp1)"
   ]
  },
  {
   "cell_type": "code",
   "execution_count": 222,
   "id": "3eb4dd2a",
   "metadata": {},
   "outputs": [
    {
     "data": {
      "text/plain": [
       "0.732720161085499"
      ]
     },
     "execution_count": 222,
     "metadata": {},
     "output_type": "execute_result"
    }
   ],
   "source": [
    "nlp1.similarity(nlp2)"
   ]
  },
  {
   "cell_type": "code",
   "execution_count": 223,
   "id": "bd522dad",
   "metadata": {},
   "outputs": [
    {
     "data": {
      "text/plain": [
       "The menu of Yakuza is a bit of a lottery, some plates are really good (like most of the sushi rolls) and instead some others are terrible ( the pizza sushi and most of the fried starters). Taking this in consideration, it´s a great option if you feel like sushi and can avoid ordering from the rest of the menu. We even ordered for delivery more than once and the packaging they use is great."
      ]
     },
     "execution_count": 223,
     "metadata": {},
     "output_type": "execute_result"
    }
   ],
   "source": [
    "nlp1"
   ]
  },
  {
   "cell_type": "code",
   "execution_count": 224,
   "id": "b5d95952",
   "metadata": {},
   "outputs": [
    {
     "data": {
      "text/plain": [
       "Check your bill when you cancel just in case you get an extra charge surprise on it   There are no more words to describe my experience when I was there. Sad and poor experience!! Never return! Never again"
      ]
     },
     "execution_count": 224,
     "metadata": {},
     "output_type": "execute_result"
    }
   ],
   "source": [
    "nlp2"
   ]
  },
  {
   "cell_type": "markdown",
   "id": "1b84acf6",
   "metadata": {},
   "source": [
    "### Limitations and Extensions\n",
    "\n",
    "While Word2Vec is a powerful tool, it's not without limitations. The main issue with Word2Vec (and similar models that derive their semantics based on the local usage context) is that they assign one vector per word. This becomes a problem for words with multiple meanings based on their context (homonyms and polysemes). To tackle such limitations, extensions like FastText and advanced methods such as GloVe (Global Vectors for Word Representation) and transformers like BERT (Bidirectional Encoder Representations from Transformers) have been proposed.\n",
    "\n",
    "### FastText\n",
    "\n",
    "FastText, also developed by Facebook, extends Word2Vec by treating each word as composed of character n-grams. So the vector for a word is made of the sum of these character n-grams. This allows the embeddings to capture the meaning of shorter words and suffixes/prefixes and understand new words once the character n-grams are learned.\n",
    "\n",
    "### GloVe\n",
    "\n",
    "GloVe, developed by Stanford, is another method to create word embeddings. While Word2Vec is a predictive model — a model that predicts the context given a word, GloVe is a count-based model. It leverages matrix factorization techniques on the word-word co-occurrence matrix.\n",
    "\n",
    "### Transformers: BERT & GPT\n",
    "\n",
    "One of the most fundamental limitations of Word2Vec and similar algorithms is rooted in the underlying bag-of-words approach. This removes a lot of information that lies in the **order** of words. Even constructs such as n-grams can only compensate for extremely local pattern such as *\"do not like\"*  vs *\"do like\"*.\n",
    "\n",
    "In contrast, deep learning techniques related to recurrent neural networks or -even more powerful- transformers, have the ability to learn pattern across many more words. In the case of transformers even across pages of text which is precisely why ChatGPT and following large language models were able to use natural language with an formerly unknown degree of subtlety. \n",
    "BERT (Bidirectional Encoder Representations from Transformers) and GPT (Generative Pretrained Transformer) models ushered in the era of transformers that not only consider local context but also take the entire sentence context into account to create word embeddings.\n",
    "\n",
    "In conclusion, while TF-IDF and n-grams offer a solid start, word embeddings and transformers take the representation of words to the next level. By considering context and semantic meaning, they offer a more complete and robust method to work with text."
   ]
  },
  {
   "cell_type": "markdown",
   "id": "7a60a40b-5a07-4036-aa7f-51cec1e7f4af",
   "metadata": {},
   "source": [
    "## More on NLP\n",
    "It should come as no surprise that there is *much* more to learn about NLP than what was presented in this, and the previous chapters.\n",
    "\n",
    "Very good starting points for going deeper are:\n",
    "- The book \"Speech and Language Processing\" by Jurafsky and Martin {cite}`jurafsky2024speech`, see [link to the book](https://web.stanford.edu/~jurafsky/slp3/).\n",
    "- \"Natural language processing with transformers\" by Tunstall, von Werra, and Wolf {cite}`tunstall2022natural`"
   ]
  },
  {
   "cell_type": "code",
   "execution_count": null,
   "id": "1026af38-4e04-46c7-b6e4-32121706c1ab",
   "metadata": {},
   "outputs": [],
   "source": []
  }
 ],
 "metadata": {
  "kernelspec": {
   "display_name": "Python 3 (ipykernel)",
   "language": "python",
   "name": "python3"
  },
  "language_info": {
   "codemirror_mode": {
    "name": "ipython",
    "version": 3
   },
   "file_extension": ".py",
   "mimetype": "text/x-python",
   "name": "python",
   "nbconvert_exporter": "python",
   "pygments_lexer": "ipython3",
   "version": "3.9.18"
  }
 },
 "nbformat": 4,
 "nbformat_minor": 5
}
