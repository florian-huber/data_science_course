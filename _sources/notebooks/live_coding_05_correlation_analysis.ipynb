{
 "cells": [
  {
   "cell_type": "markdown",
   "id": "2fc5422a",
   "metadata": {},
   "source": [
    "# Correlation Analysis"
   ]
  },
  {
   "cell_type": "markdown",
   "id": "36e50cbe",
   "metadata": {},
   "source": [
    "In general terms, **correlation** refers to the relationship between two or more attributes, conditions, or functions (derived from the Latin *correlation* = mutual relationship).\n",
    "\n",
    "In statistics, this concept is utilized more specifically as a \"measure of association\" that describes the strength and possibly the direction of dependence between two statistical variables.\n",
    "\n",
    "Thus, we are looking for a metric that can numerically describe whether a correlation exists and, if so, how pronounced it is.\n",
    "\n",
    "### Covariance, (Pearson) Correlation Coefficient\n",
    "\n",
    "A first step towards measuring correlation is through variance. This measures the spread of data points. Instead of variance, we first look at **covariance** ($Cov$), which is the average product of deviation.\n",
    "\n",
    "$$\n",
    "Cov(X, Y) = \\frac{1}{n}\\sum_{i=1}^{n}(x_i - \\bar{x_i})(y_i - \\bar{y_i})\n",
    "$$\n",
    "\n",
    "The covariance already gives a good indication of what we understand by correlation. A significant disadvantage, however, is that the covariance is not normalized. Depending on the range of values, the covariance can become arbitrarily large (or small).\n",
    "\n",
    "The most famous normalized correlation coefficient is the **Pearson Correlation Coefficient** (or often just: Correlation Coefficient). This is nothing more than the covariance divided by the product of the square roots of the respective variances ($Var$)\n",
    "\n",
    "$$\n",
    "Corr(X, Y) = \\frac{Cov(X, Y)}{\\sqrt{Var(X)}\\sqrt{Var(Y)}}\n",
    "$$\n",
    "\n",
    "Now let's have a look at how correlations look like and how they can be quantified."
   ]
  },
  {
   "cell_type": "code",
   "execution_count": 2,
   "id": "9edced53",
   "metadata": {
    "tags": [
     "hide-input"
    ]
   },
   "outputs": [],
   "source": [
    "import os\n",
    "import pandas as pd\n",
    "import numpy as np\n",
    "\n",
    "from matplotlib import pyplot as plt\n",
    "import seaborn as sb"
   ]
  },
  {
   "cell_type": "code",
   "execution_count": 3,
   "id": "936f852c",
   "metadata": {
    "tags": [
     "hide-input"
    ]
   },
   "outputs": [],
   "source": [
    "# create some toy data\n",
    "\n",
    "np.random.seed(0)\n",
    "a = np.arange(0, 50)\n",
    "b = a + np.random.randint(-10, 10, 50)\n",
    "c = a + np.random.randint(-20, 25, 50)\n",
    "d = np.random.randint(0, 50, 50)\n",
    "\n",
    "corr_data = pd.DataFrame({\"a\": a,\n",
    "                         \"b\": b,\n",
    "                         \"c\": c,\n",
    "                         \"d\": d})"
   ]
  },
  {
   "cell_type": "code",
   "execution_count": 4,
   "id": "0c58d4ae",
   "metadata": {},
   "outputs": [
    {
     "data": {
      "text/html": [
       "<div>\n",
       "<style scoped>\n",
       "    .dataframe tbody tr th:only-of-type {\n",
       "        vertical-align: middle;\n",
       "    }\n",
       "\n",
       "    .dataframe tbody tr th {\n",
       "        vertical-align: top;\n",
       "    }\n",
       "\n",
       "    .dataframe thead th {\n",
       "        text-align: right;\n",
       "    }\n",
       "</style>\n",
       "<table border=\"1\" class=\"dataframe\">\n",
       "  <thead>\n",
       "    <tr style=\"text-align: right;\">\n",
       "      <th></th>\n",
       "      <th>a</th>\n",
       "      <th>b</th>\n",
       "      <th>c</th>\n",
       "      <th>d</th>\n",
       "    </tr>\n",
       "  </thead>\n",
       "  <tbody>\n",
       "    <tr>\n",
       "      <th>0</th>\n",
       "      <td>0</td>\n",
       "      <td>2</td>\n",
       "      <td>20</td>\n",
       "      <td>34</td>\n",
       "    </tr>\n",
       "    <tr>\n",
       "      <th>1</th>\n",
       "      <td>1</td>\n",
       "      <td>6</td>\n",
       "      <td>-2</td>\n",
       "      <td>42</td>\n",
       "    </tr>\n",
       "    <tr>\n",
       "      <th>2</th>\n",
       "      <td>2</td>\n",
       "      <td>-8</td>\n",
       "      <td>-3</td>\n",
       "      <td>13</td>\n",
       "    </tr>\n",
       "  </tbody>\n",
       "</table>\n",
       "</div>"
      ],
      "text/plain": [
       "   a  b   c   d\n",
       "0  0  2  20  34\n",
       "1  1  6  -2  42\n",
       "2  2 -8  -3  13"
      ]
     },
     "execution_count": 4,
     "metadata": {},
     "output_type": "execute_result"
    }
   ],
   "source": [
    "corr_data.head(3)"
   ]
  },
  {
   "cell_type": "markdown",
   "id": "d0b3207b",
   "metadata": {},
   "source": [
    "We created some toy data with four features (a, b, c, d). One way to look for interesting relationships between different features is simply to plot one variable (or feature) against another:"
   ]
  },
  {
   "cell_type": "code",
   "execution_count": 5,
   "id": "d4ab8065",
   "metadata": {
    "tags": [
     "hide-input"
    ]
   },
   "outputs": [
    {
     "data": {
      "image/png": "[encoded data removed]",
      "text/plain": [
       "<Figure size 864x216 with 3 Axes>"
      ]
     },
     "metadata": {
      "needs_background": "light"
     },
     "output_type": "display_data"
    }
   ],
   "source": [
    "fig, (ax1, ax2, ax3) = plt.subplots(1, 3, figsize=(12,3))\n",
    "corr_data.plot(kind=\"scatter\", x=\"a\", y=\"b\", ax=ax1)\n",
    "corr_data.plot(kind=\"scatter\", x=\"a\", y=\"c\", ax=ax2)\n",
    "corr_data.plot(kind=\"scatter\", x=\"a\", y=\"d\", ax=ax3)\n",
    "plt.show()"
   ]
  },
  {
   "cell_type": "markdown",
   "id": "31b06815",
   "metadata": {},
   "source": [
    "What would you say, which features are correlated, and which are not?\n",
    "\n",
    "Here, different variables are plotted against each other, a-b, a-c, and a-d. I guess most will agree that the first and second plot show a certain degree of correlation. First, between a and b, and in the second panel between a and c. The third panel shows two features which apparently are entirely unrelated in their behavior. Another thing we can see in those examples is that we should be able to measure different degrees or strengths of a correlation. \n",
    "\n",
    "We can clearly see the correlation in a<->b. The Pearson Correlation Coefficient measures this type of correlation very well. For this example, the values are $Corr(a, b) = 0.90$ , $Corr(a, c) = 0.68$ , and $Corr(a, d) = 0.02$. We would thus see a strong correlation between a and b and a moderate correlation between a and c. However, there is no noticeable correlation between a and d.\n",
    "\n",
    "The correlation coefficient allows us to quickly identify significant correlations in the data. For datasets with many variables (or features), we can easily determine the correlations for all combinations of the variables, resulting in what is called a correlation matrix."
   ]
  },
  {
   "cell_type": "markdown",
   "id": "a2005783",
   "metadata": {},
   "source": [
    "### Correlation Matrix\n",
    "\n",
    "The correlation matrix for data with the variables a, b, and c would thus be a matrix that contains the Pearson Correlation Coefficients for all possible combinations, i.e.:\n",
    "\n",
    "|       | a            | b            | c            |\n",
    "| :---: | ------------ | ------------ | ------------ |\n",
    "| **a** | $Corr(a, a)$ | $Corr(b, a)$ | $Corr(c, a)$ |\n",
    "| **b** | $Corr(a, b)$ | $Corr(b, b)$ | $Corr(c, b)$ |\n",
    "| **c** | $Corr(a, c)$ | $Corr(b, c)$ | $Corr(c, c)$ |\n",
    "\n",
    "The diagonal is trivial and always equals 1. The actual points of interest are the particularly high and low values off the diagonal, as they indicate strong correlations or anti-correlations (with a negative sign).\n",
    "\n",
    "Using `Pandas` we can very easily compute the Pearson correlations between all possible pairs of numerical features in a dataset:"
   ]
  },
  {
   "cell_type": "code",
   "execution_count": 6,
   "id": "32679cb3",
   "metadata": {},
   "outputs": [
    {
     "data": {
      "text/html": [
       "<div>\n",
       "<style scoped>\n",
       "    .dataframe tbody tr th:only-of-type {\n",
       "        vertical-align: middle;\n",
       "    }\n",
       "\n",
       "    .dataframe tbody tr th {\n",
       "        vertical-align: top;\n",
       "    }\n",
       "\n",
       "    .dataframe thead th {\n",
       "        text-align: right;\n",
       "    }\n",
       "</style>\n",
       "<table border=\"1\" class=\"dataframe\">\n",
       "  <thead>\n",
       "    <tr style=\"text-align: right;\">\n",
       "      <th></th>\n",
       "      <th>a</th>\n",
       "      <th>b</th>\n",
       "      <th>c</th>\n",
       "      <th>d</th>\n",
       "    </tr>\n",
       "  </thead>\n",
       "  <tbody>\n",
       "    <tr>\n",
       "      <th>a</th>\n",
       "      <td>1.000000</td>\n",
       "      <td>0.900512</td>\n",
       "      <td>0.675015</td>\n",
       "      <td>0.022422</td>\n",
       "    </tr>\n",
       "    <tr>\n",
       "      <th>b</th>\n",
       "      <td>0.900512</td>\n",
       "      <td>1.000000</td>\n",
       "      <td>0.533063</td>\n",
       "      <td>-0.124933</td>\n",
       "    </tr>\n",
       "    <tr>\n",
       "      <th>c</th>\n",
       "      <td>0.675015</td>\n",
       "      <td>0.533063</td>\n",
       "      <td>1.000000</td>\n",
       "      <td>0.105887</td>\n",
       "    </tr>\n",
       "    <tr>\n",
       "      <th>d</th>\n",
       "      <td>0.022422</td>\n",
       "      <td>-0.124933</td>\n",
       "      <td>0.105887</td>\n",
       "      <td>1.000000</td>\n",
       "    </tr>\n",
       "  </tbody>\n",
       "</table>\n",
       "</div>"
      ],
      "text/plain": [
       "          a         b         c         d\n",
       "a  1.000000  0.900512  0.675015  0.022422\n",
       "b  0.900512  1.000000  0.533063 -0.124933\n",
       "c  0.675015  0.533063  1.000000  0.105887\n",
       "d  0.022422 -0.124933  0.105887  1.000000"
      ]
     },
     "execution_count": 6,
     "metadata": {},
     "output_type": "execute_result"
    }
   ],
   "source": [
    "corr_data.corr()"
   ]
  },
  {
   "cell_type": "markdown",
   "id": "02555327",
   "metadata": {},
   "source": [
    "**More specific example**\n",
    "\n",
    "In the following we still look at generated data, but data which is somewhat realistic. We want to see if body measures show any interesting correlations, say between shoe size and height of people."
   ]
  },
  {
   "cell_type": "code",
   "execution_count": 8,
   "id": "59dc69ee",
   "metadata": {
    "tags": [
     "hide-input"
    ]
   },
   "outputs": [
    {
     "data": {
      "text/html": [
       "<div>\n",
       "<style scoped>\n",
       "    .dataframe tbody tr th:only-of-type {\n",
       "        vertical-align: middle;\n",
       "    }\n",
       "\n",
       "    .dataframe tbody tr th {\n",
       "        vertical-align: top;\n",
       "    }\n",
       "\n",
       "    .dataframe thead th {\n",
       "        text-align: right;\n",
       "    }\n",
       "</style>\n",
       "<table border=\"1\" class=\"dataframe\">\n",
       "  <thead>\n",
       "    <tr style=\"text-align: right;\">\n",
       "      <th></th>\n",
       "      <th>time</th>\n",
       "      <th>sex</th>\n",
       "      <th>height</th>\n",
       "      <th>shoe_size</th>\n",
       "      <th>age</th>\n",
       "    </tr>\n",
       "  </thead>\n",
       "  <tbody>\n",
       "    <tr>\n",
       "      <th>0</th>\n",
       "      <td>04.10.2016 17:58:51</td>\n",
       "      <td>woman</td>\n",
       "      <td>160.0</td>\n",
       "      <td>40.0</td>\n",
       "      <td>56</td>\n",
       "    </tr>\n",
       "    <tr>\n",
       "      <th>1</th>\n",
       "      <td>04.10.2016 17:58:59</td>\n",
       "      <td>woman</td>\n",
       "      <td>171.0</td>\n",
       "      <td>39.0</td>\n",
       "      <td>24</td>\n",
       "    </tr>\n",
       "    <tr>\n",
       "      <th>2</th>\n",
       "      <td>04.10.2016 18:00:15</td>\n",
       "      <td>woman</td>\n",
       "      <td>174.0</td>\n",
       "      <td>39.0</td>\n",
       "      <td>35</td>\n",
       "    </tr>\n",
       "    <tr>\n",
       "      <th>3</th>\n",
       "      <td>04.10.2016 18:01:17</td>\n",
       "      <td>woman</td>\n",
       "      <td>176.0</td>\n",
       "      <td>40.0</td>\n",
       "      <td>47</td>\n",
       "    </tr>\n",
       "    <tr>\n",
       "      <th>4</th>\n",
       "      <td>04.10.2016 18:01:22</td>\n",
       "      <td>man</td>\n",
       "      <td>195.0</td>\n",
       "      <td>46.0</td>\n",
       "      <td>24</td>\n",
       "    </tr>\n",
       "  </tbody>\n",
       "</table>\n",
       "</div>"
      ],
      "text/plain": [
       "                  time    sex  height  shoe_size  age\n",
       "0  04.10.2016 17:58:51  woman   160.0       40.0   56\n",
       "1  04.10.2016 17:58:59  woman   171.0       39.0   24\n",
       "2  04.10.2016 18:00:15  woman   174.0       39.0   35\n",
       "3  04.10.2016 18:01:17  woman   176.0       40.0   47\n",
       "4  04.10.2016 18:01:22    man   195.0       46.0   24"
      ]
     },
     "execution_count": 8,
     "metadata": {},
     "output_type": "execute_result"
    }
   ],
   "source": [
    "filename = r\"https://raw.githubusercontent.com/florian-huber/data_science_course/main/datasets/wo_men.csv\"\n",
    "\n",
    "data = pd.read_csv(filename)\n",
    "data[\"age\"] = np.random.randint(16, 72, len(data))\n",
    "data.head()"
   ]
  },
  {
   "cell_type": "markdown",
   "id": "fe842f17",
   "metadata": {},
   "source": [
    "Let's first do some standard inspection of the data."
   ]
  },
  {
   "cell_type": "code",
   "execution_count": 10,
   "id": "d5b6f8ae",
   "metadata": {},
   "outputs": [
    {
     "data": {
      "text/html": [
       "<div>\n",
       "<style scoped>\n",
       "    .dataframe tbody tr th:only-of-type {\n",
       "        vertical-align: middle;\n",
       "    }\n",
       "\n",
       "    .dataframe tbody tr th {\n",
       "        vertical-align: top;\n",
       "    }\n",
       "\n",
       "    .dataframe thead th {\n",
       "        text-align: right;\n",
       "    }\n",
       "</style>\n",
       "<table border=\"1\" class=\"dataframe\">\n",
       "  <thead>\n",
       "    <tr style=\"text-align: right;\">\n",
       "      <th></th>\n",
       "      <th>height</th>\n",
       "      <th>shoe_size</th>\n",
       "      <th>age</th>\n",
       "    </tr>\n",
       "  </thead>\n",
       "  <tbody>\n",
       "    <tr>\n",
       "      <th>count</th>\n",
       "      <td>100.000000</td>\n",
       "      <td>100.00000</td>\n",
       "      <td>101.000000</td>\n",
       "    </tr>\n",
       "    <tr>\n",
       "      <th>mean</th>\n",
       "      <td>165.233800</td>\n",
       "      <td>39.77500</td>\n",
       "      <td>43.227723</td>\n",
       "    </tr>\n",
       "    <tr>\n",
       "      <th>std</th>\n",
       "      <td>39.817544</td>\n",
       "      <td>5.55613</td>\n",
       "      <td>15.786628</td>\n",
       "    </tr>\n",
       "    <tr>\n",
       "      <th>min</th>\n",
       "      <td>1.630000</td>\n",
       "      <td>35.00000</td>\n",
       "      <td>17.000000</td>\n",
       "    </tr>\n",
       "    <tr>\n",
       "      <th>25%</th>\n",
       "      <td>163.000000</td>\n",
       "      <td>38.00000</td>\n",
       "      <td>30.000000</td>\n",
       "    </tr>\n",
       "    <tr>\n",
       "      <th>50%</th>\n",
       "      <td>168.500000</td>\n",
       "      <td>39.00000</td>\n",
       "      <td>42.000000</td>\n",
       "    </tr>\n",
       "    <tr>\n",
       "      <th>75%</th>\n",
       "      <td>174.250000</td>\n",
       "      <td>40.00000</td>\n",
       "      <td>56.000000</td>\n",
       "    </tr>\n",
       "    <tr>\n",
       "      <th>max</th>\n",
       "      <td>364.000000</td>\n",
       "      <td>88.00000</td>\n",
       "      <td>70.000000</td>\n",
       "    </tr>\n",
       "  </tbody>\n",
       "</table>\n",
       "</div>"
      ],
      "text/plain": [
       "           height  shoe_size         age\n",
       "count  100.000000  100.00000  101.000000\n",
       "mean   165.233800   39.77500   43.227723\n",
       "std     39.817544    5.55613   15.786628\n",
       "min      1.630000   35.00000   17.000000\n",
       "25%    163.000000   38.00000   30.000000\n",
       "50%    168.500000   39.00000   42.000000\n",
       "75%    174.250000   40.00000   56.000000\n",
       "max    364.000000   88.00000   70.000000"
      ]
     },
     "execution_count": 10,
     "metadata": {},
     "output_type": "execute_result"
    }
   ],
   "source": [
    "data.describe()"
   ]
  },
  {
   "cell_type": "markdown",
   "id": "37303435",
   "metadata": {},
   "source": [
    "**Basic cleaning or processing**\n",
    "\n",
    "In the table above, some things seem weird. The minimum height is 1.63 and the maximum height is 364.0. Probably some fantasy figures, one apparently also with shoe size 88. This are typical issues we can quickly discover in a first inspection and then decide what to do about it. Here, we will simply decide to only take data within more or less realistic boundaries. "
   ]
  },
  {
   "cell_type": "code",
   "execution_count": 11,
   "id": "0d5ef77c",
   "metadata": {},
   "outputs": [],
   "source": [
    "mask = (data[\"shoe_size\"] < 50) & (data[\"height\"] > 100) & (data[\"height\"] < 250)\n",
    "data = data[mask]"
   ]
  },
  {
   "cell_type": "markdown",
   "id": "003e6b3c",
   "metadata": {},
   "source": [
    "We can then move on to the correlations:"
   ]
  },
  {
   "cell_type": "code",
   "execution_count": 13,
   "id": "f939c67d",
   "metadata": {},
   "outputs": [
    {
     "data": {
      "text/html": [
       "<div>\n",
       "<style scoped>\n",
       "    .dataframe tbody tr th:only-of-type {\n",
       "        vertical-align: middle;\n",
       "    }\n",
       "\n",
       "    .dataframe tbody tr th {\n",
       "        vertical-align: top;\n",
       "    }\n",
       "\n",
       "    .dataframe thead th {\n",
       "        text-align: right;\n",
       "    }\n",
       "</style>\n",
       "<table border=\"1\" class=\"dataframe\">\n",
       "  <thead>\n",
       "    <tr style=\"text-align: right;\">\n",
       "      <th></th>\n",
       "      <th>height</th>\n",
       "      <th>shoe_size</th>\n",
       "      <th>age</th>\n",
       "    </tr>\n",
       "  </thead>\n",
       "  <tbody>\n",
       "    <tr>\n",
       "      <th>height</th>\n",
       "      <td>1.000000</td>\n",
       "      <td>0.834646</td>\n",
       "      <td>-0.092439</td>\n",
       "    </tr>\n",
       "    <tr>\n",
       "      <th>shoe_size</th>\n",
       "      <td>0.834646</td>\n",
       "      <td>1.000000</td>\n",
       "      <td>-0.076316</td>\n",
       "    </tr>\n",
       "    <tr>\n",
       "      <th>age</th>\n",
       "      <td>-0.092439</td>\n",
       "      <td>-0.076316</td>\n",
       "      <td>1.000000</td>\n",
       "    </tr>\n",
       "  </tbody>\n",
       "</table>\n",
       "</div>"
      ],
      "text/plain": [
       "             height  shoe_size       age\n",
       "height     1.000000   0.834646 -0.092439\n",
       "shoe_size  0.834646   1.000000 -0.076316\n",
       "age       -0.092439  -0.076316  1.000000"
      ]
     },
     "execution_count": 13,
     "metadata": {},
     "output_type": "execute_result"
    }
   ],
   "source": [
    "data.corr()"
   ]
  },
  {
   "cell_type": "markdown",
   "id": "935e9e04",
   "metadata": {},
   "source": [
    "**Question:** What does that actually mean?"
   ]
  },
  {
   "cell_type": "markdown",
   "id": "1cba8ea5",
   "metadata": {},
   "source": [
    "Instead of as a matrix with values, the correlation matrix is often also graphically represented, especially for larger datasets, to easily spot particularly high and low coefficients."
   ]
  },
  {
   "cell_type": "code",
   "execution_count": 15,
   "id": "c2b395f5",
   "metadata": {},
   "outputs": [
    {
     "data": {
      "text/plain": [
       "<AxesSubplot:>"
      ]
     },
     "execution_count": 15,
     "metadata": {},
     "output_type": "execute_result"
    },
    {
     "data": {
      "image/png": "[encoded data removed]",
      "text/plain": [
       "<Figure size 432x288 with 2 Axes>"
      ]
     },
     "metadata": {
      "needs_background": "light"
     },
     "output_type": "display_data"
    }
   ],
   "source": [
    "fig, ax = plt.subplots(figsize=(8, 8))\n",
    "sb.heatmap(\n",
    "    data.corr(numeric_only=True),  # this is required for pandas >= 2.0, but also generally a good idea.\n",
    "    vmin=-1, vmax=1,\n",
    "    square=True, lw=2,\n",
    "    annot=True, cmap=\"RdBu\",\n",
    "    ax=ax,\n",
    ")"
   ]
  },
  {
   "cell_type": "markdown",
   "id": "753f4e0f",
   "metadata": {},
   "source": [
    "While high (and low) correlation coefficients often indicate actual correlations in the data, there are also a number of issues/limitations with this approach:\n",
    "\n",
    "- It only detects linear relationships. A low correlation doesn't mean there isn't a significant relationship!\n",
    "- The value of the slope has no influence (though the sign does).\n",
    "\n",
    "Just like before, with statistical metrics vs. actual distributions, the correlation coefficient sometimes proves to be too *rough*, and we might want to look more closely at the data. If there aren't too many variables, this can be done with the `pairplot()` function from seaborn:\n"
   ]
  },
  {
   "cell_type": "code",
   "execution_count": 23,
   "id": "b569ceb2",
   "metadata": {},
   "outputs": [
    {
     "data": {
      "text/plain": [
       "<seaborn.axisgrid.PairGrid at 0x264ba9ec760>"
      ]
     },
     "execution_count": 23,
     "metadata": {},
     "output_type": "execute_result"
    },
    {
     "data": {
      "image/png": "[encoded data removed]",
      "text/plain": [
       "<Figure size 540x540 with 12 Axes>"
      ]
     },
     "metadata": {
      "needs_background": "light"
     },
     "output_type": "display_data"
    }
   ],
   "source": [
    "sb.pairplot(data)"
   ]
  },
  {
   "cell_type": "markdown",
   "id": "f91ac65a",
   "metadata": {},
   "source": [
    "It is of course also easily possible to plot only the parts we are most interested in, for instance:"
   ]
  },
  {
   "cell_type": "code",
   "execution_count": 17,
   "id": "89d97380",
   "metadata": {
    "tags": [
     "hide-input"
    ]
   },
   "outputs": [
    {
     "data": {
      "text/plain": [
       "<AxesSubplot:xlabel='shoe_size', ylabel='height'>"
      ]
     },
     "execution_count": 17,
     "metadata": {},
     "output_type": "execute_result"
    },
    {
     "data": {
      "image/png": "[encoded data removed]",
      "text/plain": [
       "<Figure size 432x360 with 1 Axes>"
      ]
     },
     "metadata": {
      "needs_background": "light"
     },
     "output_type": "display_data"
    }
   ],
   "source": [
    "colors = [\"orange\" if x==\"man\" else \"teal\" for x in data.sex]\n",
    "\n",
    "fig, ax = plt.subplots(figsize=(6,5), dpi=300)\n",
    "data.plot(kind=\"scatter\", x=\"shoe_size\", y=\"height\", c=colors, ax=ax)"
   ]
  },
  {
   "cell_type": "markdown",
   "id": "50536550",
   "metadata": {},
   "source": [
    "### What Does a Correlation Tell Us?\n",
    "\n",
    "If we discover correlations in our data, for example, through high or low Pearson Correlation Coefficients, what can we do with it?\n",
    "\n",
    "Although high or low coefficients are often the first thing we look for, a value of 1.0 or -1.0 isn't necessarily a cause for celebration, even though these values describe a maximum correlation.\n",
    "\n",
    "The reason is simple. If two variables are perfectly correlated, it means one can perfectly describe the other. They do not provide more information than just one of them alone. Moreover, in practice, a correlation of 1.0 (or -1.0) is more likely a result of both variables describing the same thing. Typical examples would be temperature given in both Celsius and Kelvin or the circumference and diameter of wheels. In such cases, correlations mainly tell us which variables can be discarded.."
   ]
  },
  {
   "cell_type": "markdown",
   "id": "0e72b5cf",
   "metadata": {},
   "source": [
    "### Correlation vs. Causality\n",
    "\n",
    "Searching for correlations within data is often a pivotal step in the data science process. But why? What can we do with a high correlation (that isn't too high, i.e., equal to 1.0)?\n",
    "\n",
    "The significance of a discovered correlation entirely depends on the problem posed or the task at hand. In extreme scenarios, two possible outcomes arise:\n",
    "\n",
    "1. **We've Achieved Our Goal!** The correlation is all we need. For instance, situations where a connection merely needs to be identified, not necessarily understood. Suppose in an online store we discover that 78% of customers who purchased item X also bought item Y (and this conclusion is supported by a reliable data foundation). This insight would suffice to make relevant suggestions to customers or even reorder items X and Y in tandem.\n",
    "2. **It's Just the Beginning!** In this case, the correlation is merely an initial hint in the search for deeper relationships. For example, determining if customers purchase item Y **because** they bought item X. Or, more broadly, if a correlation exists between A and B, whether **A is the cause of B**. This leads us to the concept of causality...\n",
    "\n",
    "**Causality** means that if A is the cause for effect B, then B is produced by A. Now, the question arises, how does this differ from correlation?\n",
    "\n",
    "In daily life, correlation and causality are often confused. This mix-up occurs because it's inherently human to *suspect* causal relationships behind observed correlations. Examples of such observations include:\n",
    "\n",
    "- \"I ate fruits from tree B and then fell ill.\"\n",
    "- \"I took medicine X, and an hour later, I felt better.\"\n",
    "\n",
    "In both instances, we're essentially observing only a correlation, yet we quickly infer a causal link. Without additional information or experiments, a correlation serves at best as a hint for a possible causal relationship. When A correlates with B, this can potentially be explained by various causal relationships:\n",
    "\n",
    "![sketch_causalities](../images/fig_correlation_causation.png)\n",
    "\n",
    "Things become a tad more complex, as there isn't one definitive path from identifying a correlation to proving a causal relationship! Often, targeted experiments can help validate or refute hypotheses about causal links. For instance, if eliminating A should result in the absence of B, assuming the causality $A \\rightarrow B$ holds true. However, this only applies if no other underlying cause could \"step in\" and also trigger B.\n",
    "\n",
    "\n",
    "![sketch_causality_search](../images/fig_causality_search.png)"
   ]
  },
  {
   "cell_type": "code",
   "execution_count": null,
   "id": "7dfe0ab9",
   "metadata": {},
   "outputs": [],
   "source": []
  }
 ],
 "metadata": {
  "celltoolbar": "Tags",
  "kernelspec": {
   "display_name": "Python 3 (ipykernel)",
   "language": "python",
   "name": "python3"
  },
  "language_info": {
   "codemirror_mode": {
    "name": "ipython",
    "version": 3
   },
   "file_extension": ".py",
   "mimetype": "text/x-python",
   "name": "python",
   "nbconvert_exporter": "python",
   "pygments_lexer": "ipython3",
   "version": "3.10.13"
  }
 },
 "nbformat": 4,
 "nbformat_minor": 5
}
