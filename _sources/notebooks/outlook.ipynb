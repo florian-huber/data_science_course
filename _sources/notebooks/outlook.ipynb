{
 "cells": [
  {
   "cell_type": "markdown",
   "id": "dc93e1b9",
   "metadata": {},
   "source": [
    "# What are the next steps?"
   ]
  },
  {
   "cell_type": "markdown",
   "id": "9299e95f",
   "metadata": {},
   "source": [
    "Once you familiarized yourself with the basics of data science, you can take many different exiting routes."
   ]
  },
  {
   "cell_type": "markdown",
   "id": "93392773",
   "metadata": {},
   "source": [
    "## Domain specific knowledge and techniques\n",
    "\n",
    "While many of the basic techniques can be applied to a wide range of domains and use cases, every domain comes with its own data types, questions, and challenges.\n",
    "\n",
    "In nearly all cases I have seen, data scientists will - over time - specialize in certain techniques, data types, or domains. This also makes sense, because the more you understand about the data you work with, but also the underlying questions and related difficulties, the better you can work on extracting new knowledge from such data.\n",
    "\n",
    "Let's take a few examples.\n",
    "\n",
    "### Geo-spatial data\n",
    "Working with geographic data, maps, etc. is very relevant to a lot of fields. For instance urban development, agriculture, logistics, but also geo-politics and more. In all those cases you would have to learn the basics of how to interpret geographic or geo-spatial data. How do you compute distances or areas (unless you consider the earth to be flat... well, but then you are probably no data scientist...)?\n",
    "\n",
    "In Python, there are many libraries that can help you work with such data.\n",
    "For an introduction to the topic have a look here: https://geographicdata.science/book/intro.html\n",
    "\n",
    "### Biological or medical data\n",
    "If you ever looked at genetic datasets you will quickly understand that simply running a copy+paste data science script on this might not be the way to go.\n",
    "Biological or medical data often involve high-dimensional datasets, complex structures, and a requirement for stringent data privacy and security measures. This data can range from electronic health records to genomic sequences, each with its unique set of challenges for data processing, pattern recognition, and interpretation.\n",
    "\n",
    "In the medical domain, you must also account for the ethical considerations and regulatory compliance requirements when handling data. This might include understanding the intricacies of GDPR in Europe, HIPAA in the United States, or other relevant legislation. Furthermore, the stakes are high; the insights derived from data can directly affect patient outcomes. Therefore, a deep understanding of statistical methods that are robust against false discoveries is paramount, and it's often necessary to work closely with domain experts to ensure the results are clinically relevant and interpretable."
   ]
  },
  {
   "cell_type": "markdown",
   "id": "baf84e67",
   "metadata": {},
   "source": [
    "## Software Development and Data Engineering\n",
    "\n",
    "Hopefully, this book helped to convince you that you can do very complex and detailed data analysis with a rather limited amount of code (because we can rely on many great Python libraries!). Data Science, however, is more than *only* creating and running *Jupyter Notebooks*. No doubt, those notebooks are great for fast, explorative work and they are very often used to run data science workflows. But they come with great limitations, too.\n",
    "\n",
    "As soon as you want to build something longer-lasting (maybe something that should work robustly for months or even years), or something larger in scope (maybe a project so complex that a full team will work on it), Jupyter notebooks can no longer fulfill all requirements. This is the point when you will have to acquire new data science super-powers that go beyond the basics covered in this book. Most of all, better (Python-) software development skills! This includes the ability to properly package and version Python code, to add automated testing pipelines, to implement tools to help with code quality, security, and robustness.\n",
    "\n",
    "Another common scenario in data science is that the data handling side goes far beyond the simple importing of a modest-sized csv-file. Think of things like *really* big data, for instance, data that is too big to fit into memory, or data that has to be processed in real-time. That is where data engineering and high performance computing start to come into play. This includes topics such as efficient data storage, retrieval, and processing. You might want to learn how to use specific tools for big data scenarios such as Spark, as well as skills to work with cloud platforms. But, a first step often even starts within your own code base namely algorithm and code profiling and optimization. Python is a great language for data science, but it needs specific tricks to make code run fast and efficient. At some point you will probably come to the point that you have to worry about parallelization and compiling, and the use of libraries such as `numba` or `dask`. But that is all material for another book...\n"
   ]
  },
  {
   "cell_type": "markdown",
   "id": "aaaa1947",
   "metadata": {},
   "source": []
  },
  {
   "cell_type": "markdown",
   "metadata": {},
   "source": []
  }
 ],
 "metadata": {
  "kernelspec": {
   "display_name": "Python 3 (ipykernel)",
   "language": "python",
   "name": "python3"
  },
  "language_info": {
   "codemirror_mode": {
    "name": "ipython",
    "version": 3
   },
   "file_extension": ".py",
   "mimetype": "text/x-python",
   "name": "python",
   "nbconvert_exporter": "python",
   "pygments_lexer": "ipython3",
   "version": "3.10.13"
  }
 },
 "nbformat": 4,
 "nbformat_minor": 5
}
