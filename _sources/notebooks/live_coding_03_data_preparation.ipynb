{
 "cells": [
  {
   "cell_type": "markdown",
   "id": "5833a515-72ef-43f0-8be4-4601a24ae0be",
   "metadata": {},
   "source": [
    "# Introduction to Data Pre-Processing\n",
    "\n",
    "## What is Data Pre-Processing?\n",
    "\n",
    "We have now arrived what we called *Scrub Data* in the **ASEMIC** data science workflow.\n",
    "More formally, this is usually termed **Data Pre-Processing** and is a crucial step in every data science project. This process involves the preparation and cleansing of raw data to make it suitable for further analysis and modeling. In essence, data pre-processing is about transforming raw data into a clean dataset that is free from errors, inconsistencies, and is formatted appropriately for use in analytics applications.\n",
    "\n",
    "The necessity for data pre-processing arises from the fact that real-world data is often incomplete, inconsistent, and/or lacking in certain behaviors or trends. Data might also be contaminated by errors or outliers that could potentially skew the results of any analysis performed.\n",
    "\n",
    "### Why is it Important?\n",
    "\n",
    "An often-heard quote in data science, most frequently in machine learning, is:  \n",
    "*Garbage in, garbage out!*  \n",
    "This phrase underscores a crucial truth about data science: the quality of the output is heavily dependent on the quality of the input. With a huge range of sophisticated tools and techniques available today, there is a common misconception that these tools can automatically correct or overcome shortcomings in the data. While modern technologies such as machine learning and artificial intelligence are powerful in extracting patterns and making predictions, they are not capable of performing miracles. Poor-quality data will likely result in poor-quality insights, leading to decisions that could be misleading or even detrimental.\n",
    "\n",
    "Therefore, investing time in data pre-processing not only enhances the reliability of your data but also significantly boosts the effectiveness of the analytical models that process this data. This step ensures that subsequent analyses are both accurate and robust, providing meaningful insights that are based on a solid foundation of clean and well-structured data. \n",
    "\n",
    "Data pre-processing is usually perceived as a much less \"shiny\" part of a data science process when compared to more \"fancy\" steps such as data visualization or training a machine learning model. It is not uncommon though, that the data acquisition and data preparation phase is what ultimately determines if a project will be a huge success or a failure!\n",
    "\n",
    "### Steps in Data Pre-Processing\n",
    "\n",
    "The process of data pre-processing includes several key steps:\n",
    "\n",
    "1. **Handling Missing Data**: Filling or removing data entries that are missing to prevent errors in analysis.\n",
    "2. **Data Integration**: Combining data from multiple sources to create a comprehensive dataset.\n",
    "3. **Data Transformation**: Normalizing, scaling, or converting data to ensure that the dataset has a consistent scale and format.\n",
    "4. **Data Cleaning**: Removing noise and correcting inconsistencies, which may involve addressing outliers, duplicate data, and correcting typos.\n",
    "5. **Data Reduction**: Reducing the complexity of data, which can involve decreasing the number of features in a dataset or modifying the dataset to focus on important attributes.\n",
    "\n",
    "These steps help in transforming raw data into a refined format that enhances the analytical capabilities of data science tools, leading to more accurate and insightful outcomes.\n",
    "\n",
    "------"
   ]
  },
  {
   "cell_type": "markdown",
   "id": "43c3f260-b884-416a-bb92-fc5d764f9c4f",
   "metadata": {},
   "source": [
    "## Dealing with Missing Values\n",
    "\n",
    "### Understanding Missing Values\n",
    "\n",
    "Missing data is a prevalent issue in most data gathering processes. It can occur for a variety of reasons including errors in data entry, failures in data collection processes, or during data transmission. The presence of missing values can significantly impact the performance of data analysis models, as most algorithms are designed to handle complete datasets.\n",
    "\n",
    "Handling missing data is therefore a crucial step; if not addressed properly, it can lead to biased or invalid results. Different strategies can be employed depending on the nature of the data and the intended analysis.\n",
    "\n",
    "### Techniques to Handle Missing Values\n",
    "\n",
    "#### 1. Deletion\n",
    "\n",
    "- **Listwise Deletion**: This involves removing any data entries that contain a missing value. While straightforward, this method can lead to a significant reduction in data size, which might not be ideal for statistical analysis.\n",
    "- **Pairwise Deletion**: Used primarily in statistical analyses, this method only excludes missing data in calculations where it is relevant. This allows for the use of all available data, although it can complicate the analysis process.\n",
    "\n",
    "#### 2. Imputation\n",
    "\n",
    "Imputation means that we try to make good guesses of what the missing data *could have been*. It therefore is about much more than just spending a bit more time compared to a simple deletion step. Whether or not it is appropriate to use imputation depends on how well we understand the data and how sensitive the following data science tasks are.\n",
    "If we, or the experts we collaborate with, do not have a very solid understanding of the data, its meaning, its measurement process etc., we should usually not include imputation since there is a very high risk that we create artifacts in the data that we are now aware of. \n",
    "\n",
    "The same is true if the following analysis is very sensible and thus requires properly measures values.\n",
    "\n",
    "In other cases, however, imputation can indeed improve later results because it might allow us to work with a larger part of the available data. Common imputation types are:\n",
    "\n",
    "- **Mean/Median/Mode Imputation**: This is one of the simplest methods where missing values are replaced with the mean, median, or mode of the respective column. It's quick and easy but can introduce bias if the data is not normally distributed.\n",
    "- **Predictive Models**: More sophisticated methods involve using statistical models, such as regression, to estimate missing values based on other data points within the dataset.\n",
    "- **K-Nearest Neighbors (KNN)**: This method imputes values based on the similarity of instances that are nearest to each other. It is more computationally intensive but can provide better results for complex datasets.\n",
    "\n",
    "### Python Examples: Handling Missing Values\n",
    "\n",
    "We will include detailed Python examples demonstrating these techniques, showing practical implementations using libraries such as `pandas` and `scikit-learn`. This hands-on approach will help in solidifying the theoretical concepts discussed and provide learners with the tools they need to effectively handle missing data in their projects."
   ]
  },
  {
   "cell_type": "code",
   "execution_count": 13,
   "id": "67fa04e3-b8f0-4aea-b790-fb63ae0a9be6",
   "metadata": {},
   "outputs": [
    {
     "name": "stdout",
     "output_type": "stream",
     "text": [
      "Original DataFrame:\n"
     ]
    },
    {
     "data": {
      "text/html": [
       "<div>\n",
       "<style scoped>\n",
       "    .dataframe tbody tr th:only-of-type {\n",
       "        vertical-align: middle;\n",
       "    }\n",
       "\n",
       "    .dataframe tbody tr th {\n",
       "        vertical-align: top;\n",
       "    }\n",
       "\n",
       "    .dataframe thead th {\n",
       "        text-align: right;\n",
       "    }\n",
       "</style>\n",
       "<table border=\"1\" class=\"dataframe\">\n",
       "  <thead>\n",
       "    <tr style=\"text-align: right;\">\n",
       "      <th></th>\n",
       "      <th>Name</th>\n",
       "      <th>Age</th>\n",
       "      <th>Salary</th>\n",
       "    </tr>\n",
       "  </thead>\n",
       "  <tbody>\n",
       "    <tr>\n",
       "      <th>0</th>\n",
       "      <td>Alice</td>\n",
       "      <td>25.0</td>\n",
       "      <td>50000.0</td>\n",
       "    </tr>\n",
       "    <tr>\n",
       "      <th>1</th>\n",
       "      <td>Bob</td>\n",
       "      <td>NaN</td>\n",
       "      <td>NaN</td>\n",
       "    </tr>\n",
       "    <tr>\n",
       "      <th>2</th>\n",
       "      <td></td>\n",
       "      <td>30.0</td>\n",
       "      <td>60000.0</td>\n",
       "    </tr>\n",
       "    <tr>\n",
       "      <th>3</th>\n",
       "      <td>Diane</td>\n",
       "      <td>28.0</td>\n",
       "      <td>52000.0</td>\n",
       "    </tr>\n",
       "  </tbody>\n",
       "</table>\n",
       "</div>"
      ],
      "text/plain": [
       "    Name   Age   Salary\n",
       "0  Alice  25.0  50000.0\n",
       "1    Bob   NaN      NaN\n",
       "2         30.0  60000.0\n",
       "3  Diane  28.0  52000.0"
      ]
     },
     "execution_count": 13,
     "metadata": {},
     "output_type": "execute_result"
    }
   ],
   "source": [
    "import pandas as pd\n",
    "import numpy as np\n",
    "\n",
    "# Create sample data\n",
    "data = {'Name': [\"Alice\", \"Bob\", \"\", \"Diane\"],\n",
    "        'Age': [25, np.nan, 30, 28],\n",
    "        'Salary': [50000, None, 60000, 52000]}\n",
    "df = pd.DataFrame(data)\n",
    "print(\"Original DataFrame:\")\n",
    "df.head()"
   ]
  },
  {
   "cell_type": "markdown",
   "id": "40e5426b-d2c8-4e53-a4ea-71b458f541c4",
   "metadata": {},
   "source": [
    "We here have several missing values in our data.\n",
    "A problem we commonly face is that *missing* values can mean different things. In the technical sense, this simply means that there is no value at all. This is represented by `NaN` (= *Not a Number*) entries, such as `np.nan` in Numpy. But there are many different ways to represent missing data, which can easily lead to a lot of confusion. Pandas, for instance, also has options such as `NA` (see [Pandas documentation on missing values](https://pandas.pydata.org/pandas-docs/stable/user_guide/missing_data.html#na-semantics)). `None` is also commonly used to represent a non-existing or non-available entry. \n",
    "\n",
    "The most problematic entry representing missing data, are custom codes. Some devices, for instance, add values such as `9999` if a measurement is not possible. Or look at the table above in the code example, where an obviously missing name is represented by an empty string (`\"\"`). In a similar fashion you will get data with values such as `\"N/A\"`, `\"NA\"`, `\"None\"`, `\"unknown\"`, `\"missing\"` and countless others.\n",
    "\n",
    "For a human reader that might not seem too difficult at first. However, datasets will often be huge and we don't want to (or simply cannot) inspect all those options manually. In practice, this can make it surprisingly difficult to spot all missing values."
   ]
  },
  {
   "cell_type": "code",
   "execution_count": 14,
   "id": "370c649d-9c98-42d9-9691-5b8520238ebd",
   "metadata": {},
   "outputs": [
    {
     "name": "stdout",
     "output_type": "stream",
     "text": [
      "<class 'pandas.core.frame.DataFrame'>\n",
      "RangeIndex: 4 entries, 0 to 3\n",
      "Data columns (total 3 columns):\n",
      " #   Column  Non-Null Count  Dtype  \n",
      "---  ------  --------------  -----  \n",
      " 0   Name    4 non-null      object \n",
      " 1   Age     3 non-null      float64\n",
      " 2   Salary  3 non-null      float64\n",
      "dtypes: float64(2), object(1)\n",
      "memory usage: 224.0+ bytes\n"
     ]
    }
   ],
   "source": [
    "df.info()"
   ]
  },
  {
   "cell_type": "markdown",
   "id": "f500c565-06e4-4993-92d5-7279c04ea4e9",
   "metadata": {},
   "source": [
    "The `.info()` method is a very easy and quick way to check for missing entries. But it won't work for string-entries of any type, so that it here misses the empty entry in the \"Name\" column! For Pandas, this column has 4 entries and all are \"non-null\" which means \"not missing\". Simply because there *is* a value in every row, even if one of them is a probably undesired `\"\"`."
   ]
  },
  {
   "cell_type": "markdown",
   "id": "39b1444d-5473-48c6-a08e-b4529e328399",
   "metadata": {},
   "source": [
    "### Remove missing values"
   ]
  },
  {
   "cell_type": "code",
   "execution_count": 27,
   "id": "4c9d8e8b-ee2a-4f41-951d-44a5ce97b0c1",
   "metadata": {},
   "outputs": [
    {
     "name": "stdout",
     "output_type": "stream",
     "text": [
      "DataFrame after dropna():\n"
     ]
    },
    {
     "data": {
      "text/html": [
       "<div>\n",
       "<style scoped>\n",
       "    .dataframe tbody tr th:only-of-type {\n",
       "        vertical-align: middle;\n",
       "    }\n",
       "\n",
       "    .dataframe tbody tr th {\n",
       "        vertical-align: top;\n",
       "    }\n",
       "\n",
       "    .dataframe thead th {\n",
       "        text-align: right;\n",
       "    }\n",
       "</style>\n",
       "<table border=\"1\" class=\"dataframe\">\n",
       "  <thead>\n",
       "    <tr style=\"text-align: right;\">\n",
       "      <th></th>\n",
       "      <th>Name</th>\n",
       "      <th>Age</th>\n",
       "      <th>Salary</th>\n",
       "    </tr>\n",
       "  </thead>\n",
       "  <tbody>\n",
       "    <tr>\n",
       "      <th>0</th>\n",
       "      <td>Alice</td>\n",
       "      <td>25.0</td>\n",
       "      <td>50000.0</td>\n",
       "    </tr>\n",
       "    <tr>\n",
       "      <th>2</th>\n",
       "      <td></td>\n",
       "      <td>30.0</td>\n",
       "      <td>60000.0</td>\n",
       "    </tr>\n",
       "    <tr>\n",
       "      <th>3</th>\n",
       "      <td>Diane</td>\n",
       "      <td>28.0</td>\n",
       "      <td>52000.0</td>\n",
       "    </tr>\n",
       "  </tbody>\n",
       "</table>\n",
       "</div>"
      ],
      "text/plain": [
       "    Name   Age   Salary\n",
       "0  Alice  25.0  50000.0\n",
       "2         30.0  60000.0\n",
       "3  Diane  28.0  52000.0"
      ]
     },
     "execution_count": 27,
     "metadata": {},
     "output_type": "execute_result"
    }
   ],
   "source": [
    "# Removing any rows that have at least one missing value\n",
    "clean_df = df.dropna()\n",
    "print(\"DataFrame after dropna():\")\n",
    "clean_df.head()"
   ]
  },
  {
   "cell_type": "markdown",
   "id": "18eb296a-02f7-492b-85dd-5d6781e7d4e0",
   "metadata": {},
   "source": [
    "Very often, just like in this case, we have to find our own work-arounds for the data we get. Here, we could use a simple mask to remove names that we found to be represented by certain strings."
   ]
  },
  {
   "cell_type": "code",
   "execution_count": 25,
   "id": "81c7fc85-fa20-4e9b-a7ce-389227d53c7e",
   "metadata": {},
   "outputs": [
    {
     "data": {
      "text/plain": [
       "[True, True, False, True]"
      ]
     },
     "execution_count": 25,
     "metadata": {},
     "output_type": "execute_result"
    }
   ],
   "source": [
    "[x not in [\"\", \"unknown\", \"missing\", \"None\"] for x in df.Name]"
   ]
  },
  {
   "cell_type": "code",
   "execution_count": 24,
   "id": "1f394cb5-3d3e-4a16-84bd-3f420309cc8e",
   "metadata": {},
   "outputs": [
    {
     "data": {
      "text/html": [
       "<div>\n",
       "<style scoped>\n",
       "    .dataframe tbody tr th:only-of-type {\n",
       "        vertical-align: middle;\n",
       "    }\n",
       "\n",
       "    .dataframe tbody tr th {\n",
       "        vertical-align: top;\n",
       "    }\n",
       "\n",
       "    .dataframe thead th {\n",
       "        text-align: right;\n",
       "    }\n",
       "</style>\n",
       "<table border=\"1\" class=\"dataframe\">\n",
       "  <thead>\n",
       "    <tr style=\"text-align: right;\">\n",
       "      <th></th>\n",
       "      <th>Name</th>\n",
       "      <th>Age</th>\n",
       "      <th>Salary</th>\n",
       "    </tr>\n",
       "  </thead>\n",
       "  <tbody>\n",
       "    <tr>\n",
       "      <th>0</th>\n",
       "      <td>Alice</td>\n",
       "      <td>25.0</td>\n",
       "      <td>50000.0</td>\n",
       "    </tr>\n",
       "    <tr>\n",
       "      <th>1</th>\n",
       "      <td>Bob</td>\n",
       "      <td>NaN</td>\n",
       "      <td>NaN</td>\n",
       "    </tr>\n",
       "    <tr>\n",
       "      <th>3</th>\n",
       "      <td>Diane</td>\n",
       "      <td>28.0</td>\n",
       "      <td>52000.0</td>\n",
       "    </tr>\n",
       "  </tbody>\n",
       "</table>\n",
       "</div>"
      ],
      "text/plain": [
       "    Name   Age   Salary\n",
       "0  Alice  25.0  50000.0\n",
       "1    Bob   NaN      NaN\n",
       "3  Diane  28.0  52000.0"
      ]
     },
     "execution_count": 24,
     "metadata": {},
     "output_type": "execute_result"
    }
   ],
   "source": [
    "mask = [x not in [\"\", \"unknown\", \"missing\", \"None\"] for x in df.Name]\n",
    "df[mask]"
   ]
  },
  {
   "cell_type": "code",
   "execution_count": 26,
   "id": "45fa95e4-ec7c-4bd6-b457-4397c146eaa6",
   "metadata": {},
   "outputs": [
    {
     "name": "stdout",
     "output_type": "stream",
     "text": [
      "DataFrame after Listwise Deletion:\n"
     ]
    },
    {
     "data": {
      "text/html": [
       "<div>\n",
       "<style scoped>\n",
       "    .dataframe tbody tr th:only-of-type {\n",
       "        vertical-align: middle;\n",
       "    }\n",
       "\n",
       "    .dataframe tbody tr th {\n",
       "        vertical-align: top;\n",
       "    }\n",
       "\n",
       "    .dataframe thead th {\n",
       "        text-align: right;\n",
       "    }\n",
       "</style>\n",
       "<table border=\"1\" class=\"dataframe\">\n",
       "  <thead>\n",
       "    <tr style=\"text-align: right;\">\n",
       "      <th></th>\n",
       "      <th>Name</th>\n",
       "      <th>Age</th>\n",
       "      <th>Salary</th>\n",
       "    </tr>\n",
       "  </thead>\n",
       "  <tbody>\n",
       "    <tr>\n",
       "      <th>0</th>\n",
       "      <td>Alice</td>\n",
       "      <td>25.0</td>\n",
       "      <td>50000.0</td>\n",
       "    </tr>\n",
       "    <tr>\n",
       "      <th>3</th>\n",
       "      <td>Diane</td>\n",
       "      <td>28.0</td>\n",
       "      <td>52000.0</td>\n",
       "    </tr>\n",
       "  </tbody>\n",
       "</table>\n",
       "</div>"
      ],
      "text/plain": [
       "    Name   Age   Salary\n",
       "0  Alice  25.0  50000.0\n",
       "3  Diane  28.0  52000.0"
      ]
     },
     "execution_count": 26,
     "metadata": {},
     "output_type": "execute_result"
    }
   ],
   "source": [
    "# Removing any rows that have at least one missing value\n",
    "clean_df = df[mask]\n",
    "clean_df = clean_df.dropna()\n",
    "print(\"DataFrame after deletions:\")\n",
    "clean_df.head()"
   ]
  },
  {
   "cell_type": "code",
   "execution_count": 28,
   "id": "97176246-98b4-43bd-9227-6a630f825f45",
   "metadata": {},
   "outputs": [
    {
     "name": "stdout",
     "output_type": "stream",
     "text": [
      "DataFrame after KNN Imputation:\n"
     ]
    },
    {
     "data": {
      "text/html": [
       "<div>\n",
       "<style scoped>\n",
       "    .dataframe tbody tr th:only-of-type {\n",
       "        vertical-align: middle;\n",
       "    }\n",
       "\n",
       "    .dataframe tbody tr th {\n",
       "        vertical-align: top;\n",
       "    }\n",
       "\n",
       "    .dataframe thead th {\n",
       "        text-align: right;\n",
       "    }\n",
       "</style>\n",
       "<table border=\"1\" class=\"dataframe\">\n",
       "  <thead>\n",
       "    <tr style=\"text-align: right;\">\n",
       "      <th></th>\n",
       "      <th>Age</th>\n",
       "      <th>Salary</th>\n",
       "    </tr>\n",
       "  </thead>\n",
       "  <tbody>\n",
       "    <tr>\n",
       "      <th>0</th>\n",
       "      <td>25.000000</td>\n",
       "      <td>50000.0</td>\n",
       "    </tr>\n",
       "    <tr>\n",
       "      <th>1</th>\n",
       "      <td>27.666667</td>\n",
       "      <td>54000.0</td>\n",
       "    </tr>\n",
       "    <tr>\n",
       "      <th>2</th>\n",
       "      <td>30.000000</td>\n",
       "      <td>60000.0</td>\n",
       "    </tr>\n",
       "    <tr>\n",
       "      <th>3</th>\n",
       "      <td>28.000000</td>\n",
       "      <td>52000.0</td>\n",
       "    </tr>\n",
       "  </tbody>\n",
       "</table>\n",
       "</div>"
      ],
      "text/plain": [
       "         Age   Salary\n",
       "0  25.000000  50000.0\n",
       "1  27.666667  54000.0\n",
       "2  30.000000  60000.0\n",
       "3  28.000000  52000.0"
      ]
     },
     "execution_count": 28,
     "metadata": {},
     "output_type": "execute_result"
    }
   ],
   "source": [
    "from sklearn.impute import KNNImputer\n",
    "\n",
    "# Creating the imputer object\n",
    "imputer = KNNImputer(n_neighbors=2)\n",
    "\n",
    "# Assuming df is a DataFrame containing the relevant features\n",
    "df_filled = pd.DataFrame(imputer.fit_transform(df[['Age', 'Salary']]), columns=['Age', 'Salary'])\n",
    "print(\"DataFrame after KNN Imputation:\")\n",
    "df_filled.head()"
   ]
  },
  {
   "cell_type": "markdown",
   "id": "210b310a-b96c-450a-8ea1-eeb76b2c3961",
   "metadata": {},
   "source": [
    "## Combining Datasets\n",
    "\n",
    "### Why Combine Datasets?\n",
    "\n",
    "In many real-world data science scenarios, data doesn't come in a single, comprehensive package. Instead, relevant information is often scattered across multiple datasets. Combining these datasets is a crucial step as it enables a holistic analysis, providing a more complete view of the data subjects. Whether it's merging customer information from different branches of a company, integrating sales data from various regions, or linking patient data from multiple clinical studies, effectively combining datasets can yield insights that aren't observable in isolated data.\n",
    "\n",
    "At first, this seems to a be a rather simple operations. In practice, however, this is often surprisingly complicated and critical. If merging is not done correctly, we might either lose data or create incorrect entries.\n",
    "\n",
    "```{figure} ../images/fig_data_merging_types.png\n",
    ":name: fig_data_merging01\n",
    "\n",
    "There are different type of merging data. Which one to use is best decided based on the data we have at hand and the types of operations we plan to run with the resulting data. Here are three of the most common types of merges: inner, left, and outer merges.\n",
    "```\n",
    "\n",
    "Figure ({numref}`fig_data_merging01`) shows some common merging types. More information on different ways to combine data using pandas can be found in the [pandas documentation on merging](https://pandas.pydata.org/pandas-docs/stable/user_guide/merging.html). \n",
    "\n",
    "### Understanding Different Types of Merges\n",
    "\n",
    "Combining datasets effectively requires understanding the nature of the relationships between them. This understanding guides the choice of merging technique, each of which can affect the outcome of the analysis differently.\n",
    "\n",
    "#### Common Types of Merges\n",
    "\n",
    "1. **Inner Join**  \n",
    "**Description**: The inner join returns only those records that have matching values in both datasets. This method is most useful when you need to combine records that have a direct correspondence in both sources.  \n",
    "**Use Case**: Analyzing data where only complete records from both datasets are necessary, such as matching customer demographics with their purchasing records.\n",
    "\n",
    "3. **Outer Join**  \n",
    "Types:  \n",
    "     - **Full Outer Join**: Combines all records from both datasets, filling in missing values with NaNs where no match is found.\n",
    "     - **Left Outer Join**: Includes all records from the left dataset and the matched records from the right dataset.\n",
    "     - **Right Outer Join**: Includes all records from the right dataset and the matched records from the left dataset.\n",
    "\n",
    "   **Use Case**: Useful when you want to retain all information from one or both datasets, filling gaps with missing values for further analysis."
   ]
  },
  {
   "cell_type": "markdown",
   "id": "3846f282-48eb-4c92-a2d4-08191c34aec3",
   "metadata": {},
   "source": [
    "To illustrate these concepts, let's see practical examples."
   ]
  },
  {
   "cell_type": "code",
   "execution_count": 45,
   "id": "0153d3bb-95f3-486f-9dd3-f3e3cf9189da",
   "metadata": {},
   "outputs": [
    {
     "data": {
      "text/html": [
       "<div>\n",
       "<style scoped>\n",
       "    .dataframe tbody tr th:only-of-type {\n",
       "        vertical-align: middle;\n",
       "    }\n",
       "\n",
       "    .dataframe tbody tr th {\n",
       "        vertical-align: top;\n",
       "    }\n",
       "\n",
       "    .dataframe thead th {\n",
       "        text-align: right;\n",
       "    }\n",
       "</style>\n",
       "<table border=\"1\" class=\"dataframe\">\n",
       "  <thead>\n",
       "    <tr style=\"text-align: right;\">\n",
       "      <th></th>\n",
       "      <th>ProductID</th>\n",
       "      <th>ProductName</th>\n",
       "    </tr>\n",
       "  </thead>\n",
       "  <tbody>\n",
       "    <tr>\n",
       "      <th>0</th>\n",
       "      <td>101</td>\n",
       "      <td>Widget</td>\n",
       "    </tr>\n",
       "    <tr>\n",
       "      <th>1</th>\n",
       "      <td>102</td>\n",
       "      <td>Gadget</td>\n",
       "    </tr>\n",
       "    <tr>\n",
       "      <th>2</th>\n",
       "      <td>103</td>\n",
       "      <td>DoesWhat</td>\n",
       "    </tr>\n",
       "    <tr>\n",
       "      <th>3</th>\n",
       "      <td>104</td>\n",
       "      <td>DoSomething</td>\n",
       "    </tr>\n",
       "  </tbody>\n",
       "</table>\n",
       "</div>"
      ],
      "text/plain": [
       "   ProductID  ProductName\n",
       "0        101       Widget\n",
       "1        102       Gadget\n",
       "2        103     DoesWhat\n",
       "3        104  DoSomething"
      ]
     },
     "execution_count": 45,
     "metadata": {},
     "output_type": "execute_result"
    }
   ],
   "source": [
    "# Create sample data for products\n",
    "data_products = pd.DataFrame({\n",
    "    'ProductID': [101, 102, 103, 104],\n",
    "    'ProductName': ['Widget', 'Gadget', 'DoesWhat', 'DoSomething']\n",
    "})\n",
    "\n",
    "# Create sample data for sales\n",
    "data_sales = pd.DataFrame({\n",
    "    'ProductID': [101, 102, 104, 105],\n",
    "    'UnitsSold': [134, 243, 76, 100]\n",
    "})\n",
    "data_products.head()"
   ]
  },
  {
   "cell_type": "code",
   "execution_count": 46,
   "id": "ac68858b-9b6b-4610-8e8a-059af1bdc05d",
   "metadata": {},
   "outputs": [
    {
     "data": {
      "text/html": [
       "<div>\n",
       "<style scoped>\n",
       "    .dataframe tbody tr th:only-of-type {\n",
       "        vertical-align: middle;\n",
       "    }\n",
       "\n",
       "    .dataframe tbody tr th {\n",
       "        vertical-align: top;\n",
       "    }\n",
       "\n",
       "    .dataframe thead th {\n",
       "        text-align: right;\n",
       "    }\n",
       "</style>\n",
       "<table border=\"1\" class=\"dataframe\">\n",
       "  <thead>\n",
       "    <tr style=\"text-align: right;\">\n",
       "      <th></th>\n",
       "      <th>ProductID</th>\n",
       "      <th>UnitsSold</th>\n",
       "    </tr>\n",
       "  </thead>\n",
       "  <tbody>\n",
       "    <tr>\n",
       "      <th>0</th>\n",
       "      <td>101</td>\n",
       "      <td>134</td>\n",
       "    </tr>\n",
       "    <tr>\n",
       "      <th>1</th>\n",
       "      <td>102</td>\n",
       "      <td>243</td>\n",
       "    </tr>\n",
       "    <tr>\n",
       "      <th>2</th>\n",
       "      <td>104</td>\n",
       "      <td>76</td>\n",
       "    </tr>\n",
       "    <tr>\n",
       "      <th>3</th>\n",
       "      <td>105</td>\n",
       "      <td>100</td>\n",
       "    </tr>\n",
       "  </tbody>\n",
       "</table>\n",
       "</div>"
      ],
      "text/plain": [
       "   ProductID  UnitsSold\n",
       "0        101        134\n",
       "1        102        243\n",
       "2        104         76\n",
       "3        105        100"
      ]
     },
     "execution_count": 46,
     "metadata": {},
     "output_type": "execute_result"
    }
   ],
   "source": [
    "data_sales.head()"
   ]
  },
  {
   "cell_type": "markdown",
   "id": "288f9d68-132f-41fc-bac8-846d704cd7d5",
   "metadata": {},
   "source": [
    "Inner Join Example:"
   ]
  },
  {
   "cell_type": "code",
   "execution_count": 47,
   "id": "ac256f7d-b52b-4537-b926-5476d31024e8",
   "metadata": {},
   "outputs": [
    {
     "name": "stdout",
     "output_type": "stream",
     "text": [
      "Inner Join Result:\n"
     ]
    },
    {
     "data": {
      "text/html": [
       "<div>\n",
       "<style scoped>\n",
       "    .dataframe tbody tr th:only-of-type {\n",
       "        vertical-align: middle;\n",
       "    }\n",
       "\n",
       "    .dataframe tbody tr th {\n",
       "        vertical-align: top;\n",
       "    }\n",
       "\n",
       "    .dataframe thead th {\n",
       "        text-align: right;\n",
       "    }\n",
       "</style>\n",
       "<table border=\"1\" class=\"dataframe\">\n",
       "  <thead>\n",
       "    <tr style=\"text-align: right;\">\n",
       "      <th></th>\n",
       "      <th>ProductID</th>\n",
       "      <th>ProductName</th>\n",
       "      <th>UnitsSold</th>\n",
       "    </tr>\n",
       "  </thead>\n",
       "  <tbody>\n",
       "    <tr>\n",
       "      <th>0</th>\n",
       "      <td>101</td>\n",
       "      <td>Widget</td>\n",
       "      <td>134</td>\n",
       "    </tr>\n",
       "    <tr>\n",
       "      <th>1</th>\n",
       "      <td>102</td>\n",
       "      <td>Gadget</td>\n",
       "      <td>243</td>\n",
       "    </tr>\n",
       "    <tr>\n",
       "      <th>2</th>\n",
       "      <td>104</td>\n",
       "      <td>DoSomething</td>\n",
       "      <td>76</td>\n",
       "    </tr>\n",
       "  </tbody>\n",
       "</table>\n",
       "</div>"
      ],
      "text/plain": [
       "   ProductID  ProductName  UnitsSold\n",
       "0        101       Widget        134\n",
       "1        102       Gadget        243\n",
       "2        104  DoSomething         76"
      ]
     },
     "execution_count": 47,
     "metadata": {},
     "output_type": "execute_result"
    }
   ],
   "source": [
    "inner_join_df = pd.merge(data_products, data_sales, on='ProductID', how='inner')\n",
    "print(\"Inner Join Result:\")\n",
    "inner_join_df.head()"
   ]
  },
  {
   "cell_type": "markdown",
   "id": "89ef39c3-e8fb-4f19-8b99-66d87dca5cdf",
   "metadata": {},
   "source": [
    "Left outer join and full outer join examples:"
   ]
  },
  {
   "cell_type": "code",
   "execution_count": 48,
   "id": "4735bb9d-849b-4c41-9ffb-d3f4df41243e",
   "metadata": {},
   "outputs": [
    {
     "name": "stdout",
     "output_type": "stream",
     "text": [
      "Left Outer Join Result:\n"
     ]
    },
    {
     "data": {
      "text/html": [
       "<div>\n",
       "<style scoped>\n",
       "    .dataframe tbody tr th:only-of-type {\n",
       "        vertical-align: middle;\n",
       "    }\n",
       "\n",
       "    .dataframe tbody tr th {\n",
       "        vertical-align: top;\n",
       "    }\n",
       "\n",
       "    .dataframe thead th {\n",
       "        text-align: right;\n",
       "    }\n",
       "</style>\n",
       "<table border=\"1\" class=\"dataframe\">\n",
       "  <thead>\n",
       "    <tr style=\"text-align: right;\">\n",
       "      <th></th>\n",
       "      <th>ProductID</th>\n",
       "      <th>ProductName</th>\n",
       "      <th>UnitsSold</th>\n",
       "    </tr>\n",
       "  </thead>\n",
       "  <tbody>\n",
       "    <tr>\n",
       "      <th>0</th>\n",
       "      <td>101</td>\n",
       "      <td>Widget</td>\n",
       "      <td>134.0</td>\n",
       "    </tr>\n",
       "    <tr>\n",
       "      <th>1</th>\n",
       "      <td>102</td>\n",
       "      <td>Gadget</td>\n",
       "      <td>243.0</td>\n",
       "    </tr>\n",
       "    <tr>\n",
       "      <th>2</th>\n",
       "      <td>103</td>\n",
       "      <td>DoesWhat</td>\n",
       "      <td>NaN</td>\n",
       "    </tr>\n",
       "    <tr>\n",
       "      <th>3</th>\n",
       "      <td>104</td>\n",
       "      <td>DoSomething</td>\n",
       "      <td>76.0</td>\n",
       "    </tr>\n",
       "  </tbody>\n",
       "</table>\n",
       "</div>"
      ],
      "text/plain": [
       "   ProductID  ProductName  UnitsSold\n",
       "0        101       Widget      134.0\n",
       "1        102       Gadget      243.0\n",
       "2        103     DoesWhat        NaN\n",
       "3        104  DoSomething       76.0"
      ]
     },
     "execution_count": 48,
     "metadata": {},
     "output_type": "execute_result"
    }
   ],
   "source": [
    "left_outer_join_df = pd.merge(data_products, data_sales, on='ProductID', how='left')\n",
    "print(\"Left Outer Join Result:\")\n",
    "left_outer_join_df.head()"
   ]
  },
  {
   "cell_type": "code",
   "execution_count": 49,
   "id": "1a90b0b5-5539-4c44-9aa8-0587d3e30518",
   "metadata": {},
   "outputs": [
    {
     "name": "stdout",
     "output_type": "stream",
     "text": [
      "Full Outer Join Result:\n"
     ]
    },
    {
     "data": {
      "text/html": [
       "<div>\n",
       "<style scoped>\n",
       "    .dataframe tbody tr th:only-of-type {\n",
       "        vertical-align: middle;\n",
       "    }\n",
       "\n",
       "    .dataframe tbody tr th {\n",
       "        vertical-align: top;\n",
       "    }\n",
       "\n",
       "    .dataframe thead th {\n",
       "        text-align: right;\n",
       "    }\n",
       "</style>\n",
       "<table border=\"1\" class=\"dataframe\">\n",
       "  <thead>\n",
       "    <tr style=\"text-align: right;\">\n",
       "      <th></th>\n",
       "      <th>ProductID</th>\n",
       "      <th>ProductName</th>\n",
       "      <th>UnitsSold</th>\n",
       "    </tr>\n",
       "  </thead>\n",
       "  <tbody>\n",
       "    <tr>\n",
       "      <th>0</th>\n",
       "      <td>101</td>\n",
       "      <td>Widget</td>\n",
       "      <td>134.0</td>\n",
       "    </tr>\n",
       "    <tr>\n",
       "      <th>1</th>\n",
       "      <td>102</td>\n",
       "      <td>Gadget</td>\n",
       "      <td>243.0</td>\n",
       "    </tr>\n",
       "    <tr>\n",
       "      <th>2</th>\n",
       "      <td>103</td>\n",
       "      <td>DoesWhat</td>\n",
       "      <td>NaN</td>\n",
       "    </tr>\n",
       "    <tr>\n",
       "      <th>3</th>\n",
       "      <td>104</td>\n",
       "      <td>DoSomething</td>\n",
       "      <td>76.0</td>\n",
       "    </tr>\n",
       "    <tr>\n",
       "      <th>4</th>\n",
       "      <td>105</td>\n",
       "      <td>NaN</td>\n",
       "      <td>100.0</td>\n",
       "    </tr>\n",
       "  </tbody>\n",
       "</table>\n",
       "</div>"
      ],
      "text/plain": [
       "   ProductID  ProductName  UnitsSold\n",
       "0        101       Widget      134.0\n",
       "1        102       Gadget      243.0\n",
       "2        103     DoesWhat        NaN\n",
       "3        104  DoSomething       76.0\n",
       "4        105          NaN      100.0"
      ]
     },
     "execution_count": 49,
     "metadata": {},
     "output_type": "execute_result"
    }
   ],
   "source": [
    "full_outer_join_df = pd.merge(data_products, data_sales, on='ProductID', how='outer')\n",
    "print(\"Full Outer Join Result:\")\n",
    "full_outer_join_df.head()"
   ]
  },
  {
   "cell_type": "markdown",
   "id": "fc82bd00-26da-4ce9-b200-2f5a9ad96694",
   "metadata": {},
   "source": [
    "### Typical Challenges:\n",
    "The given example is fairly simple. In practice, you will often face far more complex situation that often require specific work-arounds. Some very common challenges for merging data are:\n",
    "\n",
    "- **Duplicates**: Data can have repeated or conflicting entries.\n",
    "- **Inconsistent Nomenclature**: Consistency in naming conventions can save hours of data wrangling later on. A classic example being different formats of names. \"First Name Last Name\" versus \"Last Name, First Name\".\n",
    "\n",
    "It is therefore often a good strategy to work with a good identifier system where every datapoint is linked to one specific, unique ID. This can be a number, a hash, a specific code, a filename etc. "
   ]
  },
  {
   "cell_type": "markdown",
   "id": "5a6c2fe3-ba5e-4d9c-9ebc-d778df45b6be",
   "metadata": {},
   "source": [
    "## Further Cleaning Steps:\n",
    "\n",
    "- **Unit Conversion**: Ensuring data is in consistent units.\n",
    "- **Data Standardization**: This can be done via Min-Max scaling (often termed \"normalization\") or, frequently more effective, by ensuring data has a mean of 0 and a standard deviation of 1.\n",
    "- **Non-linear Transformations**: Sometimes, linear thinking won't do. Transformations like logarithms can provide new perspectives on data."
   ]
  },
  {
   "cell_type": "markdown",
   "id": "a46ad22f-6d45-4c67-acc6-7c5566ed1fd0",
   "metadata": {},
   "source": [
    "- **Data Types**: Ensuring that numeric values aren't masquerading as strings can prevent potential analytical blunders (e.g., \"12.5\" instead of 12.5).\n",
    "- **Decimal Delimiters**: Confusion between comma and dot can change data meaning, e.g., 12,010 becoming 12.01."
   ]
  },
  {
   "cell_type": "markdown",
   "id": "fdb0f08d-ee79-4ace-9d31-4548a2e18616",
   "metadata": {},
   "source": [
    "## Data Conversion and Formatting\n",
    "\n",
    "### Importance of Proper Data Types and Consistent Formatting\n",
    "\n",
    "Data types and formatting play a critical role in the accuracy and efficiency of data analysis. Incorrect data types or inconsistent formatting can lead to errors or misinterpretations during data processing. For instance, numeric values stored as strings may not be usable for calculations without conversion, and date strings may be misinterpreted if their format is not uniformly recognized. Ensuring data is correctly typed and formatted is crucial for:\n",
    "\n",
    "- **Data Quality**: Correct types and formats ensure that the data adheres to the expected standards, improving the overall quality and reliability of the dataset.\n",
    "- **Analytical Accuracy**: Proper data types are essential for performing accurate mathematical and statistical calculations.\n",
    "- **Operational Efficiency**: Operations on data, such as sorting and indexing, are more efficient when data types are appropriately set.\n",
    "\n",
    "### Converting Data Types in Pandas\n",
    "\n",
    "Pandas provides robust tools for converting data types, which is often necessary when data is imported from different sources and formats."
   ]
  },
  {
   "cell_type": "code",
   "execution_count": 50,
   "id": "df659563-cca1-41b9-84aa-49e73ef107ee",
   "metadata": {},
   "outputs": [
    {
     "name": "stdout",
     "output_type": "stream",
     "text": [
      "Data after conversion:\n",
      "   ProductID  Price        Date\n",
      "0          1  12.50  2021-01-01\n",
      "1          2  15.00  2021-01-02\n",
      "2          3  20.25  2021-01-03\n"
     ]
    }
   ],
   "source": [
    "# Sample data with incorrect data types\n",
    "data = pd.DataFrame({\n",
    "    'ProductID': ['001', '002', '003'],\n",
    "    'Price': ['12.5', '15.0', '20.25'],\n",
    "    'Date': ['2021-01-01', '2021-01-02', '2021-01-03']\n",
    "})\n",
    "\n",
    "# Convert 'ProductID' to integer\n",
    "data['ProductID'] = data['ProductID'].astype(int)\n",
    "\n",
    "# Convert 'Price' to float\n",
    "data['Price'] = data['Price'].replace(',', '.').astype(float)\n",
    "\n",
    "print(\"Data after conversion:\")\n",
    "print(data)\n"
   ]
  },
  {
   "cell_type": "markdown",
   "id": "4bb93ad2-0b91-4f2b-830c-f981ae340aaf",
   "metadata": {},
   "source": [
    "### Formatting Data\n",
    "\n",
    "Proper formatting involves converting data into a consistent and usable format. This includes date-time conversion, string manipulation, and handling decimal delimiters."
   ]
  },
  {
   "cell_type": "code",
   "execution_count": 56,
   "id": "1098ee4b-3c7d-444d-8641-94591b0439c3",
   "metadata": {},
   "outputs": [
    {
     "name": "stdout",
     "output_type": "stream",
     "text": [
      "Data after formatting Date:\n"
     ]
    },
    {
     "data": {
      "text/html": [
       "<div>\n",
       "<style scoped>\n",
       "    .dataframe tbody tr th:only-of-type {\n",
       "        vertical-align: middle;\n",
       "    }\n",
       "\n",
       "    .dataframe tbody tr th {\n",
       "        vertical-align: top;\n",
       "    }\n",
       "\n",
       "    .dataframe thead th {\n",
       "        text-align: right;\n",
       "    }\n",
       "</style>\n",
       "<table border=\"1\" class=\"dataframe\">\n",
       "  <thead>\n",
       "    <tr style=\"text-align: right;\">\n",
       "      <th></th>\n",
       "      <th>ProductID</th>\n",
       "      <th>Price</th>\n",
       "      <th>Date</th>\n",
       "    </tr>\n",
       "  </thead>\n",
       "  <tbody>\n",
       "    <tr>\n",
       "      <th>0</th>\n",
       "      <td>1</td>\n",
       "      <td>12.50</td>\n",
       "      <td>2021-01-01</td>\n",
       "    </tr>\n",
       "    <tr>\n",
       "      <th>1</th>\n",
       "      <td>2</td>\n",
       "      <td>15.00</td>\n",
       "      <td>2021-01-02</td>\n",
       "    </tr>\n",
       "    <tr>\n",
       "      <th>2</th>\n",
       "      <td>3</td>\n",
       "      <td>20.25</td>\n",
       "      <td>2021-01-03</td>\n",
       "    </tr>\n",
       "  </tbody>\n",
       "</table>\n",
       "</div>"
      ],
      "text/plain": [
       "   ProductID  Price       Date\n",
       "0          1  12.50 2021-01-01\n",
       "1          2  15.00 2021-01-02\n",
       "2          3  20.25 2021-01-03"
      ]
     },
     "execution_count": 56,
     "metadata": {},
     "output_type": "execute_result"
    }
   ],
   "source": [
    "# Convert 'Date' to datetime format\n",
    "data['Date'] = pd.to_datetime(data['Date'], format='%Y-%m-%d')\n",
    "print(\"Data after formatting Date:\")\n",
    "data.head()"
   ]
  },
  {
   "cell_type": "markdown",
   "id": "aa1af07e-23a6-444b-987b-4485e52b9385",
   "metadata": {},
   "source": [
    "#### Example: Handling Decimal Delimiters\n",
    "\n",
    "This example demonstrates how to handle a common issue where decimal delimiters vary between commas and dots, which can lead to misinterpretation of numerical values."
   ]
  },
  {
   "cell_type": "code",
   "execution_count": 55,
   "id": "64786ba6-bd9f-4104-b0fb-074e60c5a533",
   "metadata": {},
   "outputs": [
    {
     "name": "stdout",
     "output_type": "stream",
     "text": [
      "Corrected Sales Data:\n"
     ]
    },
    {
     "data": {
      "text/html": [
       "<div>\n",
       "<style scoped>\n",
       "    .dataframe tbody tr th:only-of-type {\n",
       "        vertical-align: middle;\n",
       "    }\n",
       "\n",
       "    .dataframe tbody tr th {\n",
       "        vertical-align: top;\n",
       "    }\n",
       "\n",
       "    .dataframe thead th {\n",
       "        text-align: right;\n",
       "    }\n",
       "</style>\n",
       "<table border=\"1\" class=\"dataframe\">\n",
       "  <thead>\n",
       "    <tr style=\"text-align: right;\">\n",
       "      <th></th>\n",
       "      <th>Region</th>\n",
       "      <th>Sales</th>\n",
       "    </tr>\n",
       "  </thead>\n",
       "  <tbody>\n",
       "    <tr>\n",
       "      <th>0</th>\n",
       "      <td>US</td>\n",
       "      <td>10000.50</td>\n",
       "    </tr>\n",
       "    <tr>\n",
       "      <th>1</th>\n",
       "      <td>EU</td>\n",
       "      <td>8000.75</td>\n",
       "    </tr>\n",
       "    <tr>\n",
       "      <th>2</th>\n",
       "      <td>IN</td>\n",
       "      <td>1000.00</td>\n",
       "    </tr>\n",
       "  </tbody>\n",
       "</table>\n",
       "</div>"
      ],
      "text/plain": [
       "  Region     Sales\n",
       "0     US  10000.50\n",
       "1     EU   8000.75\n",
       "2     IN   1000.00"
      ]
     },
     "execution_count": 55,
     "metadata": {},
     "output_type": "execute_result"
    }
   ],
   "source": [
    "# Sample data with decimal confusion\n",
    "sales_data = pd.DataFrame({\n",
    "    'Region': ['US', 'EU', 'IN'],\n",
    "    'Sales': ['10,000.50', '8.000,75', '1,000.00']\n",
    "})\n",
    "\n",
    "# Correcting decimal delimiters based on region\n",
    "sales_data['Sales'] = sales_data.apply(\n",
    "    lambda row: row['Sales'].replace('.', '').replace(',', '.') if row['Region'] == 'EU' else row['Sales'].replace(',', ''),\n",
    "    axis=1\n",
    ").astype(float)\n",
    "\n",
    "print(\"Corrected Sales Data:\")\n",
    "sales_data.head()"
   ]
  },
  {
   "cell_type": "markdown",
   "id": "139bce48-29bf-4ec1-a14a-18cb967fbc87",
   "metadata": {},
   "source": [
    "#### String Manipulation\n",
    "\n",
    "Handling strings effectively can also play a crucial part in cleaning data, such as trimming extra spaces, correcting typos, and standardizing text formats. String handling in Pandas mostly works just as in regular Python. By using `.str` we can access columns in a dataframe and apply specific string methods such as `.strip()` or `.split()`."
   ]
  },
  {
   "cell_type": "code",
   "execution_count": 54,
   "id": "68867791-4cbf-40cf-bc0f-a2adfbf80f90",
   "metadata": {},
   "outputs": [
    {
     "name": "stdout",
     "output_type": "stream",
     "text": [
      "Standardized Customer Names:\n"
     ]
    },
    {
     "data": {
      "text/html": [
       "<div>\n",
       "<style scoped>\n",
       "    .dataframe tbody tr th:only-of-type {\n",
       "        vertical-align: middle;\n",
       "    }\n",
       "\n",
       "    .dataframe tbody tr th {\n",
       "        vertical-align: top;\n",
       "    }\n",
       "\n",
       "    .dataframe thead th {\n",
       "        text-align: right;\n",
       "    }\n",
       "</style>\n",
       "<table border=\"1\" class=\"dataframe\">\n",
       "  <thead>\n",
       "    <tr style=\"text-align: right;\">\n",
       "      <th></th>\n",
       "      <th>CustomerName</th>\n",
       "    </tr>\n",
       "  </thead>\n",
       "  <tbody>\n",
       "    <tr>\n",
       "      <th>0</th>\n",
       "      <td>Alice</td>\n",
       "    </tr>\n",
       "    <tr>\n",
       "      <th>1</th>\n",
       "      <td>Bob</td>\n",
       "    </tr>\n",
       "    <tr>\n",
       "      <th>2</th>\n",
       "      <td>Charles</td>\n",
       "    </tr>\n",
       "  </tbody>\n",
       "</table>\n",
       "</div>"
      ],
      "text/plain": [
       "  CustomerName\n",
       "0        Alice\n",
       "1          Bob\n",
       "2      Charles"
      ]
     },
     "execution_count": 54,
     "metadata": {},
     "output_type": "execute_result"
    }
   ],
   "source": [
    "# Sample data with string inconsistencies\n",
    "customer_data = pd.DataFrame({\n",
    "    'CustomerName': [' Alice ', 'bob', 'CHARLES']\n",
    "})\n",
    "\n",
    "# Standardizing string format: trim, lower case, capitalize\n",
    "customer_data['CustomerName'] = customer_data['CustomerName'].str.strip().str.lower().str.capitalize()\n",
    "\n",
    "print(\"Standardized Customer Names:\")\n",
    "customer_data.head()"
   ]
  },
  {
   "cell_type": "markdown",
   "id": "fc7dc704-2d91-4d66-84cb-3014911cfae4",
   "metadata": {},
   "source": [
    "## Further Cleaning Steps\n",
    "### Removing Duplicates\n",
    "\n",
    "Duplicate entries in a dataset can skew analysis and lead to incorrect conclusions.\n",
    "It's often important to identify and remove duplicates to ensure data integrity."
   ]
  },
  {
   "cell_type": "code",
   "execution_count": 57,
   "id": "03e249c5-051e-4506-97d4-d079e32a70a1",
   "metadata": {},
   "outputs": [
    {
     "name": "stdout",
     "output_type": "stream",
     "text": [
      "Original Data:\n"
     ]
    },
    {
     "data": {
      "text/html": [
       "<div>\n",
       "<style scoped>\n",
       "    .dataframe tbody tr th:only-of-type {\n",
       "        vertical-align: middle;\n",
       "    }\n",
       "\n",
       "    .dataframe tbody tr th {\n",
       "        vertical-align: top;\n",
       "    }\n",
       "\n",
       "    .dataframe thead th {\n",
       "        text-align: right;\n",
       "    }\n",
       "</style>\n",
       "<table border=\"1\" class=\"dataframe\">\n",
       "  <thead>\n",
       "    <tr style=\"text-align: right;\">\n",
       "      <th></th>\n",
       "      <th>CustomerID</th>\n",
       "      <th>Name</th>\n",
       "      <th>PurchaseAmount</th>\n",
       "    </tr>\n",
       "  </thead>\n",
       "  <tbody>\n",
       "    <tr>\n",
       "      <th>0</th>\n",
       "      <td>1</td>\n",
       "      <td>Alice</td>\n",
       "      <td>250</td>\n",
       "    </tr>\n",
       "    <tr>\n",
       "      <th>1</th>\n",
       "      <td>2</td>\n",
       "      <td>Bob</td>\n",
       "      <td>150</td>\n",
       "    </tr>\n",
       "    <tr>\n",
       "      <th>2</th>\n",
       "      <td>2</td>\n",
       "      <td>Bob</td>\n",
       "      <td>150</td>\n",
       "    </tr>\n",
       "    <tr>\n",
       "      <th>3</th>\n",
       "      <td>3</td>\n",
       "      <td>Charlie</td>\n",
       "      <td>300</td>\n",
       "    </tr>\n",
       "    <tr>\n",
       "      <th>4</th>\n",
       "      <td>4</td>\n",
       "      <td>Dave</td>\n",
       "      <td>400</td>\n",
       "    </tr>\n",
       "  </tbody>\n",
       "</table>\n",
       "</div>"
      ],
      "text/plain": [
       "   CustomerID     Name  PurchaseAmount\n",
       "0           1    Alice             250\n",
       "1           2      Bob             150\n",
       "2           2      Bob             150\n",
       "3           3  Charlie             300\n",
       "4           4     Dave             400"
      ]
     },
     "execution_count": 57,
     "metadata": {},
     "output_type": "execute_result"
    }
   ],
   "source": [
    "# Sample data with duplicate entries\n",
    "data = pd.DataFrame({\n",
    "    'CustomerID': [1, 2, 2, 3, 4, 4, 4],\n",
    "    'Name': ['Alice', 'Bob', 'Bob', 'Charlie', 'Dave', 'Dave', 'Dave'],\n",
    "    'PurchaseAmount': [250, 150, 150, 300, 400, 400, 400]\n",
    "})\n",
    "\n",
    "print(\"Original Data:\")\n",
    "data.head()"
   ]
  },
  {
   "cell_type": "code",
   "execution_count": 58,
   "id": "b2a2d238-0661-495d-98b7-9cf720814f9f",
   "metadata": {},
   "outputs": [
    {
     "name": "stdout",
     "output_type": "stream",
     "text": [
      "Data after Removing Duplicates:\n"
     ]
    },
    {
     "data": {
      "text/html": [
       "<div>\n",
       "<style scoped>\n",
       "    .dataframe tbody tr th:only-of-type {\n",
       "        vertical-align: middle;\n",
       "    }\n",
       "\n",
       "    .dataframe tbody tr th {\n",
       "        vertical-align: top;\n",
       "    }\n",
       "\n",
       "    .dataframe thead th {\n",
       "        text-align: right;\n",
       "    }\n",
       "</style>\n",
       "<table border=\"1\" class=\"dataframe\">\n",
       "  <thead>\n",
       "    <tr style=\"text-align: right;\">\n",
       "      <th></th>\n",
       "      <th>CustomerID</th>\n",
       "      <th>Name</th>\n",
       "      <th>PurchaseAmount</th>\n",
       "    </tr>\n",
       "  </thead>\n",
       "  <tbody>\n",
       "    <tr>\n",
       "      <th>0</th>\n",
       "      <td>1</td>\n",
       "      <td>Alice</td>\n",
       "      <td>250</td>\n",
       "    </tr>\n",
       "    <tr>\n",
       "      <th>1</th>\n",
       "      <td>2</td>\n",
       "      <td>Bob</td>\n",
       "      <td>150</td>\n",
       "    </tr>\n",
       "    <tr>\n",
       "      <th>3</th>\n",
       "      <td>3</td>\n",
       "      <td>Charlie</td>\n",
       "      <td>300</td>\n",
       "    </tr>\n",
       "    <tr>\n",
       "      <th>4</th>\n",
       "      <td>4</td>\n",
       "      <td>Dave</td>\n",
       "      <td>400</td>\n",
       "    </tr>\n",
       "  </tbody>\n",
       "</table>\n",
       "</div>"
      ],
      "text/plain": [
       "   CustomerID     Name  PurchaseAmount\n",
       "0           1    Alice             250\n",
       "1           2      Bob             150\n",
       "3           3  Charlie             300\n",
       "4           4     Dave             400"
      ]
     },
     "execution_count": 58,
     "metadata": {},
     "output_type": "execute_result"
    }
   ],
   "source": [
    "# Removing duplicates\n",
    "data_unique = data.drop_duplicates()\n",
    "print(\"Data after Removing Duplicates:\")\n",
    "data_unique.head()"
   ]
  },
  {
   "cell_type": "markdown",
   "id": "ef0c4b06-d5ed-4276-ade7-83cc63f0ed0a",
   "metadata": {},
   "source": [
    "### Standardizing Data\n",
    "\n",
    "Data standardization involves rescaling the values to a standard, such as having a mean of zero and a standard deviation of one (z-score standardization), or scaling data to a fixed range like 0 to 1 (normalization). This is crucial for many algorithms, including many algorithms in dimensionality reduction, clustering or many machine learning. We will therefore skip this for now, and address this question in later chapters where this processing step becomes crucial."
   ]
  },
  {
   "cell_type": "markdown",
   "id": "2a9f69c6-ad33-4ef0-ae2d-cb04b5abf216",
   "metadata": {},
   "source": [
    "## Conclusions\n",
    "\n",
    "In essence, data acquisition and preparation are the unsung heroes of a successful data science endeavor. By ensuring the foundation is robust and the raw materials are of top quality, you set the stage for analytical brilliance.\n",
    "\n",
    "From my own experience: It is not uncommon that 80% of the work in a data science project goes into the data acquisition and cleaning."
   ]
  },
  {
   "cell_type": "code",
   "execution_count": null,
   "id": "f74328f7-9b5a-4dc5-9a27-eca33eca987a",
   "metadata": {},
   "outputs": [],
   "source": []
  }
 ],
 "metadata": {
  "celltoolbar": "Tags",
  "kernelspec": {
   "display_name": "Python 3 (ipykernel)",
   "language": "python",
   "name": "python3"
  },
  "language_info": {
   "codemirror_mode": {
    "name": "ipython",
    "version": 3
   },
   "file_extension": ".py",
   "mimetype": "text/x-python",
   "name": "python",
   "nbconvert_exporter": "python",
   "pygments_lexer": "ipython3",
   "version": "3.9.18"
  }
 },
 "nbformat": 4,
 "nbformat_minor": 5
}
